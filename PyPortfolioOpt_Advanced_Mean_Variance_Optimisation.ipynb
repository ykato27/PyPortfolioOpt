{
  "nbformat": 4,
  "nbformat_minor": 0,
  "metadata": {
    "kernelspec": {
      "display_name": "pyportfolioopt",
      "language": "python",
      "name": "pyportfolioopt"
    },
    "language_info": {
      "codemirror_mode": {
        "name": "ipython",
        "version": 3
      },
      "file_extension": ".py",
      "mimetype": "text/x-python",
      "name": "python",
      "nbconvert_exporter": "python",
      "pygments_lexer": "ipython3",
      "version": "3.8.6"
    },
    "colab": {
      "name": "PyPortfolioOpt-Advanced-Mean-Variance-Optimisation.ipynb",
      "provenance": [],
      "include_colab_link": true
    }
  },
  "cells": [
    {
      "cell_type": "markdown",
      "metadata": {
        "id": "view-in-github",
        "colab_type": "text"
      },
      "source": [
        "<a href=\"https://colab.research.google.com/github/ykato27/PyPortfolioOpt/blob/main/PyPortfolioOpt_Advanced_Mean_Variance_Optimisation.ipynb\" target=\"_parent\"><img src=\"https://colab.research.google.com/assets/colab-badge.svg\" alt=\"Open In Colab\"/></a>"
      ]
    },
    {
      "cell_type": "markdown",
      "metadata": {
        "id": "F5QVoFx6_7yV"
      },
      "source": [
        "# Advanced MVO - custom objectives\n",
        "\n",
        "PyPortfolioOpt has implemented some of the most common objective functions (e.g `min_volatility`, `max_sharpe`, `max_quadratic_utility`, `efficient_risk`, `efficient_return`). However, sometimes yoy may have an idea for a different objective function.\n",
        "\n",
        "In this cookbook recipe, we cover:\n",
        "\n",
        "- Mininimising transaction costs\n",
        "- Custom convex objectives\n",
        "- Custom nonconvex objectives\n",
        "\n",
        "## Acquiring data\n",
        "\n",
        "As discussed in the previous notebook, assets are an exogenous input (i.e you must come up with a list of tickers). We will use `yfinance` to download data for thesee tickers"
      ]
    },
    {
      "cell_type": "code",
      "metadata": {
        "colab": {
          "base_uri": "https://localhost:8080/"
        },
        "id": "IVTUUIlfAAga",
        "outputId": "33d0c430-e637-4d3c-a540-635e404ee6e9"
      },
      "source": [
        "!pip install PyPortfolioOpt\n",
        "!pip install yfinance"
      ],
      "execution_count": 1,
      "outputs": [
        {
          "output_type": "stream",
          "text": [
            "Requirement already satisfied: PyPortfolioOpt in /usr/local/lib/python3.7/dist-packages (1.4.2)\n",
            "Requirement already satisfied: cvxpy<2.0.0,>=1.1.10 in /usr/local/lib/python3.7/dist-packages (from PyPortfolioOpt) (1.1.13)\n",
            "Requirement already satisfied: numpy<2.0,>=1.12 in /usr/local/lib/python3.7/dist-packages (from PyPortfolioOpt) (1.19.5)\n",
            "Requirement already satisfied: scipy<2.0,>=1.3 in /usr/local/lib/python3.7/dist-packages (from PyPortfolioOpt) (1.4.1)\n",
            "Requirement already satisfied: pandas>=0.19 in /usr/local/lib/python3.7/dist-packages (from PyPortfolioOpt) (1.1.5)\n",
            "Requirement already satisfied: ecos>=2 in /usr/local/lib/python3.7/dist-packages (from cvxpy<2.0.0,>=1.1.10->PyPortfolioOpt) (2.0.7.post1)\n",
            "Requirement already satisfied: osqp>=0.4.1 in /usr/local/lib/python3.7/dist-packages (from cvxpy<2.0.0,>=1.1.10->PyPortfolioOpt) (0.6.2.post0)\n",
            "Requirement already satisfied: scs>=1.1.6 in /usr/local/lib/python3.7/dist-packages (from cvxpy<2.0.0,>=1.1.10->PyPortfolioOpt) (2.1.4)\n",
            "Requirement already satisfied: pytz>=2017.2 in /usr/local/lib/python3.7/dist-packages (from pandas>=0.19->PyPortfolioOpt) (2018.9)\n",
            "Requirement already satisfied: python-dateutil>=2.7.3 in /usr/local/lib/python3.7/dist-packages (from pandas>=0.19->PyPortfolioOpt) (2.8.1)\n",
            "Requirement already satisfied: qdldl in /usr/local/lib/python3.7/dist-packages (from osqp>=0.4.1->cvxpy<2.0.0,>=1.1.10->PyPortfolioOpt) (0.1.5.post0)\n",
            "Requirement already satisfied: six>=1.5 in /usr/local/lib/python3.7/dist-packages (from python-dateutil>=2.7.3->pandas>=0.19->PyPortfolioOpt) (1.15.0)\n",
            "Requirement already satisfied: yfinance in /usr/local/lib/python3.7/dist-packages (0.1.59)\n",
            "Requirement already satisfied: multitasking>=0.0.7 in /usr/local/lib/python3.7/dist-packages (from yfinance) (0.0.9)\n",
            "Requirement already satisfied: numpy>=1.15 in /usr/local/lib/python3.7/dist-packages (from yfinance) (1.19.5)\n",
            "Requirement already satisfied: lxml>=4.5.1 in /usr/local/lib/python3.7/dist-packages (from yfinance) (4.6.3)\n",
            "Requirement already satisfied: pandas>=0.24 in /usr/local/lib/python3.7/dist-packages (from yfinance) (1.1.5)\n",
            "Requirement already satisfied: requests>=2.20 in /usr/local/lib/python3.7/dist-packages (from yfinance) (2.23.0)\n",
            "Requirement already satisfied: python-dateutil>=2.7.3 in /usr/local/lib/python3.7/dist-packages (from pandas>=0.24->yfinance) (2.8.1)\n",
            "Requirement already satisfied: pytz>=2017.2 in /usr/local/lib/python3.7/dist-packages (from pandas>=0.24->yfinance) (2018.9)\n",
            "Requirement already satisfied: chardet<4,>=3.0.2 in /usr/local/lib/python3.7/dist-packages (from requests>=2.20->yfinance) (3.0.4)\n",
            "Requirement already satisfied: idna<3,>=2.5 in /usr/local/lib/python3.7/dist-packages (from requests>=2.20->yfinance) (2.10)\n",
            "Requirement already satisfied: certifi>=2017.4.17 in /usr/local/lib/python3.7/dist-packages (from requests>=2.20->yfinance) (2021.5.30)\n",
            "Requirement already satisfied: urllib3!=1.25.0,!=1.25.1,<1.26,>=1.21.1 in /usr/local/lib/python3.7/dist-packages (from requests>=2.20->yfinance) (1.24.3)\n",
            "Requirement already satisfied: six>=1.5 in /usr/local/lib/python3.7/dist-packages (from python-dateutil>=2.7.3->pandas>=0.24->yfinance) (1.15.0)\n"
          ],
          "name": "stdout"
        }
      ]
    },
    {
      "cell_type": "code",
      "metadata": {
        "id": "oOoRdUTf_7yW"
      },
      "source": [
        "import yfinance as yf\n",
        "import pandas as pd\n",
        "import numpy as np\n",
        "import matplotlib.pyplot as plt"
      ],
      "execution_count": 2,
      "outputs": []
    },
    {
      "cell_type": "code",
      "metadata": {
        "id": "gTLR4qw3_7yW"
      },
      "source": [
        "tickers = [\"BLK\", \"BAC\", \"AAPL\", \"TM\", \"WMT\",\n",
        "           \"JD\", \"INTU\", \"MA\", \"UL\", \"CVS\",\n",
        "           \"DIS\", \"AMD\", \"NVDA\", \"PBI\", \"TGT\"]"
      ],
      "execution_count": 3,
      "outputs": []
    },
    {
      "cell_type": "code",
      "metadata": {
        "colab": {
          "base_uri": "https://localhost:8080/"
        },
        "id": "kGSLHiDh_7yX",
        "outputId": "783a7da0-2b0d-473a-ad1e-9f5924ed893f"
      },
      "source": [
        "ohlc = yf.download(tickers, period=\"max\")"
      ],
      "execution_count": 4,
      "outputs": [
        {
          "output_type": "stream",
          "text": [
            "[*********************100%***********************]  15 of 15 completed\n"
          ],
          "name": "stdout"
        }
      ]
    },
    {
      "cell_type": "code",
      "metadata": {
        "colab": {
          "base_uri": "https://localhost:8080/",
          "height": 340
        },
        "id": "KthWEwjb_7yY",
        "outputId": "73478ee0-d93e-4acb-dcbe-eee75b237e80"
      },
      "source": [
        "prices = ohlc[\"Adj Close\"]\n",
        "prices.tail()"
      ],
      "execution_count": 5,
      "outputs": [
        {
          "output_type": "execute_result",
          "data": {
            "text/html": [
              "<div>\n",
              "<style scoped>\n",
              "    .dataframe tbody tr th:only-of-type {\n",
              "        vertical-align: middle;\n",
              "    }\n",
              "\n",
              "    .dataframe tbody tr th {\n",
              "        vertical-align: top;\n",
              "    }\n",
              "\n",
              "    .dataframe thead th {\n",
              "        text-align: right;\n",
              "    }\n",
              "</style>\n",
              "<table border=\"1\" class=\"dataframe\">\n",
              "  <thead>\n",
              "    <tr style=\"text-align: right;\">\n",
              "      <th></th>\n",
              "      <th>AAPL</th>\n",
              "      <th>AMD</th>\n",
              "      <th>BAC</th>\n",
              "      <th>BLK</th>\n",
              "      <th>CVS</th>\n",
              "      <th>DIS</th>\n",
              "      <th>INTU</th>\n",
              "      <th>JD</th>\n",
              "      <th>MA</th>\n",
              "      <th>NVDA</th>\n",
              "      <th>PBI</th>\n",
              "      <th>TGT</th>\n",
              "      <th>TM</th>\n",
              "      <th>UL</th>\n",
              "      <th>WMT</th>\n",
              "    </tr>\n",
              "    <tr>\n",
              "      <th>Date</th>\n",
              "      <th></th>\n",
              "      <th></th>\n",
              "      <th></th>\n",
              "      <th></th>\n",
              "      <th></th>\n",
              "      <th></th>\n",
              "      <th></th>\n",
              "      <th></th>\n",
              "      <th></th>\n",
              "      <th></th>\n",
              "      <th></th>\n",
              "      <th></th>\n",
              "      <th></th>\n",
              "      <th></th>\n",
              "      <th></th>\n",
              "    </tr>\n",
              "  </thead>\n",
              "  <tbody>\n",
              "    <tr>\n",
              "      <th>2021-06-25</th>\n",
              "      <td>133.110001</td>\n",
              "      <td>85.620003</td>\n",
              "      <td>41.619999</td>\n",
              "      <td>874.030029</td>\n",
              "      <td>84.080002</td>\n",
              "      <td>178.350006</td>\n",
              "      <td>486.089996</td>\n",
              "      <td>78.230003</td>\n",
              "      <td>379.609985</td>\n",
              "      <td>761.239990</td>\n",
              "      <td>9.00</td>\n",
              "      <td>240.550003</td>\n",
              "      <td>178.100006</td>\n",
              "      <td>59.580002</td>\n",
              "      <td>138.529999</td>\n",
              "    </tr>\n",
              "    <tr>\n",
              "      <th>2021-06-28</th>\n",
              "      <td>134.779999</td>\n",
              "      <td>87.080002</td>\n",
              "      <td>41.560001</td>\n",
              "      <td>878.739990</td>\n",
              "      <td>84.120003</td>\n",
              "      <td>176.570007</td>\n",
              "      <td>486.989990</td>\n",
              "      <td>77.120003</td>\n",
              "      <td>367.679993</td>\n",
              "      <td>799.400024</td>\n",
              "      <td>8.89</td>\n",
              "      <td>241.259995</td>\n",
              "      <td>177.070007</td>\n",
              "      <td>59.509998</td>\n",
              "      <td>138.100006</td>\n",
              "    </tr>\n",
              "    <tr>\n",
              "      <th>2021-06-29</th>\n",
              "      <td>136.330002</td>\n",
              "      <td>89.519997</td>\n",
              "      <td>40.889999</td>\n",
              "      <td>873.530029</td>\n",
              "      <td>83.489998</td>\n",
              "      <td>173.929993</td>\n",
              "      <td>491.399994</td>\n",
              "      <td>79.750000</td>\n",
              "      <td>368.000000</td>\n",
              "      <td>801.070007</td>\n",
              "      <td>8.85</td>\n",
              "      <td>241.850006</td>\n",
              "      <td>176.729996</td>\n",
              "      <td>59.259998</td>\n",
              "      <td>137.300003</td>\n",
              "    </tr>\n",
              "    <tr>\n",
              "      <th>2021-06-30</th>\n",
              "      <td>136.960007</td>\n",
              "      <td>93.930000</td>\n",
              "      <td>41.230000</td>\n",
              "      <td>874.969971</td>\n",
              "      <td>83.440002</td>\n",
              "      <td>175.770004</td>\n",
              "      <td>490.170013</td>\n",
              "      <td>79.809998</td>\n",
              "      <td>365.089996</td>\n",
              "      <td>800.099976</td>\n",
              "      <td>8.77</td>\n",
              "      <td>241.740005</td>\n",
              "      <td>174.839996</td>\n",
              "      <td>58.500000</td>\n",
              "      <td>141.020004</td>\n",
              "    </tr>\n",
              "    <tr>\n",
              "      <th>2021-07-01</th>\n",
              "      <td>137.270004</td>\n",
              "      <td>93.309998</td>\n",
              "      <td>41.540001</td>\n",
              "      <td>879.229980</td>\n",
              "      <td>82.220001</td>\n",
              "      <td>177.259995</td>\n",
              "      <td>491.049988</td>\n",
              "      <td>77.440002</td>\n",
              "      <td>370.709991</td>\n",
              "      <td>808.479980</td>\n",
              "      <td>8.78</td>\n",
              "      <td>243.470001</td>\n",
              "      <td>175.479996</td>\n",
              "      <td>58.779999</td>\n",
              "      <td>139.320007</td>\n",
              "    </tr>\n",
              "  </tbody>\n",
              "</table>\n",
              "</div>"
            ],
            "text/plain": [
              "                  AAPL        AMD        BAC  ...          TM         UL         WMT\n",
              "Date                                          ...                                   \n",
              "2021-06-25  133.110001  85.620003  41.619999  ...  178.100006  59.580002  138.529999\n",
              "2021-06-28  134.779999  87.080002  41.560001  ...  177.070007  59.509998  138.100006\n",
              "2021-06-29  136.330002  89.519997  40.889999  ...  176.729996  59.259998  137.300003\n",
              "2021-06-30  136.960007  93.930000  41.230000  ...  174.839996  58.500000  141.020004\n",
              "2021-07-01  137.270004  93.309998  41.540001  ...  175.479996  58.779999  139.320007\n",
              "\n",
              "[5 rows x 15 columns]"
            ]
          },
          "metadata": {
            "tags": []
          },
          "execution_count": 5
        }
      ]
    },
    {
      "cell_type": "markdown",
      "metadata": {
        "id": "z0NGmE6Q_7yY"
      },
      "source": [
        "## Expected returns and risk models\n",
        "\n",
        "In this notebook, we will use James-Stein shrinkage and semicovariance (which only penalises downside risk)."
      ]
    },
    {
      "cell_type": "code",
      "metadata": {
        "colab": {
          "base_uri": "https://localhost:8080/",
          "height": 35
        },
        "id": "OAUzK_RN_7yZ",
        "outputId": "d72a89d8-d923-487e-bc6b-3fa2953cecc6"
      },
      "source": [
        "import pypfopt\n",
        "pypfopt.__version__"
      ],
      "execution_count": 6,
      "outputs": [
        {
          "output_type": "execute_result",
          "data": {
            "application/vnd.google.colaboratory.intrinsic+json": {
              "type": "string"
            },
            "text/plain": [
              "'1.4.2'"
            ]
          },
          "metadata": {
            "tags": []
          },
          "execution_count": 6
        }
      ]
    },
    {
      "cell_type": "code",
      "metadata": {
        "id": "UNU0X3qH_7yZ"
      },
      "source": [
        "from pypfopt import risk_models, expected_returns\n",
        "from pypfopt import plotting\n",
        "\n",
        "mu = expected_returns.capm_return(prices)\n",
        "S = risk_models.semicovariance(prices)"
      ],
      "execution_count": 7,
      "outputs": []
    },
    {
      "cell_type": "code",
      "metadata": {
        "colab": {
          "base_uri": "https://localhost:8080/",
          "height": 320
        },
        "id": "H8MImHpy_7ya",
        "outputId": "6bd31655-47a4-4372-f27d-0f542cd88b64"
      },
      "source": [
        "mu.plot.barh(figsize=(10,5));"
      ],
      "execution_count": 8,
      "outputs": [
        {
          "output_type": "display_data",
          "data": {
            "image/png": "[encoded data removed]",
            "text/plain": [
              "<Figure size 720x360 with 1 Axes>"
            ]
          },
          "metadata": {
            "tags": [],
            "needs_background": "light"
          }
        }
      ]
    },
    {
      "cell_type": "code",
      "metadata": {
        "colab": {
          "base_uri": "https://localhost:8080/",
          "height": 297
        },
        "id": "zIPPwrwy_7ya",
        "outputId": "e14caa1b-2347-4acc-d50a-844836bd740a"
      },
      "source": [
        "plotting.plot_covariance(S, plot_correlation=True);"
      ],
      "execution_count": 9,
      "outputs": [
        {
          "output_type": "display_data",
          "data": {
            "image/png": "[encoded data removed]",
            "text/plain": [
              "<Figure size 432x288 with 2 Axes>"
            ]
          },
          "metadata": {
            "tags": [],
            "needs_background": "light"
          }
        }
      ]
    },
    {
      "cell_type": "markdown",
      "metadata": {
        "id": "EoNBr8Z7_7ya"
      },
      "source": [
        "## Min volatility with a transaction cost objective\n",
        "\n",
        "Let's say that you already have a portfolio, and want to now optimize it. It could be quite expensive to completely reallocate, so you may want to take into account transaction costs. PyPortfolioOpt provides a simple objective to account for this.\n",
        "\n",
        "Note: this objective will not play nicely with `max_sharpe`."
      ]
    },
    {
      "cell_type": "code",
      "metadata": {
        "id": "4zMbT2oB_7yb"
      },
      "source": [
        "# Pretend that you started with a default-weight allocation\n",
        "initial_weights = np.array([1/len(tickers)] * len(tickers))"
      ],
      "execution_count": 10,
      "outputs": []
    },
    {
      "cell_type": "code",
      "metadata": {
        "colab": {
          "base_uri": "https://localhost:8080/"
        },
        "id": "1m-yMSfU_7yb",
        "outputId": "ae7c9d71-d6ea-4971-9a43-0fafe897874f"
      },
      "source": [
        "from pypfopt import EfficientFrontier, objective_functions\n",
        "\n",
        "ef = EfficientFrontier(mu, S)\n",
        "\n",
        "# 1% broker commission\n",
        "ef.add_objective(objective_functions.transaction_cost, w_prev=initial_weights, k=0.01)\n",
        "ef.min_volatility()\n",
        "weights = ef.clean_weights()\n",
        "weights"
      ],
      "execution_count": 11,
      "outputs": [
        {
          "output_type": "execute_result",
          "data": {
            "text/plain": [
              "OrderedDict([('AAPL', 0.02354),\n",
              "             ('AMD', 0.0),\n",
              "             ('BAC', 0.00715),\n",
              "             ('BLK', 0.06667),\n",
              "             ('CVS', 0.06667),\n",
              "             ('DIS', 0.06667),\n",
              "             ('INTU', 0.06667),\n",
              "             ('JD', 0.24413),\n",
              "             ('MA', 0.06667),\n",
              "             ('NVDA', 0.05851),\n",
              "             ('PBI', 0.06667),\n",
              "             ('TGT', 0.06667),\n",
              "             ('TM', 0.06667),\n",
              "             ('UL', 0.06667),\n",
              "             ('WMT', 0.06667)])"
            ]
          },
          "metadata": {
            "tags": []
          },
          "execution_count": 11
        }
      ]
    },
    {
      "cell_type": "markdown",
      "metadata": {
        "id": "Ymr2qh-9_7yb"
      },
      "source": [
        "Notice that many of the weights are 0.06667, i.e your original equal weight. In fact, the only change has been an allocation of AMD's weight to JD. If we lower the cost `k`, the allocation will change more:"
      ]
    },
    {
      "cell_type": "code",
      "metadata": {
        "colab": {
          "base_uri": "https://localhost:8080/"
        },
        "id": "7kokveHW_7yb",
        "outputId": "4c47ce6e-5220-4e3f-f20b-c007a1bd797a"
      },
      "source": [
        "ef = EfficientFrontier(mu, S)\n",
        "ef.add_objective(objective_functions.transaction_cost, w_prev=initial_weights, k=0.001)\n",
        "ef.min_volatility()\n",
        "weights = ef.clean_weights()\n",
        "weights"
      ],
      "execution_count": 12,
      "outputs": [
        {
          "output_type": "execute_result",
          "data": {
            "text/plain": [
              "OrderedDict([('AAPL', 0.0),\n",
              "             ('AMD', 0.0),\n",
              "             ('BAC', 0.0),\n",
              "             ('BLK', 0.06667),\n",
              "             ('CVS', 0.04082),\n",
              "             ('DIS', 0.0),\n",
              "             ('INTU', 0.01468),\n",
              "             ('JD', 0.46878),\n",
              "             ('MA', 0.1795),\n",
              "             ('NVDA', 0.0),\n",
              "             ('PBI', 0.0),\n",
              "             ('TGT', 0.00215),\n",
              "             ('TM', 0.06667),\n",
              "             ('UL', 0.09407),\n",
              "             ('WMT', 0.06667)])"
            ]
          },
          "metadata": {
            "tags": []
          },
          "execution_count": 12
        }
      ]
    },
    {
      "cell_type": "markdown",
      "metadata": {
        "id": "gXMB4Lmf_7yc"
      },
      "source": [
        "The optimizer seems to really like JD. The reason for this is that it is highly anticorrelated to other assets (notice the dark column in the covariance plot). Hence, historically, it adds a lot of diversification. But it is dangerous to place too much emphasis on what happened in the past, so we may want to limit the asset weights. \n",
        "\n",
        "In addition, we notice that 4 stocks have now been allocated zero weight, which may be undesirable. Both of these problems can be fixed by adding an [L2 regularisation objective](https://pyportfolioopt.readthedocs.io/en/latest/EfficientFrontier.html#more-on-l2-regularisation). "
      ]
    },
    {
      "cell_type": "code",
      "metadata": {
        "colab": {
          "base_uri": "https://localhost:8080/"
        },
        "id": "nI0GRkUp_7yc",
        "outputId": "566149fd-20d1-4875-dae7-68c9e2ff5f3f"
      },
      "source": [
        "ef = EfficientFrontier(mu, S)\n",
        "ef.add_objective(objective_functions.transaction_cost, w_prev=initial_weights, k=0.001)\n",
        "ef.add_objective(objective_functions.L2_reg)\n",
        "ef.min_volatility()\n",
        "weights = ef.clean_weights()\n",
        "weights"
      ],
      "execution_count": 13,
      "outputs": [
        {
          "output_type": "execute_result",
          "data": {
            "text/plain": [
              "OrderedDict([('AAPL', 0.06181),\n",
              "             ('AMD', 0.05381),\n",
              "             ('BAC', 0.0621),\n",
              "             ('BLK', 0.07042),\n",
              "             ('CVS', 0.06672),\n",
              "             ('DIS', 0.06511),\n",
              "             ('INTU', 0.06667),\n",
              "             ('JD', 0.07734),\n",
              "             ('MA', 0.07337),\n",
              "             ('NVDA', 0.06394),\n",
              "             ('PBI', 0.06493),\n",
              "             ('TGT', 0.06597),\n",
              "             ('TM', 0.06912),\n",
              "             ('UL', 0.07077),\n",
              "             ('WMT', 0.06793)])"
            ]
          },
          "metadata": {
            "tags": []
          },
          "execution_count": 13
        }
      ]
    },
    {
      "cell_type": "markdown",
      "metadata": {
        "id": "BKi1xKdx_7yc"
      },
      "source": [
        "This has had too much of an evening-out effect. After all, if the resulting allocation is going to be so close to equal weights, we may as well stick with our initial allocation. We can reduce the strength of the L2 regularisation by reducing `gamma`:"
      ]
    },
    {
      "cell_type": "code",
      "metadata": {
        "colab": {
          "base_uri": "https://localhost:8080/"
        },
        "id": "Zvt6U1x8_7ye",
        "outputId": "6400404f-cdf0-4a08-cf4f-51531ddd4040"
      },
      "source": [
        "ef = EfficientFrontier(mu, S)\n",
        "ef.add_objective(objective_functions.transaction_cost, w_prev=initial_weights, k=0.001)\n",
        "ef.add_objective(objective_functions.L2_reg, gamma=0.05)  # default is 1\n",
        "ef.min_volatility()\n",
        "weights = ef.clean_weights()\n",
        "weights"
      ],
      "execution_count": 14,
      "outputs": [
        {
          "output_type": "execute_result",
          "data": {
            "text/plain": [
              "OrderedDict([('AAPL', 0.01911),\n",
              "             ('AMD', 0.0),\n",
              "             ('BAC', 0.00772),\n",
              "             ('BLK', 0.09583),\n",
              "             ('CVS', 0.06667),\n",
              "             ('DIS', 0.04297),\n",
              "             ('INTU', 0.06074),\n",
              "             ('JD', 0.19165),\n",
              "             ('MA', 0.13701),\n",
              "             ('NVDA', 0.02935),\n",
              "             ('PBI', 0.03853),\n",
              "             ('TGT', 0.05119),\n",
              "             ('TM', 0.08375),\n",
              "             ('UL', 0.10356),\n",
              "             ('WMT', 0.07192)])"
            ]
          },
          "metadata": {
            "tags": []
          },
          "execution_count": 14
        }
      ]
    },
    {
      "cell_type": "code",
      "metadata": {
        "colab": {
          "base_uri": "https://localhost:8080/"
        },
        "id": "ppzMWf84_7ye",
        "outputId": "c077a66b-b064-42cb-ae64-bdea482de2b0"
      },
      "source": [
        "ef.portfolio_performance(verbose=True);"
      ],
      "execution_count": 15,
      "outputs": [
        {
          "output_type": "stream",
          "text": [
            "Expected annual return: 17.9%\n",
            "Annual volatility: 9.5%\n",
            "Sharpe Ratio: 1.68\n"
          ],
          "name": "stdout"
        }
      ]
    },
    {
      "cell_type": "markdown",
      "metadata": {
        "id": "y88GUmDx_7yf"
      },
      "source": [
        "This portfolio is now reasonably balanced, but also puts significantly more weight on JD. "
      ]
    },
    {
      "cell_type": "code",
      "metadata": {
        "colab": {
          "base_uri": "https://localhost:8080/",
          "height": 575
        },
        "id": "7IU6QN0Y_7yf",
        "outputId": "9d0ce8db-4142-444f-ee3d-538b275d4b63"
      },
      "source": [
        "pd.Series(weights).plot.pie(figsize=(10,10));"
      ],
      "execution_count": 16,
      "outputs": [
        {
          "output_type": "display_data",
          "data": {
            "image/png": "[encoded data removed]",
            "text/plain": [
              "<Figure size 720x720 with 1 Axes>"
            ]
          },
          "metadata": {
            "tags": []
          }
        }
      ]
    },
    {
      "cell_type": "markdown",
      "metadata": {
        "id": "9_OfjAID_7yf"
      },
      "source": [
        "## Custom convex objectives\n",
        "\n",
        "PyPortfolioOpt comes with the following built-in objective functions, as of v1.2.1:\n",
        "\n",
        "- Portfolio variance (i.e square of volatility)\n",
        "- Portfolio return\n",
        "- Sharpe ratio\n",
        "- L2 regularisation (minimising this reduces nonzero weights)\n",
        "- Quadratic utility\n",
        "- Transaction cost model (a simple one)\n",
        "\n",
        "However, you may want have a different objective. If this new objective is **convex**, you can optimize a portfolio with the full benefit of PyPortfolioOpt's modular syntax, for example adding other constraints and objectives.\n",
        "\n",
        "To demonstrate this, we will minimise the **logarithmic-barrier** function suggested in the paper 60 Years of Portfolio Optimization, by Kolm et al (2014):\n",
        "\n",
        "$$f(w, S, k) = w^T S w - k \\sum_{i=1}^N \\ln w$$\n",
        "\n",
        "We must first convert this mathematical objective into the language of cvxpy. Cvxpy is a powerful modelling language for convex optimization problems. It is clean and easy to use, the only caveat is that objectives must be expressed with `cvxpy` functions, a list of which can be found [here](https://www.cvxpy.org/tutorial/functions/index.html)."
      ]
    },
    {
      "cell_type": "code",
      "metadata": {
        "id": "no22x5CS_7yg"
      },
      "source": [
        "import cvxpy as cp\n",
        "\n",
        "# Note: functions are minimised. If you want to maximise an objective, stick a minus sign in it.\n",
        "def logarithmic_barrier_objective(w, cov_matrix, k=0.1):\n",
        "    log_sum = cp.sum(cp.log(w))\n",
        "    var = cp.quad_form(w, cov_matrix)\n",
        "    return var - k * log_sum"
      ],
      "execution_count": 17,
      "outputs": []
    },
    {
      "cell_type": "markdown",
      "metadata": {
        "id": "CYrd7589_7yg"
      },
      "source": [
        "Once we have written the objective function, we can just use the `ef.convex_objective()` to minimise the objective."
      ]
    },
    {
      "cell_type": "code",
      "metadata": {
        "colab": {
          "base_uri": "https://localhost:8080/"
        },
        "id": "WXGlU495_7yg",
        "outputId": "422cad19-e4ec-4ba0-e10f-0204919691be"
      },
      "source": [
        "ef = EfficientFrontier(mu, S, weight_bounds=(0.01, 0.2))\n",
        "ef.convex_objective(logarithmic_barrier_objective, cov_matrix=S, k=0.001)\n",
        "weights = ef.clean_weights()\n",
        "weights"
      ],
      "execution_count": 18,
      "outputs": [
        {
          "output_type": "execute_result",
          "data": {
            "text/plain": [
              "OrderedDict([('AAPL', 0.03822),\n",
              "             ('AMD', 0.02615),\n",
              "             ('BAC', 0.03743),\n",
              "             ('BLK', 0.07673),\n",
              "             ('CVS', 0.05604),\n",
              "             ('DIS', 0.04626),\n",
              "             ('INTU', 0.05236),\n",
              "             ('JD', 0.2),\n",
              "             ('MA', 0.11541),\n",
              "             ('NVDA', 0.04163),\n",
              "             ('PBI', 0.04484),\n",
              "             ('TGT', 0.04914),\n",
              "             ('TM', 0.06934),\n",
              "             ('UL', 0.083),\n",
              "             ('WMT', 0.06347)])"
            ]
          },
          "metadata": {
            "tags": []
          },
          "execution_count": 18
        }
      ]
    },
    {
      "cell_type": "code",
      "metadata": {
        "colab": {
          "base_uri": "https://localhost:8080/"
        },
        "id": "nOThX6Ez_7yg",
        "outputId": "c26f6a44-5122-48e8-8cb2-66df6caf1059"
      },
      "source": [
        "ef.portfolio_performance(verbose=True);"
      ],
      "execution_count": 19,
      "outputs": [
        {
          "output_type": "stream",
          "text": [
            "Expected annual return: 18.7%\n",
            "Annual volatility: 10.1%\n",
            "Sharpe Ratio: 1.66\n"
          ],
          "name": "stdout"
        }
      ]
    },
    {
      "cell_type": "markdown",
      "metadata": {
        "id": "ONi78kYc_7yg"
      },
      "source": [
        "This is compatible with all the constraints discussed in the previous recipe. Let's say that we want to limit JD's weight to 15%."
      ]
    },
    {
      "cell_type": "code",
      "metadata": {
        "colab": {
          "base_uri": "https://localhost:8080/"
        },
        "id": "b8jH3NlF_7yh",
        "outputId": "e16dc9ac-e631-41eb-f6e4-d291426a8874"
      },
      "source": [
        "ef = EfficientFrontier(mu, S, weight_bounds=(0.01, 0.2))\n",
        "jd_index = ef.tickers.index(\"JD\")  # get the index of JD\n",
        "ef.add_constraint(lambda w: w[jd_index] <= 0.15)\n",
        "ef.convex_objective(logarithmic_barrier_objective, cov_matrix=S, k=0.001)\n",
        "weights = ef.clean_weights()\n",
        "weights"
      ],
      "execution_count": 20,
      "outputs": [
        {
          "output_type": "execute_result",
          "data": {
            "text/plain": [
              "OrderedDict([('AAPL', 0.03913),\n",
              "             ('AMD', 0.02638),\n",
              "             ('BAC', 0.038),\n",
              "             ('BLK', 0.08259),\n",
              "             ('CVS', 0.05859),\n",
              "             ('DIS', 0.0477),\n",
              "             ('INTU', 0.05465),\n",
              "             ('JD', 0.15),\n",
              "             ('MA', 0.13222),\n",
              "             ('NVDA', 0.043),\n",
              "             ('PBI', 0.04649),\n",
              "             ('TGT', 0.05081),\n",
              "             ('TM', 0.07369),\n",
              "             ('UL', 0.08979),\n",
              "             ('WMT', 0.06696)])"
            ]
          },
          "metadata": {
            "tags": []
          },
          "execution_count": 20
        }
      ]
    },
    {
      "cell_type": "markdown",
      "metadata": {
        "id": "1vv0k2N2_7yh"
      },
      "source": [
        "## Custom nonconvex objectives\n",
        "\n",
        "In some cases, you may be trying to optimize for nonconvex objectives. Optimization in general is a very hard problem, so please be aware that you may have mixed results in that case. Convex problems, on the other hand, are well understood and can be solved with nice theoretical guarantees.\n",
        "\n",
        "PyPortfolioOpt does offer some functionality for nonconvex optimization, but it is not really encouraged. In particular, nonconvex optimization is not compatible with PyPortfolioOpt's modular constraints API.\n",
        "\n",
        "As an example, we will use the Deviation Risk Parity objective from Kolm et al (2014). Because we are not using a convex solver, we don't have to define it using `cvxpy` functions."
      ]
    },
    {
      "cell_type": "code",
      "metadata": {
        "id": "yjx2PtxJ_7yh"
      },
      "source": [
        "def deviation_risk_parity(w, cov_matrix):\n",
        "    diff = w * np.dot(cov_matrix, w) - (w * np.dot(cov_matrix, w)).reshape(-1, 1)\n",
        "    return (diff ** 2).sum().sum()"
      ],
      "execution_count": 21,
      "outputs": []
    },
    {
      "cell_type": "code",
      "metadata": {
        "colab": {
          "base_uri": "https://localhost:8080/"
        },
        "id": "okEEPJIJ_7yh",
        "outputId": "87a8d172-eaa9-4f56-c56d-de53547abd95"
      },
      "source": [
        "ef = EfficientFrontier(mu, S, weight_bounds=(0.01, 0.12))\n",
        "ef.nonconvex_objective(deviation_risk_parity, ef.cov_matrix)\n",
        "weights = ef.clean_weights()\n",
        "weights"
      ],
      "execution_count": 22,
      "outputs": [
        {
          "output_type": "execute_result",
          "data": {
            "text/plain": [
              "OrderedDict([('AAPL', 0.05551),\n",
              "             ('AMD', 0.02634),\n",
              "             ('BAC', 0.05784),\n",
              "             ('BLK', 0.07679),\n",
              "             ('CVS', 0.07123),\n",
              "             ('DIS', 0.06549),\n",
              "             ('INTU', 0.06957),\n",
              "             ('JD', 0.07826),\n",
              "             ('MA', 0.07877),\n",
              "             ('NVDA', 0.06238),\n",
              "             ('PBI', 0.06527),\n",
              "             ('TGT', 0.06754),\n",
              "             ('TM', 0.07494),\n",
              "             ('UL', 0.07695),\n",
              "             ('WMT', 0.07313)])"
            ]
          },
          "metadata": {
            "tags": []
          },
          "execution_count": 22
        }
      ]
    },
    {
      "cell_type": "markdown",
      "metadata": {
        "id": "Lru2d5aQ_7yh"
      },
      "source": [
        "However, let's say we now want to enforce that JD has a weight of 10%. In the convex case, this would be as simple as:\n",
        "\n",
        "```python\n",
        "ef.add_objective(lambda w: w[jd_index] == 0.10)\n",
        "```\n",
        "\n",
        "But unfortunately, scipy does not allow for such intuitive syntax. You will need to rearrange your constraints to make them either `=0` or `<= 0`. \n",
        "\n",
        "```python\n",
        "constraints = [\n",
        "    # First constraint\n",
        "     {\"type\": \"eq\",  # equality constraint,\n",
        "      \"fun\": lambda w: w[1] - 0.2},  # the equality functions are assumed to = 0 \n",
        "      \n",
        "    # Second constraint\n",
        "    {\"type\": \"ineq\",  # inequality constraint\n",
        "     \"fun\": lambda w: w[0] - 0.5}   # inequality functions <= 0\n",
        "]\n",
        "```\n",
        "\n",
        "For more information, you can consult the [scipy docs](https://docs.scipy.org/doc/scipy/reference/generated/scipy.optimize.minimize.html), but they aren't very helpful."
      ]
    },
    {
      "cell_type": "code",
      "metadata": {
        "colab": {
          "base_uri": "https://localhost:8080/"
        },
        "id": "lVES36_T_7yi",
        "outputId": "cfe2192d-1ddc-4f6a-cfda-ec8ebb244b83"
      },
      "source": [
        "ef = EfficientFrontier(mu, S, weight_bounds=(0.01, 0.12))\n",
        "\n",
        "ef.nonconvex_objective(\n",
        "    deviation_risk_parity,\n",
        "    objective_args=S,\n",
        "    weights_sum_to_one=True,\n",
        "    constraints=[\n",
        "        {\"type\": \"eq\", \"fun\": lambda w: w[jd_index] - 0.10},  \n",
        "    ],\n",
        ")\n",
        "\n",
        "weights = ef.clean_weights()\n",
        "weights"
      ],
      "execution_count": 23,
      "outputs": [
        {
          "output_type": "execute_result",
          "data": {
            "text/plain": [
              "OrderedDict([('AAPL', 0.05546),\n",
              "             ('AMD', 0.02986),\n",
              "             ('BAC', 0.05754),\n",
              "             ('BLK', 0.07364),\n",
              "             ('CVS', 0.06902),\n",
              "             ('DIS', 0.06413),\n",
              "             ('INTU', 0.06756),\n",
              "             ('JD', 0.1),\n",
              "             ('MA', 0.07525),\n",
              "             ('NVDA', 0.06129),\n",
              "             ('PBI', 0.06386),\n",
              "             ('TGT', 0.06589),\n",
              "             ('TM', 0.07211),\n",
              "             ('UL', 0.07378),\n",
              "             ('WMT', 0.07062)])"
            ]
          },
          "metadata": {
            "tags": []
          },
          "execution_count": 23
        }
      ]
    },
    {
      "cell_type": "markdown",
      "metadata": {
        "id": "5oVOJSKs_7yi"
      },
      "source": [
        "## More examples of nonconvex objectives\n",
        "\n",
        "The scipy format is not intuitive and is hard to explain, so here are a bunch of examples (adapted from the tests). Some of these are actually convex, so you should use `convex_objective` instead. "
      ]
    },
    {
      "cell_type": "code",
      "metadata": {
        "colab": {
          "base_uri": "https://localhost:8080/"
        },
        "id": "9X7GF1d3_7yi",
        "outputId": "87f5f1cb-4370-44ef-f40f-609019635f95"
      },
      "source": [
        "# Another example of deviation risk parity\n",
        "def deviation_risk_parity(w, cov_matrix):\n",
        "    n = cov_matrix.shape[0]\n",
        "    rp = (w * (cov_matrix @ w)) / cp.quad_form(w, cov_matrix)\n",
        "    return cp.sum_squares(rp - 1 / n).value\n",
        "\n",
        "ef = EfficientFrontier(mu, S)\n",
        "ef.nonconvex_objective(deviation_risk_parity, ef.cov_matrix)\n",
        "weights = ef.clean_weights()\n",
        "weights"
      ],
      "execution_count": 24,
      "outputs": [
        {
          "output_type": "execute_result",
          "data": {
            "text/plain": [
              "OrderedDict([('AAPL', 0.04359),\n",
              "             ('AMD', 0.0316),\n",
              "             ('BAC', 0.04319),\n",
              "             ('BLK', 0.07618),\n",
              "             ('CVS', 0.05947),\n",
              "             ('DIS', 0.05109),\n",
              "             ('INTU', 0.05644),\n",
              "             ('JD', 0.17148),\n",
              "             ('MA', 0.1012),\n",
              "             ('NVDA', 0.04719),\n",
              "             ('PBI', 0.05),\n",
              "             ('TGT', 0.05355),\n",
              "             ('TM', 0.06994),\n",
              "             ('UL', 0.07995),\n",
              "             ('WMT', 0.06511)])"
            ]
          },
          "metadata": {
            "tags": []
          },
          "execution_count": 24
        }
      ]
    },
    {
      "cell_type": "code",
      "metadata": {
        "colab": {
          "base_uri": "https://localhost:8080/"
        },
        "id": "k870cx5n_7yi",
        "outputId": "8c717fc6-ed5a-4a0b-c153-8a023c424301"
      },
      "source": [
        "# Deviation risk parity with weight bound on the first asset\n",
        "ef = EfficientFrontier(mu, S)\n",
        "ef.nonconvex_objective(deviation_risk_parity, \n",
        "                       ef.cov_matrix, \n",
        "                       constraints=[{\"type\":\"eq\", \"fun\":lambda w: w[0] - 0.1}])\n",
        "weights = ef.clean_weights()\n",
        "weights"
      ],
      "execution_count": 25,
      "outputs": [
        {
          "output_type": "execute_result",
          "data": {
            "text/plain": [
              "OrderedDict([('AAPL', 0.1),\n",
              "             ('AMD', 0.03386),\n",
              "             ('BAC', 0.0477),\n",
              "             ('BLK', 0.07643),\n",
              "             ('CVS', 0.06095),\n",
              "             ('DIS', 0.05385),\n",
              "             ('INTU', 0.05736),\n",
              "             ('JD', 0.10963),\n",
              "             ('MA', 0.09298),\n",
              "             ('NVDA', 0.05078),\n",
              "             ('PBI', 0.05414),\n",
              "             ('TGT', 0.05558),\n",
              "             ('TM', 0.06795),\n",
              "             ('UL', 0.07534),\n",
              "             ('WMT', 0.06346)])"
            ]
          },
          "metadata": {
            "tags": []
          },
          "execution_count": 25
        }
      ]
    },
    {
      "cell_type": "code",
      "metadata": {
        "colab": {
          "base_uri": "https://localhost:8080/"
        },
        "id": "Z5e9m3nA_7yj",
        "outputId": "faab6f0b-d261-49e3-9d2e-b7b7336ed199"
      },
      "source": [
        "# Market-neutral efficient risk.\n",
        "# Please use ef.efficient_risk() for anything serious.\n",
        "target_risk = 0.19\n",
        "ef = EfficientFrontier(mu, S, weight_bounds=(None, None))\n",
        "\n",
        "# Weights sum to zero\n",
        "weight_constr = {\"type\": \"eq\", \"fun\": lambda w: np.sum(w)}\n",
        "\n",
        "# Portfolio vol less than target vol\n",
        "risk_constr = {\n",
        "    \"type\": \"eq\",\n",
        "    \"fun\": lambda w: target_risk ** 2 - np.dot(w.T, np.dot(ef.cov_matrix, w)),\n",
        "}\n",
        "constraints = [weight_constr, risk_constr]\n",
        "\n",
        "ef.nonconvex_objective(\n",
        "    lambda w, mu: -w.T.dot(mu),  # min negative return i.e max return\n",
        "    objective_args=(ef.expected_returns),\n",
        "    weights_sum_to_one=False,\n",
        "    constraints=constraints,\n",
        ")\n",
        "weights = ef.clean_weights()\n",
        "weights"
      ],
      "execution_count": 26,
      "outputs": [
        {
          "output_type": "execute_result",
          "data": {
            "text/plain": [
              "OrderedDict([('AAPL', 0.09581),\n",
              "             ('AMD', 0.16588),\n",
              "             ('BAC', 0.00838),\n",
              "             ('BLK', -0.1081),\n",
              "             ('CVS', -0.17093),\n",
              "             ('DIS', 0.21772),\n",
              "             ('INTU', 0.11636),\n",
              "             ('JD', 0.13475),\n",
              "             ('MA', 0.64099),\n",
              "             ('NVDA', 0.4205),\n",
              "             ('PBI', -0.04),\n",
              "             ('TGT', 0.00706),\n",
              "             ('TM', -0.47788),\n",
              "             ('UL', -0.85641),\n",
              "             ('WMT', -0.15413)])"
            ]
          },
          "metadata": {
            "tags": []
          },
          "execution_count": 26
        }
      ]
    },
    {
      "cell_type": "code",
      "metadata": {
        "colab": {
          "base_uri": "https://localhost:8080/"
        },
        "id": "qAcM50NF_7yj",
        "outputId": "4f83fb6b-d304-487b-c391-05bd6633f58e"
      },
      "source": [
        "# Utility objective - you could actually use ef.max_quadratic_utility\n",
        "ef = EfficientFrontier(mu, S)\n",
        "\n",
        "def utility_obj(weights, mu, cov_matrix, k=1):\n",
        "    return -weights.dot(mu) + k * np.dot(weights.T, np.dot(cov_matrix, weights))\n",
        "\n",
        "ef.nonconvex_objective(\n",
        "    utility_obj,\n",
        "    objective_args=(ef.expected_returns, ef.cov_matrix, 1)\n",
        "    # default is for weights to sum to 1\n",
        ")\n",
        "\n",
        "weights = ef.clean_weights()\n",
        "weights"
      ],
      "execution_count": 27,
      "outputs": [
        {
          "output_type": "execute_result",
          "data": {
            "text/plain": [
              "OrderedDict([('AAPL', 0.0),\n",
              "             ('AMD', 0.05197),\n",
              "             ('BAC', 0.0),\n",
              "             ('BLK', 0.0),\n",
              "             ('CVS', 0.0),\n",
              "             ('DIS', 0.0),\n",
              "             ('INTU', 0.0),\n",
              "             ('JD', 0.0),\n",
              "             ('MA', 0.0),\n",
              "             ('NVDA', 0.94803),\n",
              "             ('PBI', 0.0),\n",
              "             ('TGT', 0.0),\n",
              "             ('TM', 0.0),\n",
              "             ('UL', 0.0),\n",
              "             ('WMT', 0.0)])"
            ]
          },
          "metadata": {
            "tags": []
          },
          "execution_count": 27
        }
      ]
    },
    {
      "cell_type": "code",
      "metadata": {
        "colab": {
          "base_uri": "https://localhost:8080/"
        },
        "id": "5ec3J9SQ_7yj",
        "outputId": "2035ff4f-c829-4dc9-f632-0ad15329093b"
      },
      "source": [
        "ef.weights.sum()"
      ],
      "execution_count": 28,
      "outputs": [
        {
          "output_type": "execute_result",
          "data": {
            "text/plain": [
              "1.0000000000000002"
            ]
          },
          "metadata": {
            "tags": []
          },
          "execution_count": 28
        }
      ]
    },
    {
      "cell_type": "code",
      "metadata": {
        "colab": {
          "base_uri": "https://localhost:8080/"
        },
        "id": "P33oxfzp_7yj",
        "outputId": "cf921e98-4377-4f1d-ffc3-99197b137d99"
      },
      "source": [
        "# Kelly objective with weight bounds on zeroth asset\n",
        "def kelly_objective(w, e_returns, cov_matrix, k=3):\n",
        "    variance = np.dot(w.T, np.dot(cov_matrix, w))\n",
        "    objective = variance * 0.5 * k - np.dot(w, e_returns)\n",
        "    return objective\n",
        "\n",
        "lower_bounds, upper_bounds = 0.01, 0.3\n",
        "ef = EfficientFrontier(mu, S)\n",
        "ef.nonconvex_objective(\n",
        "    kelly_objective,\n",
        "    objective_args=(ef.expected_returns, ef.cov_matrix, 1000),\n",
        "    constraints=[\n",
        "        {\"type\": \"eq\", \"fun\": lambda w: np.sum(w) - 1},\n",
        "        {\"type\": \"ineq\", \"fun\": lambda w: w[0] - lower_bounds},\n",
        "        {\"type\": \"ineq\", \"fun\": lambda w: upper_bounds - w[0]},\n",
        "    ],\n",
        ")\n",
        "\n",
        "weights = ef.clean_weights()\n",
        "weights"
      ],
      "execution_count": 29,
      "outputs": [
        {
          "output_type": "execute_result",
          "data": {
            "text/plain": [
              "OrderedDict([('AAPL', 0.06667),\n",
              "             ('AMD', 0.06667),\n",
              "             ('BAC', 0.06667),\n",
              "             ('BLK', 0.06667),\n",
              "             ('CVS', 0.06667),\n",
              "             ('DIS', 0.06667),\n",
              "             ('INTU', 0.06667),\n",
              "             ('JD', 0.06667),\n",
              "             ('MA', 0.06667),\n",
              "             ('NVDA', 0.06667),\n",
              "             ('PBI', 0.06667),\n",
              "             ('TGT', 0.06667),\n",
              "             ('TM', 0.06667),\n",
              "             ('UL', 0.06667),\n",
              "             ('WMT', 0.06667)])"
            ]
          },
          "metadata": {
            "tags": []
          },
          "execution_count": 29
        }
      ]
    },
    {
      "cell_type": "code",
      "metadata": {
        "id": "ca9zl0tO_7yk"
      },
      "source": [
        ""
      ],
      "execution_count": 29,
      "outputs": []
    }
  ]
}