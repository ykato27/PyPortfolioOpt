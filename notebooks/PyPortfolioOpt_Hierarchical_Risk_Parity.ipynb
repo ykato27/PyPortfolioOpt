{
  "nbformat": 4,
  "nbformat_minor": 5,
  "metadata": {
    "kernelspec": {
      "display_name": "pyportfolioopt",
      "language": "python",
      "name": "pyportfolioopt"
    },
    "language_info": {
      "codemirror_mode": {
        "name": "ipython",
        "version": 3
      },
      "file_extension": ".py",
      "mimetype": "text/x-python",
      "name": "python",
      "nbconvert_exporter": "python",
      "pygments_lexer": "ipython3",
      "version": "3.8.6"
    },
    "colab": {
      "name": "PyPortfolioOpt-Hierarchical-Risk-Parity.ipynb",
      "provenance": [],
      "include_colab_link": true
    }
  },
  "cells": [
    {
      "cell_type": "markdown",
      "metadata": {
        "id": "view-in-github",
        "colab_type": "text"
      },
      "source": [
        "<a href=\"https://colab.research.google.com/github/ykato27/PyPortfolioOpt/blob/main/PyPortfolioOpt_Hierarchical_Risk_Parity.ipynb\" target=\"_parent\"><img src=\"https://colab.research.google.com/assets/colab-badge.svg\" alt=\"Open In Colab\"/></a>"
      ]
    },
    {
      "cell_type": "markdown",
      "metadata": {
        "id": "consolidated-vault"
      },
      "source": [
        "# Hierarchical Risk Parity\n",
        "\n",
        "HRP is a modern portfolio optimization method inspired by machine learning.\n",
        "\n",
        "The idea is that by examining the hierarchical structure of the market, we can better diversify. \n",
        "\n",
        "In this cookbook recipe, we will cover:\n",
        "\n",
        "- Downloading data for HRP\n",
        "- Using HRP to find the minimum variance portfolio\n",
        "- Plotting dendrograms\n",
        "\n"
      ],
      "id": "consolidated-vault"
    },
    {
      "cell_type": "markdown",
      "metadata": {
        "id": "saving-safety"
      },
      "source": [
        "## Downloading data\n",
        "\n",
        "HRP only requires historical returns"
      ],
      "id": "saving-safety"
    },
    {
      "cell_type": "code",
      "metadata": {
        "colab": {
          "base_uri": "https://localhost:8080/"
        },
        "id": "NAN58JTnAJC2",
        "outputId": "b69a5146-1084-4d47-9e84-1f9e35dd6132"
      },
      "source": [
        "!pip install PyPortfolioOpt\n",
        "!pip install yfinance"
      ],
      "id": "NAN58JTnAJC2",
      "execution_count": 1,
      "outputs": [
        {
          "output_type": "stream",
          "text": [
            "Collecting PyPortfolioOpt\n",
            "\u001b[?25l  Downloading https://files.pythonhosted.org/packages/12/dd/bbe51f36f323c4eee59ec94638b24de1daeda9537403c363cbfab8cd1d29/PyPortfolioOpt-1.4.2-py3-none-any.whl (60kB)\n",
            "\r\u001b[K     |█████▍                          | 10kB 11.5MB/s eta 0:00:01\r\u001b[K     |██████████▉                     | 20kB 15.9MB/s eta 0:00:01\r\u001b[K     |████████████████▎               | 30kB 7.7MB/s eta 0:00:01\r\u001b[K     |█████████████████████▋          | 40kB 6.7MB/s eta 0:00:01\r\u001b[K     |███████████████████████████     | 51kB 3.0MB/s eta 0:00:01\r\u001b[K     |████████████████████████████████| 61kB 2.4MB/s \n",
            "\u001b[?25hRequirement already satisfied: pandas>=0.19 in /usr/local/lib/python3.7/dist-packages (from PyPortfolioOpt) (1.1.5)\n",
            "Requirement already satisfied: numpy<2.0,>=1.12 in /usr/local/lib/python3.7/dist-packages (from PyPortfolioOpt) (1.19.5)\n",
            "Requirement already satisfied: scipy<2.0,>=1.3 in /usr/local/lib/python3.7/dist-packages (from PyPortfolioOpt) (1.4.1)\n",
            "Collecting cvxpy<2.0.0,>=1.1.10\n",
            "\u001b[?25l  Downloading https://files.pythonhosted.org/packages/f0/95/e7eb169a7802fe0c5c50dd7f29c2e9d357b5f29c70adc3f5ca2ab684a04b/cvxpy-1.1.13.tar.gz (1.3MB)\n",
            "\u001b[K     |████████████████████████████████| 1.3MB 5.1MB/s \n",
            "\u001b[?25h  Installing build dependencies ... \u001b[?25l\u001b[?25hdone\n",
            "  Getting requirements to build wheel ... \u001b[?25l\u001b[?25hdone\n",
            "    Preparing wheel metadata ... \u001b[?25l\u001b[?25hdone\n",
            "Requirement already satisfied: pytz>=2017.2 in /usr/local/lib/python3.7/dist-packages (from pandas>=0.19->PyPortfolioOpt) (2018.9)\n",
            "Requirement already satisfied: python-dateutil>=2.7.3 in /usr/local/lib/python3.7/dist-packages (from pandas>=0.19->PyPortfolioOpt) (2.8.1)\n",
            "Requirement already satisfied: osqp>=0.4.1 in /usr/local/lib/python3.7/dist-packages (from cvxpy<2.0.0,>=1.1.10->PyPortfolioOpt) (0.6.2.post0)\n",
            "Requirement already satisfied: ecos>=2 in /usr/local/lib/python3.7/dist-packages (from cvxpy<2.0.0,>=1.1.10->PyPortfolioOpt) (2.0.7.post1)\n",
            "Requirement already satisfied: scs>=1.1.6 in /usr/local/lib/python3.7/dist-packages (from cvxpy<2.0.0,>=1.1.10->PyPortfolioOpt) (2.1.4)\n",
            "Requirement already satisfied: six>=1.5 in /usr/local/lib/python3.7/dist-packages (from python-dateutil>=2.7.3->pandas>=0.19->PyPortfolioOpt) (1.15.0)\n",
            "Requirement already satisfied: qdldl in /usr/local/lib/python3.7/dist-packages (from osqp>=0.4.1->cvxpy<2.0.0,>=1.1.10->PyPortfolioOpt) (0.1.5.post0)\n",
            "Building wheels for collected packages: cvxpy\n",
            "  Building wheel for cvxpy (PEP 517) ... \u001b[?25l\u001b[?25hdone\n",
            "  Created wheel for cvxpy: filename=cvxpy-1.1.13-cp37-cp37m-linux_x86_64.whl size=2736245 sha256=eb7c3775cae56c785da98252670e551d3b850b998cfa2cd1cfc46597dceb202e\n",
            "  Stored in directory: /root/.cache/pip/wheels/f9/78/00/f29636789ee83434953b5442f16ec3f9834a68e7fd0393c220\n",
            "Successfully built cvxpy\n",
            "Installing collected packages: cvxpy, PyPortfolioOpt\n",
            "  Found existing installation: cvxpy 1.0.31\n",
            "    Uninstalling cvxpy-1.0.31:\n",
            "      Successfully uninstalled cvxpy-1.0.31\n",
            "Successfully installed PyPortfolioOpt-1.4.2 cvxpy-1.1.13\n",
            "Collecting yfinance\n",
            "  Downloading https://files.pythonhosted.org/packages/a7/ee/315752b9ef281ba83c62aa7ec2e2074f85223da6e7e74efb4d3e11c0f510/yfinance-0.1.59.tar.gz\n",
            "Requirement already satisfied: pandas>=0.24 in /usr/local/lib/python3.7/dist-packages (from yfinance) (1.1.5)\n",
            "Requirement already satisfied: numpy>=1.15 in /usr/local/lib/python3.7/dist-packages (from yfinance) (1.19.5)\n",
            "Requirement already satisfied: requests>=2.20 in /usr/local/lib/python3.7/dist-packages (from yfinance) (2.23.0)\n",
            "Requirement already satisfied: multitasking>=0.0.7 in /usr/local/lib/python3.7/dist-packages (from yfinance) (0.0.9)\n",
            "Collecting lxml>=4.5.1\n",
            "\u001b[?25l  Downloading https://files.pythonhosted.org/packages/30/c0/d0526314971fc661b083ab135747dc68446a3022686da8c16d25fcf6ef07/lxml-4.6.3-cp37-cp37m-manylinux2014_x86_64.whl (6.3MB)\n",
            "\u001b[K     |████████████████████████████████| 6.3MB 4.3MB/s \n",
            "\u001b[?25hRequirement already satisfied: python-dateutil>=2.7.3 in /usr/local/lib/python3.7/dist-packages (from pandas>=0.24->yfinance) (2.8.1)\n",
            "Requirement already satisfied: pytz>=2017.2 in /usr/local/lib/python3.7/dist-packages (from pandas>=0.24->yfinance) (2018.9)\n",
            "Requirement already satisfied: urllib3!=1.25.0,!=1.25.1,<1.26,>=1.21.1 in /usr/local/lib/python3.7/dist-packages (from requests>=2.20->yfinance) (1.24.3)\n",
            "Requirement already satisfied: idna<3,>=2.5 in /usr/local/lib/python3.7/dist-packages (from requests>=2.20->yfinance) (2.10)\n",
            "Requirement already satisfied: chardet<4,>=3.0.2 in /usr/local/lib/python3.7/dist-packages (from requests>=2.20->yfinance) (3.0.4)\n",
            "Requirement already satisfied: certifi>=2017.4.17 in /usr/local/lib/python3.7/dist-packages (from requests>=2.20->yfinance) (2021.5.30)\n",
            "Requirement already satisfied: six>=1.5 in /usr/local/lib/python3.7/dist-packages (from python-dateutil>=2.7.3->pandas>=0.24->yfinance) (1.15.0)\n",
            "Building wheels for collected packages: yfinance\n",
            "  Building wheel for yfinance (setup.py) ... \u001b[?25l\u001b[?25hdone\n",
            "  Created wheel for yfinance: filename=yfinance-0.1.59-py2.py3-none-any.whl size=23455 sha256=0283c5c0e653113edd2ed28e65caa5c9be27b26d8c3a5d24977ac7b388e13b0b\n",
            "  Stored in directory: /root/.cache/pip/wheels/f8/2a/0f/4b5a86e1d52e451757eb6bc17fd899629f0925c777741b6d04\n",
            "Successfully built yfinance\n",
            "Installing collected packages: lxml, yfinance\n",
            "  Found existing installation: lxml 4.2.6\n",
            "    Uninstalling lxml-4.2.6:\n",
            "      Successfully uninstalled lxml-4.2.6\n",
            "Successfully installed lxml-4.6.3 yfinance-0.1.59\n"
          ],
          "name": "stdout"
        }
      ]
    },
    {
      "cell_type": "code",
      "metadata": {
        "colab": {
          "base_uri": "https://localhost:8080/",
          "height": 35
        },
        "id": "committed-riverside",
        "outputId": "915dc1f9-2668-4670-d65b-6ac093cf1d74"
      },
      "source": [
        "import numpy as np\n",
        "import pandas as pd\n",
        "import matplotlib.pyplot as plt\n",
        "import yfinance as yf\n",
        "import pypfopt\n",
        "\n",
        "pypfopt.__version__"
      ],
      "id": "committed-riverside",
      "execution_count": 2,
      "outputs": [
        {
          "output_type": "execute_result",
          "data": {
            "application/vnd.google.colaboratory.intrinsic+json": {
              "type": "string"
            },
            "text/plain": [
              "'1.4.2'"
            ]
          },
          "metadata": {
            "tags": []
          },
          "execution_count": 2
        }
      ]
    },
    {
      "cell_type": "code",
      "metadata": {
        "colab": {
          "base_uri": "https://localhost:8080/",
          "height": 357
        },
        "id": "accredited-enterprise",
        "outputId": "6f27ac1c-68f8-4065-f9ad-bbd87ef455a0"
      },
      "source": [
        "tickers = [\"BLK\", \"BAC\", \"AAPL\", \"TM\", \"WMT\",\n",
        "           \"JD\", \"INTU\", \"MA\", \"UL\", \"CVS\",\n",
        "           \"DIS\", \"AMD\", \"NVDA\", \"PBI\", \"TGT\"]\n",
        "\n",
        "ohlc = yf.download(tickers, period=\"max\")\n",
        "prices = ohlc[\"Adj Close\"]\n",
        "prices.tail()"
      ],
      "id": "accredited-enterprise",
      "execution_count": 3,
      "outputs": [
        {
          "output_type": "stream",
          "text": [
            "[*********************100%***********************]  15 of 15 completed\n"
          ],
          "name": "stdout"
        },
        {
          "output_type": "execute_result",
          "data": {
            "text/html": [
              "<div>\n",
              "<style scoped>\n",
              "    .dataframe tbody tr th:only-of-type {\n",
              "        vertical-align: middle;\n",
              "    }\n",
              "\n",
              "    .dataframe tbody tr th {\n",
              "        vertical-align: top;\n",
              "    }\n",
              "\n",
              "    .dataframe thead th {\n",
              "        text-align: right;\n",
              "    }\n",
              "</style>\n",
              "<table border=\"1\" class=\"dataframe\">\n",
              "  <thead>\n",
              "    <tr style=\"text-align: right;\">\n",
              "      <th></th>\n",
              "      <th>AAPL</th>\n",
              "      <th>AMD</th>\n",
              "      <th>BAC</th>\n",
              "      <th>BLK</th>\n",
              "      <th>CVS</th>\n",
              "      <th>DIS</th>\n",
              "      <th>INTU</th>\n",
              "      <th>JD</th>\n",
              "      <th>MA</th>\n",
              "      <th>NVDA</th>\n",
              "      <th>PBI</th>\n",
              "      <th>TGT</th>\n",
              "      <th>TM</th>\n",
              "      <th>UL</th>\n",
              "      <th>WMT</th>\n",
              "    </tr>\n",
              "    <tr>\n",
              "      <th>Date</th>\n",
              "      <th></th>\n",
              "      <th></th>\n",
              "      <th></th>\n",
              "      <th></th>\n",
              "      <th></th>\n",
              "      <th></th>\n",
              "      <th></th>\n",
              "      <th></th>\n",
              "      <th></th>\n",
              "      <th></th>\n",
              "      <th></th>\n",
              "      <th></th>\n",
              "      <th></th>\n",
              "      <th></th>\n",
              "      <th></th>\n",
              "    </tr>\n",
              "  </thead>\n",
              "  <tbody>\n",
              "    <tr>\n",
              "      <th>2021-06-25</th>\n",
              "      <td>133.110001</td>\n",
              "      <td>85.620003</td>\n",
              "      <td>41.619999</td>\n",
              "      <td>874.030029</td>\n",
              "      <td>84.080002</td>\n",
              "      <td>178.350006</td>\n",
              "      <td>486.089996</td>\n",
              "      <td>78.230003</td>\n",
              "      <td>379.609985</td>\n",
              "      <td>761.239990</td>\n",
              "      <td>9.00</td>\n",
              "      <td>240.550003</td>\n",
              "      <td>178.100006</td>\n",
              "      <td>59.580002</td>\n",
              "      <td>138.529999</td>\n",
              "    </tr>\n",
              "    <tr>\n",
              "      <th>2021-06-28</th>\n",
              "      <td>134.779999</td>\n",
              "      <td>87.080002</td>\n",
              "      <td>41.560001</td>\n",
              "      <td>878.739990</td>\n",
              "      <td>84.120003</td>\n",
              "      <td>176.570007</td>\n",
              "      <td>486.989990</td>\n",
              "      <td>77.120003</td>\n",
              "      <td>367.679993</td>\n",
              "      <td>799.400024</td>\n",
              "      <td>8.89</td>\n",
              "      <td>241.259995</td>\n",
              "      <td>177.070007</td>\n",
              "      <td>59.509998</td>\n",
              "      <td>138.100006</td>\n",
              "    </tr>\n",
              "    <tr>\n",
              "      <th>2021-06-29</th>\n",
              "      <td>136.330002</td>\n",
              "      <td>89.519997</td>\n",
              "      <td>40.889999</td>\n",
              "      <td>873.530029</td>\n",
              "      <td>83.489998</td>\n",
              "      <td>173.929993</td>\n",
              "      <td>491.399994</td>\n",
              "      <td>79.750000</td>\n",
              "      <td>368.000000</td>\n",
              "      <td>801.070007</td>\n",
              "      <td>8.85</td>\n",
              "      <td>241.850006</td>\n",
              "      <td>176.729996</td>\n",
              "      <td>59.259998</td>\n",
              "      <td>137.300003</td>\n",
              "    </tr>\n",
              "    <tr>\n",
              "      <th>2021-06-30</th>\n",
              "      <td>136.960007</td>\n",
              "      <td>93.930000</td>\n",
              "      <td>41.230000</td>\n",
              "      <td>874.969971</td>\n",
              "      <td>83.440002</td>\n",
              "      <td>175.770004</td>\n",
              "      <td>490.170013</td>\n",
              "      <td>79.809998</td>\n",
              "      <td>365.089996</td>\n",
              "      <td>800.099976</td>\n",
              "      <td>8.77</td>\n",
              "      <td>241.740005</td>\n",
              "      <td>174.839996</td>\n",
              "      <td>58.500000</td>\n",
              "      <td>141.020004</td>\n",
              "    </tr>\n",
              "    <tr>\n",
              "      <th>2021-07-01</th>\n",
              "      <td>137.270004</td>\n",
              "      <td>93.309998</td>\n",
              "      <td>41.540001</td>\n",
              "      <td>879.229980</td>\n",
              "      <td>82.220001</td>\n",
              "      <td>177.259995</td>\n",
              "      <td>491.049988</td>\n",
              "      <td>77.440002</td>\n",
              "      <td>370.709991</td>\n",
              "      <td>808.479980</td>\n",
              "      <td>8.78</td>\n",
              "      <td>243.470001</td>\n",
              "      <td>175.479996</td>\n",
              "      <td>58.779999</td>\n",
              "      <td>139.320007</td>\n",
              "    </tr>\n",
              "  </tbody>\n",
              "</table>\n",
              "</div>"
            ],
            "text/plain": [
              "                  AAPL        AMD        BAC  ...          TM         UL         WMT\n",
              "Date                                          ...                                   \n",
              "2021-06-25  133.110001  85.620003  41.619999  ...  178.100006  59.580002  138.529999\n",
              "2021-06-28  134.779999  87.080002  41.560001  ...  177.070007  59.509998  138.100006\n",
              "2021-06-29  136.330002  89.519997  40.889999  ...  176.729996  59.259998  137.300003\n",
              "2021-06-30  136.960007  93.930000  41.230000  ...  174.839996  58.500000  141.020004\n",
              "2021-07-01  137.270004  93.309998  41.540001  ...  175.479996  58.779999  139.320007\n",
              "\n",
              "[5 rows x 15 columns]"
            ]
          },
          "metadata": {
            "tags": []
          },
          "execution_count": 3
        }
      ]
    },
    {
      "cell_type": "code",
      "metadata": {
        "colab": {
          "base_uri": "https://localhost:8080/",
          "height": 340
        },
        "id": "confident-plant",
        "outputId": "d66ceaf8-8f90-4956-94ff-25b16bc4d9f1"
      },
      "source": [
        "from pypfopt import expected_returns\n",
        "\n",
        "rets = expected_returns.returns_from_prices(prices)\n",
        "rets.tail()"
      ],
      "id": "confident-plant",
      "execution_count": 4,
      "outputs": [
        {
          "output_type": "execute_result",
          "data": {
            "text/html": [
              "<div>\n",
              "<style scoped>\n",
              "    .dataframe tbody tr th:only-of-type {\n",
              "        vertical-align: middle;\n",
              "    }\n",
              "\n",
              "    .dataframe tbody tr th {\n",
              "        vertical-align: top;\n",
              "    }\n",
              "\n",
              "    .dataframe thead th {\n",
              "        text-align: right;\n",
              "    }\n",
              "</style>\n",
              "<table border=\"1\" class=\"dataframe\">\n",
              "  <thead>\n",
              "    <tr style=\"text-align: right;\">\n",
              "      <th></th>\n",
              "      <th>AAPL</th>\n",
              "      <th>AMD</th>\n",
              "      <th>BAC</th>\n",
              "      <th>BLK</th>\n",
              "      <th>CVS</th>\n",
              "      <th>DIS</th>\n",
              "      <th>INTU</th>\n",
              "      <th>JD</th>\n",
              "      <th>MA</th>\n",
              "      <th>NVDA</th>\n",
              "      <th>PBI</th>\n",
              "      <th>TGT</th>\n",
              "      <th>TM</th>\n",
              "      <th>UL</th>\n",
              "      <th>WMT</th>\n",
              "    </tr>\n",
              "    <tr>\n",
              "      <th>Date</th>\n",
              "      <th></th>\n",
              "      <th></th>\n",
              "      <th></th>\n",
              "      <th></th>\n",
              "      <th></th>\n",
              "      <th></th>\n",
              "      <th></th>\n",
              "      <th></th>\n",
              "      <th></th>\n",
              "      <th></th>\n",
              "      <th></th>\n",
              "      <th></th>\n",
              "      <th></th>\n",
              "      <th></th>\n",
              "      <th></th>\n",
              "    </tr>\n",
              "  </thead>\n",
              "  <tbody>\n",
              "    <tr>\n",
              "      <th>2021-06-25</th>\n",
              "      <td>-0.002249</td>\n",
              "      <td>-0.005575</td>\n",
              "      <td>0.019348</td>\n",
              "      <td>0.007713</td>\n",
              "      <td>0.003701</td>\n",
              "      <td>0.002361</td>\n",
              "      <td>0.007190</td>\n",
              "      <td>0.044459</td>\n",
              "      <td>0.012969</td>\n",
              "      <td>-0.009086</td>\n",
              "      <td>0.000000</td>\n",
              "      <td>0.002960</td>\n",
              "      <td>0.002420</td>\n",
              "      <td>0.005909</td>\n",
              "      <td>0.011833</td>\n",
              "    </tr>\n",
              "    <tr>\n",
              "      <th>2021-06-28</th>\n",
              "      <td>0.012546</td>\n",
              "      <td>0.017052</td>\n",
              "      <td>-0.001442</td>\n",
              "      <td>0.005389</td>\n",
              "      <td>0.000476</td>\n",
              "      <td>-0.009980</td>\n",
              "      <td>0.001851</td>\n",
              "      <td>-0.014189</td>\n",
              "      <td>-0.031427</td>\n",
              "      <td>0.050129</td>\n",
              "      <td>-0.012222</td>\n",
              "      <td>0.002952</td>\n",
              "      <td>-0.005783</td>\n",
              "      <td>-0.001175</td>\n",
              "      <td>-0.003104</td>\n",
              "    </tr>\n",
              "    <tr>\n",
              "      <th>2021-06-29</th>\n",
              "      <td>0.011500</td>\n",
              "      <td>0.028020</td>\n",
              "      <td>-0.016121</td>\n",
              "      <td>-0.005929</td>\n",
              "      <td>-0.007489</td>\n",
              "      <td>-0.014952</td>\n",
              "      <td>0.009056</td>\n",
              "      <td>0.034103</td>\n",
              "      <td>0.000870</td>\n",
              "      <td>0.002089</td>\n",
              "      <td>-0.004499</td>\n",
              "      <td>0.002446</td>\n",
              "      <td>-0.001920</td>\n",
              "      <td>-0.004201</td>\n",
              "      <td>-0.005793</td>\n",
              "    </tr>\n",
              "    <tr>\n",
              "      <th>2021-06-30</th>\n",
              "      <td>0.004621</td>\n",
              "      <td>0.049263</td>\n",
              "      <td>0.008315</td>\n",
              "      <td>0.001648</td>\n",
              "      <td>-0.000599</td>\n",
              "      <td>0.010579</td>\n",
              "      <td>-0.002503</td>\n",
              "      <td>0.000752</td>\n",
              "      <td>-0.007908</td>\n",
              "      <td>-0.001211</td>\n",
              "      <td>-0.009040</td>\n",
              "      <td>-0.000455</td>\n",
              "      <td>-0.010694</td>\n",
              "      <td>-0.012825</td>\n",
              "      <td>0.027094</td>\n",
              "    </tr>\n",
              "    <tr>\n",
              "      <th>2021-07-01</th>\n",
              "      <td>0.002263</td>\n",
              "      <td>-0.006601</td>\n",
              "      <td>0.007519</td>\n",
              "      <td>0.004869</td>\n",
              "      <td>-0.014621</td>\n",
              "      <td>0.008477</td>\n",
              "      <td>0.001795</td>\n",
              "      <td>-0.029695</td>\n",
              "      <td>0.015393</td>\n",
              "      <td>0.010474</td>\n",
              "      <td>0.001140</td>\n",
              "      <td>0.007156</td>\n",
              "      <td>0.003660</td>\n",
              "      <td>0.004786</td>\n",
              "      <td>-0.012055</td>\n",
              "    </tr>\n",
              "  </tbody>\n",
              "</table>\n",
              "</div>"
            ],
            "text/plain": [
              "                AAPL       AMD       BAC  ...        TM        UL       WMT\n",
              "Date                                      ...                              \n",
              "2021-06-25 -0.002249 -0.005575  0.019348  ...  0.002420  0.005909  0.011833\n",
              "2021-06-28  0.012546  0.017052 -0.001442  ... -0.005783 -0.001175 -0.003104\n",
              "2021-06-29  0.011500  0.028020 -0.016121  ... -0.001920 -0.004201 -0.005793\n",
              "2021-06-30  0.004621  0.049263  0.008315  ... -0.010694 -0.012825  0.027094\n",
              "2021-07-01  0.002263 -0.006601  0.007519  ...  0.003660  0.004786 -0.012055\n",
              "\n",
              "[5 rows x 15 columns]"
            ]
          },
          "metadata": {
            "tags": []
          },
          "execution_count": 4
        }
      ]
    },
    {
      "cell_type": "markdown",
      "metadata": {
        "id": "answering-tamil"
      },
      "source": [
        "## HRP optimization\n",
        "\n",
        "HRP uses a completely different backend, so it is currently not possible to pass constraints or specify an objective function."
      ],
      "id": "answering-tamil"
    },
    {
      "cell_type": "code",
      "metadata": {
        "id": "crazy-minority"
      },
      "source": [
        "from pypfopt import HRPOpt"
      ],
      "id": "crazy-minority",
      "execution_count": 5,
      "outputs": []
    },
    {
      "cell_type": "code",
      "metadata": {
        "colab": {
          "base_uri": "https://localhost:8080/"
        },
        "id": "determined-license",
        "outputId": "032f6feb-9ee4-426e-c2ca-99d58776a0a8"
      },
      "source": [
        "hrp = HRPOpt(rets)\n",
        "hrp.optimize()\n",
        "weights = hrp.clean_weights()\n",
        "weights"
      ],
      "id": "determined-license",
      "execution_count": 6,
      "outputs": [
        {
          "output_type": "execute_result",
          "data": {
            "text/plain": [
              "OrderedDict([('AAPL', 0.03464),\n",
              "             ('AMD', 0.01777),\n",
              "             ('BAC', 0.04579),\n",
              "             ('BLK', 0.04877),\n",
              "             ('CVS', 0.09385),\n",
              "             ('DIS', 0.06757),\n",
              "             ('INTU', 0.03228),\n",
              "             ('JD', 0.05242),\n",
              "             ('MA', 0.04951),\n",
              "             ('NVDA', 0.0171),\n",
              "             ('PBI', 0.0827),\n",
              "             ('TGT', 0.08809),\n",
              "             ('TM', 0.11073),\n",
              "             ('UL', 0.1534),\n",
              "             ('WMT', 0.10538)])"
            ]
          },
          "metadata": {
            "tags": []
          },
          "execution_count": 6
        }
      ]
    },
    {
      "cell_type": "code",
      "metadata": {
        "colab": {
          "base_uri": "https://localhost:8080/",
          "height": 575
        },
        "id": "existing-memphis",
        "outputId": "0b229d52-6d63-4322-f023-5588c138efa3"
      },
      "source": [
        "pd.Series(weights).plot.pie(figsize=(10, 10));"
      ],
      "id": "existing-memphis",
      "execution_count": 7,
      "outputs": [
        {
          "output_type": "display_data",
          "data": {
            "image/png": "[encoded data removed]",
            "text/plain": [
              "<Figure size 720x720 with 1 Axes>"
            ]
          },
          "metadata": {
            "tags": []
          }
        }
      ]
    },
    {
      "cell_type": "code",
      "metadata": {
        "colab": {
          "base_uri": "https://localhost:8080/"
        },
        "id": "dramatic-spyware",
        "outputId": "035e8173-360c-44b8-f16e-d1b02e026a40"
      },
      "source": [
        "hrp.portfolio_performance(verbose=True);"
      ],
      "id": "dramatic-spyware",
      "execution_count": 8,
      "outputs": [
        {
          "output_type": "stream",
          "text": [
            "Expected annual return: 20.1%\n",
            "Annual volatility: 19.0%\n",
            "Sharpe Ratio: 0.96\n"
          ],
          "name": "stdout"
        }
      ]
    },
    {
      "cell_type": "markdown",
      "metadata": {
        "id": "occupational-costume"
      },
      "source": [
        "## Plotting\n",
        "\n",
        "It is very simple to plot a dendrogram (tree diagram) based on the hierarchical structure of asset returns"
      ],
      "id": "occupational-costume"
    },
    {
      "cell_type": "code",
      "metadata": {
        "colab": {
          "base_uri": "https://localhost:8080/",
          "height": 297
        },
        "id": "upset-meaning",
        "outputId": "2a0edc70-5adb-4124-a033-71294f231865"
      },
      "source": [
        "from pypfopt import plotting\n",
        "\n",
        "plotting.plot_dendrogram(hrp); "
      ],
      "id": "upset-meaning",
      "execution_count": 9,
      "outputs": [
        {
          "output_type": "display_data",
          "data": {
            "image/png": "[encoded data removed]",
            "text/plain": [
              "<Figure size 432x288 with 1 Axes>"
            ]
          },
          "metadata": {
            "tags": [],
            "needs_background": "light"
          }
        }
      ]
    },
    {
      "cell_type": "markdown",
      "metadata": {
        "id": "brave-shock"
      },
      "source": [
        "If you look at this dendogram closely, you can see that most of the clusters make a lot of sense. For example, AMD and NVDA (both semiconductor manufacturers) are grouped."
      ],
      "id": "brave-shock"
    },
    {
      "cell_type": "code",
      "metadata": {
        "id": "macro-found"
      },
      "source": [
        ""
      ],
      "id": "macro-found",
      "execution_count": 9,
      "outputs": []
    }
  ]
}