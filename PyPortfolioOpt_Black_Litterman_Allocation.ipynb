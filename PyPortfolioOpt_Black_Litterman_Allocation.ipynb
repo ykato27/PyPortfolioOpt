{
  "nbformat": 4,
  "nbformat_minor": 0,
  "metadata": {
    "kernelspec": {
      "display_name": "pyportfolioopt",
      "language": "python",
      "name": "pyportfolioopt"
    },
    "language_info": {
      "codemirror_mode": {
        "name": "ipython",
        "version": 3
      },
      "file_extension": ".py",
      "mimetype": "text/x-python",
      "name": "python",
      "nbconvert_exporter": "python",
      "pygments_lexer": "ipython3",
      "version": "3.8.6"
    },
    "colab": {
      "name": "PyPortfolioOpt-Black-Litterman-Allocation.ipynb",
      "provenance": [],
      "collapsed_sections": [],
      "include_colab_link": true
    }
  },
  "cells": [
    {
      "cell_type": "markdown",
      "metadata": {
        "id": "view-in-github",
        "colab_type": "text"
      },
      "source": [
        "<a href=\"https://colab.research.google.com/github/ykato27/PyPortfolioOpt/blob/main/PyPortfolioOpt_Black_Litterman_Allocation.ipynb\" target=\"_parent\"><img src=\"https://colab.research.google.com/assets/colab-badge.svg\" alt=\"Open In Colab\"/></a>"
      ]
    },
    {
      "cell_type": "markdown",
      "metadata": {
        "id": "gippcGl4_WCE"
      },
      "source": [
        "# Black-Litterman allocation\n",
        "\n",
        "The Black-Litterman method is a very powerful way of converting your views on asset returns, along with your uncertainty in these views, into a portfolio.\n",
        "\n",
        "For a description of the theory, please read the [documentation page](https://pyportfolioopt.readthedocs.io/en/latest/BlackLitterman.html) and the links therein.\n",
        "\n",
        "In this recipe, we will cover:\n",
        "\n",
        "- Downloading data for the Black-Litterman method\n",
        "- Constructing the prior return vector based on market equilibrium\n",
        "- Two ways of constructing the uncertainty matrix\n",
        "- Combining Black-Litterman with mean-variance optimization\n",
        "\n",
        "## Downloading data\n",
        "\n",
        "In addition to price data, constructing a market prior requires market-caps. "
      ]
    },
    {
      "cell_type": "code",
      "metadata": {
        "colab": {
          "base_uri": "https://localhost:8080/"
        },
        "id": "xOuE9GFYAEly",
        "outputId": "ebfc196d-45c4-484c-cf1c-0db12671b223"
      },
      "source": [
        "!pip install PyPortfolioOpt\n",
        "!pip install yfinance"
      ],
      "execution_count": 1,
      "outputs": [
        {
          "output_type": "stream",
          "text": [
            "Collecting PyPortfolioOpt\n",
            "\u001b[?25l  Downloading https://files.pythonhosted.org/packages/12/dd/bbe51f36f323c4eee59ec94638b24de1daeda9537403c363cbfab8cd1d29/PyPortfolioOpt-1.4.2-py3-none-any.whl (60kB)\n",
            "\u001b[K     |████████████████████████████████| 61kB 2.1MB/s \n",
            "\u001b[?25hRequirement already satisfied: scipy<2.0,>=1.3 in /usr/local/lib/python3.7/dist-packages (from PyPortfolioOpt) (1.4.1)\n",
            "Requirement already satisfied: numpy<2.0,>=1.12 in /usr/local/lib/python3.7/dist-packages (from PyPortfolioOpt) (1.19.5)\n",
            "Collecting cvxpy<2.0.0,>=1.1.10\n",
            "\u001b[?25l  Downloading https://files.pythonhosted.org/packages/f0/95/e7eb169a7802fe0c5c50dd7f29c2e9d357b5f29c70adc3f5ca2ab684a04b/cvxpy-1.1.13.tar.gz (1.3MB)\n",
            "\u001b[K     |████████████████████████████████| 1.3MB 5.7MB/s \n",
            "\u001b[?25h  Installing build dependencies ... \u001b[?25l\u001b[?25hdone\n",
            "  Getting requirements to build wheel ... \u001b[?25l\u001b[?25hdone\n",
            "    Preparing wheel metadata ... \u001b[?25l\u001b[?25hdone\n",
            "Requirement already satisfied: pandas>=0.19 in /usr/local/lib/python3.7/dist-packages (from PyPortfolioOpt) (1.1.5)\n",
            "Requirement already satisfied: scs>=1.1.6 in /usr/local/lib/python3.7/dist-packages (from cvxpy<2.0.0,>=1.1.10->PyPortfolioOpt) (2.1.4)\n",
            "Requirement already satisfied: osqp>=0.4.1 in /usr/local/lib/python3.7/dist-packages (from cvxpy<2.0.0,>=1.1.10->PyPortfolioOpt) (0.6.2.post0)\n",
            "Requirement already satisfied: ecos>=2 in /usr/local/lib/python3.7/dist-packages (from cvxpy<2.0.0,>=1.1.10->PyPortfolioOpt) (2.0.7.post1)\n",
            "Requirement already satisfied: pytz>=2017.2 in /usr/local/lib/python3.7/dist-packages (from pandas>=0.19->PyPortfolioOpt) (2018.9)\n",
            "Requirement already satisfied: python-dateutil>=2.7.3 in /usr/local/lib/python3.7/dist-packages (from pandas>=0.19->PyPortfolioOpt) (2.8.1)\n",
            "Requirement already satisfied: qdldl in /usr/local/lib/python3.7/dist-packages (from osqp>=0.4.1->cvxpy<2.0.0,>=1.1.10->PyPortfolioOpt) (0.1.5.post0)\n",
            "Requirement already satisfied: six>=1.5 in /usr/local/lib/python3.7/dist-packages (from python-dateutil>=2.7.3->pandas>=0.19->PyPortfolioOpt) (1.15.0)\n",
            "Building wheels for collected packages: cvxpy\n",
            "  Building wheel for cvxpy (PEP 517) ... \u001b[?25l\u001b[?25hdone\n",
            "  Created wheel for cvxpy: filename=cvxpy-1.1.13-cp37-cp37m-linux_x86_64.whl size=2736219 sha256=efb87882caef9b8ed9a62f6b3c3e25337c217deaf98b90cf02ed01ae81c7e1b2\n",
            "  Stored in directory: /root/.cache/pip/wheels/f9/78/00/f29636789ee83434953b5442f16ec3f9834a68e7fd0393c220\n",
            "Successfully built cvxpy\n",
            "Installing collected packages: cvxpy, PyPortfolioOpt\n",
            "  Found existing installation: cvxpy 1.0.31\n",
            "    Uninstalling cvxpy-1.0.31:\n",
            "      Successfully uninstalled cvxpy-1.0.31\n",
            "Successfully installed PyPortfolioOpt-1.4.2 cvxpy-1.1.13\n",
            "Collecting yfinance\n",
            "  Downloading https://files.pythonhosted.org/packages/a7/ee/315752b9ef281ba83c62aa7ec2e2074f85223da6e7e74efb4d3e11c0f510/yfinance-0.1.59.tar.gz\n",
            "Requirement already satisfied: pandas>=0.24 in /usr/local/lib/python3.7/dist-packages (from yfinance) (1.1.5)\n",
            "Requirement already satisfied: numpy>=1.15 in /usr/local/lib/python3.7/dist-packages (from yfinance) (1.19.5)\n",
            "Requirement already satisfied: requests>=2.20 in /usr/local/lib/python3.7/dist-packages (from yfinance) (2.23.0)\n",
            "Requirement already satisfied: multitasking>=0.0.7 in /usr/local/lib/python3.7/dist-packages (from yfinance) (0.0.9)\n",
            "Collecting lxml>=4.5.1\n",
            "\u001b[?25l  Downloading https://files.pythonhosted.org/packages/30/c0/d0526314971fc661b083ab135747dc68446a3022686da8c16d25fcf6ef07/lxml-4.6.3-cp37-cp37m-manylinux2014_x86_64.whl (6.3MB)\n",
            "\u001b[K     |████████████████████████████████| 6.3MB 3.9MB/s \n",
            "\u001b[?25hRequirement already satisfied: pytz>=2017.2 in /usr/local/lib/python3.7/dist-packages (from pandas>=0.24->yfinance) (2018.9)\n",
            "Requirement already satisfied: python-dateutil>=2.7.3 in /usr/local/lib/python3.7/dist-packages (from pandas>=0.24->yfinance) (2.8.1)\n",
            "Requirement already satisfied: idna<3,>=2.5 in /usr/local/lib/python3.7/dist-packages (from requests>=2.20->yfinance) (2.10)\n",
            "Requirement already satisfied: certifi>=2017.4.17 in /usr/local/lib/python3.7/dist-packages (from requests>=2.20->yfinance) (2021.5.30)\n",
            "Requirement already satisfied: urllib3!=1.25.0,!=1.25.1,<1.26,>=1.21.1 in /usr/local/lib/python3.7/dist-packages (from requests>=2.20->yfinance) (1.24.3)\n",
            "Requirement already satisfied: chardet<4,>=3.0.2 in /usr/local/lib/python3.7/dist-packages (from requests>=2.20->yfinance) (3.0.4)\n",
            "Requirement already satisfied: six>=1.5 in /usr/local/lib/python3.7/dist-packages (from python-dateutil>=2.7.3->pandas>=0.24->yfinance) (1.15.0)\n",
            "Building wheels for collected packages: yfinance\n",
            "  Building wheel for yfinance (setup.py) ... \u001b[?25l\u001b[?25hdone\n",
            "  Created wheel for yfinance: filename=yfinance-0.1.59-py2.py3-none-any.whl size=23455 sha256=57d9a2ef89927691b557839012ef63b14acfb65cbd9fad9c69bade8103e8dd56\n",
            "  Stored in directory: /root/.cache/pip/wheels/f8/2a/0f/4b5a86e1d52e451757eb6bc17fd899629f0925c777741b6d04\n",
            "Successfully built yfinance\n",
            "Installing collected packages: lxml, yfinance\n",
            "  Found existing installation: lxml 4.2.6\n",
            "    Uninstalling lxml-4.2.6:\n",
            "      Successfully uninstalled lxml-4.2.6\n",
            "Successfully installed lxml-4.6.3 yfinance-0.1.59\n"
          ],
          "name": "stdout"
        }
      ]
    },
    {
      "cell_type": "code",
      "metadata": {
        "id": "WdJzQnG7_WCF"
      },
      "source": [
        "import numpy as np\n",
        "import pandas as pd\n",
        "import matplotlib.pyplot as plt\n",
        "import yfinance as yf"
      ],
      "execution_count": 2,
      "outputs": []
    },
    {
      "cell_type": "code",
      "metadata": {
        "id": "vaYcgKOK_WCG"
      },
      "source": [
        "tickers = [\"MSFT\", \"AMZN\", \"NAT\", \"BAC\", \"DPZ\", \"DIS\", \"KO\", \"MCD\", \"COST\", \"SBUX\"]"
      ],
      "execution_count": 3,
      "outputs": []
    },
    {
      "cell_type": "code",
      "metadata": {
        "colab": {
          "base_uri": "https://localhost:8080/",
          "height": 357
        },
        "id": "SEgpi2rY_WCH",
        "outputId": "cbb92a19-2683-42ea-976d-eed394222369"
      },
      "source": [
        "ohlc = yf.download(tickers, period=\"max\")\n",
        "prices = ohlc[\"Adj Close\"]\n",
        "prices.tail()"
      ],
      "execution_count": 4,
      "outputs": [
        {
          "output_type": "stream",
          "text": [
            "[*********************100%***********************]  10 of 10 completed\n"
          ],
          "name": "stdout"
        },
        {
          "output_type": "execute_result",
          "data": {
            "text/html": [
              "<div>\n",
              "<style scoped>\n",
              "    .dataframe tbody tr th:only-of-type {\n",
              "        vertical-align: middle;\n",
              "    }\n",
              "\n",
              "    .dataframe tbody tr th {\n",
              "        vertical-align: top;\n",
              "    }\n",
              "\n",
              "    .dataframe thead th {\n",
              "        text-align: right;\n",
              "    }\n",
              "</style>\n",
              "<table border=\"1\" class=\"dataframe\">\n",
              "  <thead>\n",
              "    <tr style=\"text-align: right;\">\n",
              "      <th></th>\n",
              "      <th>AMZN</th>\n",
              "      <th>BAC</th>\n",
              "      <th>COST</th>\n",
              "      <th>DIS</th>\n",
              "      <th>DPZ</th>\n",
              "      <th>KO</th>\n",
              "      <th>MCD</th>\n",
              "      <th>MSFT</th>\n",
              "      <th>NAT</th>\n",
              "      <th>SBUX</th>\n",
              "    </tr>\n",
              "    <tr>\n",
              "      <th>Date</th>\n",
              "      <th></th>\n",
              "      <th></th>\n",
              "      <th></th>\n",
              "      <th></th>\n",
              "      <th></th>\n",
              "      <th></th>\n",
              "      <th></th>\n",
              "      <th></th>\n",
              "      <th></th>\n",
              "      <th></th>\n",
              "    </tr>\n",
              "  </thead>\n",
              "  <tbody>\n",
              "    <tr>\n",
              "      <th>2021-06-25</th>\n",
              "      <td>3401.459961</td>\n",
              "      <td>41.619999</td>\n",
              "      <td>394.510010</td>\n",
              "      <td>178.350006</td>\n",
              "      <td>457.980011</td>\n",
              "      <td>54.320000</td>\n",
              "      <td>232.419998</td>\n",
              "      <td>265.019989</td>\n",
              "      <td>3.41</td>\n",
              "      <td>113.040001</td>\n",
              "    </tr>\n",
              "    <tr>\n",
              "      <th>2021-06-28</th>\n",
              "      <td>3443.889893</td>\n",
              "      <td>41.560001</td>\n",
              "      <td>396.540009</td>\n",
              "      <td>176.570007</td>\n",
              "      <td>463.529999</td>\n",
              "      <td>54.259998</td>\n",
              "      <td>231.089996</td>\n",
              "      <td>268.720001</td>\n",
              "      <td>3.25</td>\n",
              "      <td>112.239998</td>\n",
              "    </tr>\n",
              "    <tr>\n",
              "      <th>2021-06-29</th>\n",
              "      <td>3448.139893</td>\n",
              "      <td>40.889999</td>\n",
              "      <td>398.790009</td>\n",
              "      <td>173.929993</td>\n",
              "      <td>463.450012</td>\n",
              "      <td>53.860001</td>\n",
              "      <td>230.369995</td>\n",
              "      <td>271.399994</td>\n",
              "      <td>3.26</td>\n",
              "      <td>112.269997</td>\n",
              "    </tr>\n",
              "    <tr>\n",
              "      <th>2021-06-30</th>\n",
              "      <td>3440.159912</td>\n",
              "      <td>41.230000</td>\n",
              "      <td>395.670013</td>\n",
              "      <td>175.770004</td>\n",
              "      <td>466.489990</td>\n",
              "      <td>54.110001</td>\n",
              "      <td>230.990005</td>\n",
              "      <td>270.899994</td>\n",
              "      <td>3.28</td>\n",
              "      <td>111.809998</td>\n",
              "    </tr>\n",
              "    <tr>\n",
              "      <th>2021-07-01</th>\n",
              "      <td>3432.969971</td>\n",
              "      <td>41.540001</td>\n",
              "      <td>394.529999</td>\n",
              "      <td>177.259995</td>\n",
              "      <td>466.019989</td>\n",
              "      <td>53.959999</td>\n",
              "      <td>232.270004</td>\n",
              "      <td>271.600006</td>\n",
              "      <td>3.18</td>\n",
              "      <td>113.410004</td>\n",
              "    </tr>\n",
              "  </tbody>\n",
              "</table>\n",
              "</div>"
            ],
            "text/plain": [
              "                   AMZN        BAC        COST  ...        MSFT   NAT        SBUX\n",
              "Date                                            ...                              \n",
              "2021-06-25  3401.459961  41.619999  394.510010  ...  265.019989  3.41  113.040001\n",
              "2021-06-28  3443.889893  41.560001  396.540009  ...  268.720001  3.25  112.239998\n",
              "2021-06-29  3448.139893  40.889999  398.790009  ...  271.399994  3.26  112.269997\n",
              "2021-06-30  3440.159912  41.230000  395.670013  ...  270.899994  3.28  111.809998\n",
              "2021-07-01  3432.969971  41.540001  394.529999  ...  271.600006  3.18  113.410004\n",
              "\n",
              "[5 rows x 10 columns]"
            ]
          },
          "metadata": {
            "tags": []
          },
          "execution_count": 4
        }
      ]
    },
    {
      "cell_type": "code",
      "metadata": {
        "colab": {
          "base_uri": "https://localhost:8080/"
        },
        "id": "VeDtz68f_WCI",
        "outputId": "723a826c-3378-4316-8b4b-72cc9efa53e8"
      },
      "source": [
        "market_prices = yf.download(\"SPY\", period=\"max\")[\"Adj Close\"]\n",
        "market_prices.head()"
      ],
      "execution_count": 5,
      "outputs": [
        {
          "output_type": "stream",
          "text": [
            "\r[*********************100%***********************]  1 of 1 completed\n"
          ],
          "name": "stdout"
        },
        {
          "output_type": "execute_result",
          "data": {
            "text/plain": [
              "Date\n",
              "1993-01-29    25.799770\n",
              "1993-02-01    25.983273\n",
              "1993-02-02    26.038315\n",
              "1993-02-03    26.313566\n",
              "1993-02-04    26.423655\n",
              "Name: Adj Close, dtype: float64"
            ]
          },
          "metadata": {
            "tags": []
          },
          "execution_count": 5
        }
      ]
    },
    {
      "cell_type": "code",
      "metadata": {
        "colab": {
          "base_uri": "https://localhost:8080/"
        },
        "id": "0PibccLb_WCJ",
        "outputId": "822476f9-0f87-420e-e26d-a2eb84537f28"
      },
      "source": [
        "mcaps = {}\n",
        "for t in tickers:\n",
        "    stock = yf.Ticker(t)\n",
        "    mcaps[t] = stock.info[\"marketCap\"]\n",
        "mcaps"
      ],
      "execution_count": 6,
      "outputs": [
        {
          "output_type": "execute_result",
          "data": {
            "text/plain": [
              "{'AMZN': 1729175617536,\n",
              " 'BAC': 355969564672,\n",
              " 'COST': 174409482240,\n",
              " 'DIS': 322069004288,\n",
              " 'DPZ': 18094811136,\n",
              " 'KO': 232658255872,\n",
              " 'MCD': 173313835008,\n",
              " 'MSFT': 2045574512640,\n",
              " 'NAT': 497786752,\n",
              " 'SBUX': 133631008768}"
            ]
          },
          "metadata": {
            "tags": []
          },
          "execution_count": 6
        }
      ]
    },
    {
      "cell_type": "markdown",
      "metadata": {
        "id": "wy4QUlaC_WCK"
      },
      "source": [
        "## Constructing the prior"
      ]
    },
    {
      "cell_type": "code",
      "metadata": {
        "colab": {
          "base_uri": "https://localhost:8080/",
          "height": 35
        },
        "id": "R8ldLOnW_WCK",
        "outputId": "744d85c6-98f2-44be-aa9d-80ac6e889138"
      },
      "source": [
        "import pypfopt\n",
        "pypfopt.__version__"
      ],
      "execution_count": 7,
      "outputs": [
        {
          "output_type": "execute_result",
          "data": {
            "application/vnd.google.colaboratory.intrinsic+json": {
              "type": "string"
            },
            "text/plain": [
              "'1.4.2'"
            ]
          },
          "metadata": {
            "tags": []
          },
          "execution_count": 7
        }
      ]
    },
    {
      "cell_type": "code",
      "metadata": {
        "colab": {
          "base_uri": "https://localhost:8080/"
        },
        "id": "JeNyWfDq_WCL",
        "outputId": "16d3a6f0-dee7-44d1-803c-4d05e666c423"
      },
      "source": [
        "from pypfopt import black_litterman, risk_models\n",
        "from pypfopt import BlackLittermanModel, plotting\n",
        "\n",
        "S = risk_models.CovarianceShrinkage(prices).ledoit_wolf()\n",
        "delta = black_litterman.market_implied_risk_aversion(market_prices)\n",
        "delta"
      ],
      "execution_count": 8,
      "outputs": [
        {
          "output_type": "execute_result",
          "data": {
            "text/plain": [
              "2.736419482287415"
            ]
          },
          "metadata": {
            "tags": []
          },
          "execution_count": 8
        }
      ]
    },
    {
      "cell_type": "code",
      "metadata": {
        "colab": {
          "base_uri": "https://localhost:8080/",
          "height": 297
        },
        "id": "8lkGaPWf_WCL",
        "outputId": "0b6ac8bd-6857-4604-ea41-47d2c7fdb799"
      },
      "source": [
        "plotting.plot_covariance(S, plot_correlation=True);"
      ],
      "execution_count": 9,
      "outputs": [
        {
          "output_type": "display_data",
          "data": {
            "image/png": "[encoded data removed]",
            "text/plain": [
              "<Figure size 432x288 with 2 Axes>"
            ]
          },
          "metadata": {
            "tags": [],
            "needs_background": "light"
          }
        }
      ]
    },
    {
      "cell_type": "code",
      "metadata": {
        "colab": {
          "base_uri": "https://localhost:8080/"
        },
        "id": "jntGQzOS_WCL",
        "outputId": "3deca81e-1c75-46d6-840a-3f350cb35fbf"
      },
      "source": [
        "market_prior = black_litterman.market_implied_prior_returns(mcaps, delta, S)\n",
        "market_prior"
      ],
      "execution_count": 10,
      "outputs": [
        {
          "output_type": "execute_result",
          "data": {
            "text/plain": [
              "AMZN    0.190484\n",
              "BAC     0.109366\n",
              "COST    0.077593\n",
              "DIS     0.099710\n",
              "DPZ     0.049131\n",
              "KO      0.064468\n",
              "MCD     0.069266\n",
              "MSFT    0.136957\n",
              "NAT     0.053481\n",
              "SBUX    0.082829\n",
              "dtype: float64"
            ]
          },
          "metadata": {
            "tags": []
          },
          "execution_count": 10
        }
      ]
    },
    {
      "cell_type": "code",
      "metadata": {
        "colab": {
          "base_uri": "https://localhost:8080/",
          "height": 320
        },
        "id": "DyY6BPGn_WCM",
        "outputId": "2dc6432e-795d-4c2e-c5c8-efce4342e223"
      },
      "source": [
        "market_prior.plot.barh(figsize=(10,5));"
      ],
      "execution_count": 11,
      "outputs": [
        {
          "output_type": "display_data",
          "data": {
            "image/png": "[encoded data removed]",
            "text/plain": [
              "<Figure size 720x360 with 1 Axes>"
            ]
          },
          "metadata": {
            "tags": [],
            "needs_background": "light"
          }
        }
      ]
    },
    {
      "cell_type": "markdown",
      "metadata": {
        "id": "bTrwuBIu_WCM"
      },
      "source": [
        "## Views\n",
        "\n",
        "In the BL method, views are specified via the matrix P (picking matrix) and the vector Q. Q contains the magnitude of each view, while P maps the views to the assets they belong to. \n",
        "\n",
        "If you are providing **absolute views** (i.e a return estimate for each asset), you don't have to worry about P and Q, you can just pass your views as a dictionary."
      ]
    },
    {
      "cell_type": "code",
      "metadata": {
        "id": "E6OkL_j7_WCN"
      },
      "source": [
        "# You don't have to provide views on all the assets\n",
        "viewdict = {\n",
        "    \"AMZN\": 0.10,\n",
        "    \"BAC\": 0.30,\n",
        "    \"COST\": 0.05,\n",
        "    \"DIS\": 0.05,\n",
        "    \"DPZ\": 0.20,\n",
        "    \"KO\": -0.05,  # I think Coca-Cola will go down 5%\n",
        "    \"MCD\": 0.15,\n",
        "    \"MSFT\": 0.10,\n",
        "    \"NAT\": 0.50,  # but low confidence, which will be reflected later\n",
        "    \"SBUX\": 0.10\n",
        "}\n",
        "\n",
        "bl = BlackLittermanModel(S, pi=market_prior, absolute_views=viewdict)"
      ],
      "execution_count": 12,
      "outputs": []
    },
    {
      "cell_type": "markdown",
      "metadata": {
        "id": "KHkAhbI8_WCN"
      },
      "source": [
        "Black-Litterman also allows for relative views, e.g you think asset A will outperform asset B by 10%. If you'd like to incorporate these, you will have to build P and Q yourself. An explanation for this is given in the [docs](https://pyportfolioopt.readthedocs.io/en/latest/BlackLitterman.html#views)."
      ]
    },
    {
      "cell_type": "markdown",
      "metadata": {
        "id": "7y9ojhnK_WCN"
      },
      "source": [
        "## View confidences\n",
        "\n",
        "In this section, we provide two ways that you may wish to construct the uncertainty matrix. The first is known as Idzorek's method. It allows you to specify a vector/list of percentage confidences."
      ]
    },
    {
      "cell_type": "code",
      "metadata": {
        "id": "l6jHNVP5_WCO"
      },
      "source": [
        "confidences = [\n",
        "    0.6,\n",
        "    0.4,\n",
        "    0.2,\n",
        "    0.5,\n",
        "    0.7, # confident in dominos\n",
        "    0.7, # confident KO will do poorly\n",
        "    0.7, \n",
        "    0.5,\n",
        "    0.1,\n",
        "    0.4\n",
        "]"
      ],
      "execution_count": 13,
      "outputs": []
    },
    {
      "cell_type": "code",
      "metadata": {
        "id": "SSKVrgYK_WCO"
      },
      "source": [
        "bl = BlackLittermanModel(S, pi=market_prior, absolute_views=viewdict, omega=\"idzorek\", view_confidences=confidences)"
      ],
      "execution_count": 14,
      "outputs": []
    },
    {
      "cell_type": "code",
      "metadata": {
        "colab": {
          "base_uri": "https://localhost:8080/",
          "height": 428
        },
        "id": "aC-0YJy8_WCO",
        "outputId": "52602721-800e-468b-e632-84f7506c908a"
      },
      "source": [
        "fig, ax = plt.subplots(figsize=(7,7))\n",
        "im = ax.imshow(bl.omega)\n",
        "\n",
        "# We want to show all ticks...\n",
        "ax.set_xticks(np.arange(len(bl.tickers)))\n",
        "ax.set_yticks(np.arange(len(bl.tickers)))\n",
        "\n",
        "ax.set_xticklabels(bl.tickers)\n",
        "ax.set_yticklabels(bl.tickers)\n",
        "plt.show()"
      ],
      "execution_count": 15,
      "outputs": [
        {
          "output_type": "display_data",
          "data": {
            "image/png": "[encoded data removed]",
            "text/plain": [
              "<Figure size 504x504 with 1 Axes>"
            ]
          },
          "metadata": {
            "tags": [],
            "needs_background": "light"
          }
        }
      ]
    },
    {
      "cell_type": "code",
      "metadata": {
        "colab": {
          "base_uri": "https://localhost:8080/"
        },
        "id": "0QU7bq2W_WCP",
        "outputId": "f19b5396-0236-4ed0-ed76-a65db0275c57"
      },
      "source": [
        "np.diag(bl.omega)"
      ],
      "execution_count": 16,
      "outputs": [
        {
          "output_type": "execute_result",
          "data": {
            "text/plain": [
              "array([0.00457037, 0.00895501, 0.01207911, 0.00497161, 0.00080814,\n",
              "       0.00116249, 0.00174435, 0.00343913, 0.0354496 , 0.00536823])"
            ]
          },
          "metadata": {
            "tags": []
          },
          "execution_count": 16
        }
      ]
    },
    {
      "cell_type": "markdown",
      "metadata": {
        "id": "2JR8lh1s_WCP"
      },
      "source": [
        "Note how NAT, which we gave the lowest confidence, also has the highest uncertainty.\n",
        "\n",
        "Instead of inputting confidences, we can calculate the uncertainty matrix directly by specifying 1 standard deviation confidence intervals, i.e bounds which we think will contain the true return 68% of the time. This may be easier than coming up with somewhat arbitrary percentage confidences"
      ]
    },
    {
      "cell_type": "code",
      "metadata": {
        "id": "o6kmUPiI_WCQ"
      },
      "source": [
        "intervals = [\n",
        "    (0, 0.25),\n",
        "    (0.1, 0.4),\n",
        "    (-0.1, 0.15),\n",
        "    (-0.05, 0.1),\n",
        "    (0.15, 0.25),\n",
        "    (-0.1, 0),\n",
        "    (0.1, 0.2),\n",
        "    (0.08, 0.12),\n",
        "    (0.1, 0.9),\n",
        "    (0, 0.3)\n",
        "]"
      ],
      "execution_count": 17,
      "outputs": []
    },
    {
      "cell_type": "code",
      "metadata": {
        "colab": {
          "base_uri": "https://localhost:8080/"
        },
        "id": "3ml9KroJ_WCQ",
        "outputId": "de005e2f-6532-4efb-a500-0f75cdc9f4d8"
      },
      "source": [
        "variances = []\n",
        "for lb, ub in intervals:\n",
        "    sigma = (ub - lb)/2\n",
        "    variances.append(sigma ** 2)\n",
        "\n",
        "print(variances)\n",
        "omega = np.diag(variances)"
      ],
      "execution_count": 18,
      "outputs": [
        {
          "output_type": "stream",
          "text": [
            "[0.015625, 0.022500000000000006, 0.015625, 0.0056250000000000015, 0.0025000000000000005, 0.0025000000000000005, 0.0025000000000000005, 0.00039999999999999986, 0.16000000000000003, 0.0225]\n"
          ],
          "name": "stdout"
        }
      ]
    },
    {
      "cell_type": "markdown",
      "metadata": {
        "id": "jANdGBLF_WCR"
      },
      "source": [
        "## Posterior estimates\n",
        "\n",
        "Given the inputs, we can compute a posterior estimate of returns\n"
      ]
    },
    {
      "cell_type": "code",
      "metadata": {
        "id": "wKAFu36b_WCR"
      },
      "source": [
        "# We are using the shortcut to automatically compute market-implied prior\n",
        "bl = BlackLittermanModel(S, pi=\"market\", market_caps=mcaps, risk_aversion=delta,\n",
        "                        absolute_views=viewdict, omega=omega)"
      ],
      "execution_count": 19,
      "outputs": []
    },
    {
      "cell_type": "code",
      "metadata": {
        "colab": {
          "base_uri": "https://localhost:8080/"
        },
        "id": "IuxfUtTn_WCR",
        "outputId": "394e22bb-cd82-423a-fa3a-20c9c2d57f44"
      },
      "source": [
        "# Posterior estimate of returns\n",
        "ret_bl = bl.bl_returns()\n",
        "ret_bl"
      ],
      "execution_count": 20,
      "outputs": [
        {
          "output_type": "execute_result",
          "data": {
            "text/plain": [
              "AMZN    0.162797\n",
              "BAC     0.138267\n",
              "COST    0.061173\n",
              "DIS     0.075012\n",
              "DPZ     0.102225\n",
              "KO      0.007487\n",
              "MCD     0.104327\n",
              "MSFT    0.103165\n",
              "NAT     0.061670\n",
              "SBUX    0.083833\n",
              "dtype: float64"
            ]
          },
          "metadata": {
            "tags": []
          },
          "execution_count": 20
        }
      ]
    },
    {
      "cell_type": "markdown",
      "metadata": {
        "id": "H98j7JWQ_WCS"
      },
      "source": [
        "We can visualise how this compares to the prior and our views:"
      ]
    },
    {
      "cell_type": "code",
      "metadata": {
        "colab": {
          "base_uri": "https://localhost:8080/",
          "height": 359
        },
        "id": "Ztho3fX-_WCS",
        "outputId": "fbc88f35-4458-4716-e2dc-02a5f39030ff"
      },
      "source": [
        "rets_df = pd.DataFrame([market_prior, ret_bl, pd.Series(viewdict)], \n",
        "             index=[\"Prior\", \"Posterior\", \"Views\"]).T\n",
        "rets_df"
      ],
      "execution_count": 21,
      "outputs": [
        {
          "output_type": "execute_result",
          "data": {
            "text/html": [
              "<div>\n",
              "<style scoped>\n",
              "    .dataframe tbody tr th:only-of-type {\n",
              "        vertical-align: middle;\n",
              "    }\n",
              "\n",
              "    .dataframe tbody tr th {\n",
              "        vertical-align: top;\n",
              "    }\n",
              "\n",
              "    .dataframe thead th {\n",
              "        text-align: right;\n",
              "    }\n",
              "</style>\n",
              "<table border=\"1\" class=\"dataframe\">\n",
              "  <thead>\n",
              "    <tr style=\"text-align: right;\">\n",
              "      <th></th>\n",
              "      <th>Prior</th>\n",
              "      <th>Posterior</th>\n",
              "      <th>Views</th>\n",
              "    </tr>\n",
              "  </thead>\n",
              "  <tbody>\n",
              "    <tr>\n",
              "      <th>AMZN</th>\n",
              "      <td>0.190484</td>\n",
              "      <td>0.162797</td>\n",
              "      <td>0.10</td>\n",
              "    </tr>\n",
              "    <tr>\n",
              "      <th>BAC</th>\n",
              "      <td>0.109366</td>\n",
              "      <td>0.138267</td>\n",
              "      <td>0.30</td>\n",
              "    </tr>\n",
              "    <tr>\n",
              "      <th>COST</th>\n",
              "      <td>0.077593</td>\n",
              "      <td>0.061173</td>\n",
              "      <td>0.05</td>\n",
              "    </tr>\n",
              "    <tr>\n",
              "      <th>DIS</th>\n",
              "      <td>0.099710</td>\n",
              "      <td>0.075012</td>\n",
              "      <td>0.05</td>\n",
              "    </tr>\n",
              "    <tr>\n",
              "      <th>DPZ</th>\n",
              "      <td>0.049131</td>\n",
              "      <td>0.102225</td>\n",
              "      <td>0.20</td>\n",
              "    </tr>\n",
              "    <tr>\n",
              "      <th>KO</th>\n",
              "      <td>0.064468</td>\n",
              "      <td>0.007487</td>\n",
              "      <td>-0.05</td>\n",
              "    </tr>\n",
              "    <tr>\n",
              "      <th>MCD</th>\n",
              "      <td>0.069266</td>\n",
              "      <td>0.104327</td>\n",
              "      <td>0.15</td>\n",
              "    </tr>\n",
              "    <tr>\n",
              "      <th>MSFT</th>\n",
              "      <td>0.136957</td>\n",
              "      <td>0.103165</td>\n",
              "      <td>0.10</td>\n",
              "    </tr>\n",
              "    <tr>\n",
              "      <th>NAT</th>\n",
              "      <td>0.053481</td>\n",
              "      <td>0.061670</td>\n",
              "      <td>0.50</td>\n",
              "    </tr>\n",
              "    <tr>\n",
              "      <th>SBUX</th>\n",
              "      <td>0.082829</td>\n",
              "      <td>0.083833</td>\n",
              "      <td>0.10</td>\n",
              "    </tr>\n",
              "  </tbody>\n",
              "</table>\n",
              "</div>"
            ],
            "text/plain": [
              "         Prior  Posterior  Views\n",
              "AMZN  0.190484   0.162797   0.10\n",
              "BAC   0.109366   0.138267   0.30\n",
              "COST  0.077593   0.061173   0.05\n",
              "DIS   0.099710   0.075012   0.05\n",
              "DPZ   0.049131   0.102225   0.20\n",
              "KO    0.064468   0.007487  -0.05\n",
              "MCD   0.069266   0.104327   0.15\n",
              "MSFT  0.136957   0.103165   0.10\n",
              "NAT   0.053481   0.061670   0.50\n",
              "SBUX  0.082829   0.083833   0.10"
            ]
          },
          "metadata": {
            "tags": []
          },
          "execution_count": 21
        }
      ]
    },
    {
      "cell_type": "code",
      "metadata": {
        "colab": {
          "base_uri": "https://localhost:8080/",
          "height": 503
        },
        "id": "rqpOjFT3_WCS",
        "outputId": "78619bc1-6a5e-4ec4-f81d-0d4193d96201"
      },
      "source": [
        "rets_df.plot.bar(figsize=(12,8));"
      ],
      "execution_count": 22,
      "outputs": [
        {
          "output_type": "display_data",
          "data": {
            "image/png": "[encoded data removed]",
            "text/plain": [
              "<Figure size 864x576 with 1 Axes>"
            ]
          },
          "metadata": {
            "tags": [],
            "needs_background": "light"
          }
        }
      ]
    },
    {
      "cell_type": "markdown",
      "metadata": {
        "id": "wRNWv-y7_WCS"
      },
      "source": [
        "Notice that the posterior is often between the prior and the views. This supports the fact that the BL method is essentially a Bayesian weighted-average of the prior and views, where the weight is determined by the confidence.\n",
        "\n",
        "A similar but less intuitive procedure can be used to produce the posterior covariance estimate:"
      ]
    },
    {
      "cell_type": "code",
      "metadata": {
        "colab": {
          "base_uri": "https://localhost:8080/",
          "height": 297
        },
        "id": "pqq6-csX_WCT",
        "outputId": "a4775a48-8230-41a2-87cf-2f6595fa10d9"
      },
      "source": [
        "S_bl = bl.bl_cov()\n",
        "plotting.plot_covariance(S_bl);"
      ],
      "execution_count": 23,
      "outputs": [
        {
          "output_type": "display_data",
          "data": {
            "image/png": "[encoded data removed]",
            "text/plain": [
              "<Figure size 432x288 with 2 Axes>"
            ]
          },
          "metadata": {
            "tags": [],
            "needs_background": "light"
          }
        }
      ]
    },
    {
      "cell_type": "markdown",
      "metadata": {
        "id": "6pRI_F-J_WCT"
      },
      "source": [
        "## Portfolio allocation\n",
        "\n",
        "Now that we have constructed our Black-Litterman posterior estimate, we can proceed to use any of the optimizers discussed in previous recipes."
      ]
    },
    {
      "cell_type": "code",
      "metadata": {
        "id": "-4ZfwjCz_WCT"
      },
      "source": [
        "from pypfopt import EfficientFrontier, objective_functions"
      ],
      "execution_count": 24,
      "outputs": []
    },
    {
      "cell_type": "code",
      "metadata": {
        "colab": {
          "base_uri": "https://localhost:8080/"
        },
        "id": "CmNFB6G8_WCT",
        "outputId": "007fa668-2372-48b0-98d2-5fade367aac4"
      },
      "source": [
        "ef = EfficientFrontier(ret_bl, S_bl)\n",
        "ef.add_objective(objective_functions.L2_reg)\n",
        "ef.max_sharpe()\n",
        "weights = ef.clean_weights()\n",
        "weights"
      ],
      "execution_count": 25,
      "outputs": [
        {
          "output_type": "stream",
          "text": [
            "/usr/local/lib/python3.7/dist-packages/pypfopt/efficient_frontier/efficient_frontier.py:253: UserWarning: max_sharpe transforms the optimization problem so additional objectives may not work as expected.\n",
            "  \"max_sharpe transforms the optimization problem so additional objectives may not work as expected.\"\n"
          ],
          "name": "stderr"
        },
        {
          "output_type": "execute_result",
          "data": {
            "text/plain": [
              "OrderedDict([('AMZN', 0.20377),\n",
              "             ('BAC', 0.16513),\n",
              "             ('COST', 0.05246),\n",
              "             ('DIS', 0.06715),\n",
              "             ('DPZ', 0.12842),\n",
              "             ('KO', 0.0),\n",
              "             ('MCD', 0.12328),\n",
              "             ('MSFT', 0.11796),\n",
              "             ('NAT', 0.05556),\n",
              "             ('SBUX', 0.08626)])"
            ]
          },
          "metadata": {
            "tags": []
          },
          "execution_count": 25
        }
      ]
    },
    {
      "cell_type": "code",
      "metadata": {
        "colab": {
          "base_uri": "https://localhost:8080/",
          "height": 575
        },
        "id": "lz-f4rZo_WCT",
        "outputId": "803f5743-0e1f-43d4-cfb8-fca2fe250658"
      },
      "source": [
        "pd.Series(weights).plot.pie(figsize=(10,10));"
      ],
      "execution_count": 26,
      "outputs": [
        {
          "output_type": "display_data",
          "data": {
            "image/png": "[encoded data removed]",
            "text/plain": [
              "<Figure size 720x720 with 1 Axes>"
            ]
          },
          "metadata": {
            "tags": []
          }
        }
      ]
    },
    {
      "cell_type": "code",
      "metadata": {
        "colab": {
          "base_uri": "https://localhost:8080/"
        },
        "id": "mACerJtg_WCU",
        "outputId": "636fca5e-3a69-4570-9a77-a291492ed434"
      },
      "source": [
        "from pypfopt import DiscreteAllocation\n",
        "\n",
        "da = DiscreteAllocation(weights, prices.iloc[-1], total_portfolio_value=20000)\n",
        "alloc, leftover = da.lp_portfolio()\n",
        "print(f\"Leftover: ${leftover:.2f}\")\n",
        "alloc"
      ],
      "execution_count": 27,
      "outputs": [
        {
          "output_type": "stream",
          "text": [
            "Leftover: $32.52\n"
          ],
          "name": "stdout"
        },
        {
          "output_type": "execute_result",
          "data": {
            "text/plain": [
              "{'AMZN': 1,\n",
              " 'BAC': 80,\n",
              " 'COST': 3,\n",
              " 'DIS': 8,\n",
              " 'DPZ': 6,\n",
              " 'MCD': 11,\n",
              " 'MSFT': 9,\n",
              " 'NAT': 350,\n",
              " 'SBUX': 15}"
            ]
          },
          "metadata": {
            "tags": []
          },
          "execution_count": 27
        }
      ]
    },
    {
      "cell_type": "code",
      "metadata": {
        "id": "lZd2sy_x_WCU"
      },
      "source": [
        ""
      ],
      "execution_count": 27,
      "outputs": []
    }
  ]
}