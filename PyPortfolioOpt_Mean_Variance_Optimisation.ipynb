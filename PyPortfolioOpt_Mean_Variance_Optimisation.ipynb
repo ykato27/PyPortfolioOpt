{
  "nbformat": 4,
  "nbformat_minor": 0,
  "metadata": {
    "colab": {
      "name": "PyPortfolioOpt-Mean-Variance-Optimisation.ipynb",
      "provenance": [],
      "collapsed_sections": [],
      "authorship_tag": "ABX9TyM+t/k0iKLCJDPWImhWQuvG",
      "include_colab_link": true
    },
    "kernelspec": {
      "name": "python3",
      "display_name": "Python 3"
    },
    "language_info": {
      "name": "python"
    }
  },
  "cells": [
    {
      "cell_type": "markdown",
      "metadata": {
        "id": "view-in-github",
        "colab_type": "text"
      },
      "source": [
        "<a href=\"https://colab.research.google.com/github/ykato27/PyPortfolioOpt/blob/main/PyPortfolioOpt_Mean_Variance_Optimisation.ipynb\" target=\"_parent\"><img src=\"https://colab.research.google.com/assets/colab-badge.svg\" alt=\"Open In Colab\"/></a>"
      ]
    },
    {
      "cell_type": "markdown",
      "metadata": {
        "id": "puW_pQ2cdmiF"
      },
      "source": [
        "## Mean-variance optimization\n",
        "In this cookbook recipe, we work on several examples demonstrating PyPortfolioOpt's mean-variance capabilities. I will discuss what I think should be your \"default\" options, based on my experience in optimising portfolios.\n",
        "\n",
        "To start, you need a list of tickers. Some people just provide the whole universe of stocks, but I don't think this is a good idea - portfolio optimization is quite different from asset selection. I would suggest anywhere from 10-50 stocks as a starting point.\n",
        "\n",
        "Some of the things we cover:\n",
        "\n",
        "Downloading data and getting it into PyPortfolioOpt\n",
        "Calculating and visualising the covariance matrix\n",
        "Optimising a long/short portfolio to minimise total variance\n",
        "Optimising a portfolio to maximise the Sharpe ratio, subject to sector constraints\n",
        "Optimising a portfolio to maximise return for a given risk, subject to sector constraints, with an L2 regularisation objective\n",
        "Optimising a market-neutral portfolio to minimise risk for a given level of return\n",
        "Optimising along the mean-semivariance frontier\n",
        "Optimising along the mean-CVaR frontier\n",
        "Plotting the efficient frontier:\n",
        "Simple (using CLA)\n",
        "Constrained\n",
        "Complex plots\n",
        "Please consult the docs for more info."
      ]
    },
    {
      "cell_type": "code",
      "metadata": {
        "colab": {
          "base_uri": "https://localhost:8080/"
        },
        "id": "XxwTmMoedXYz",
        "outputId": "c5a56c37-834a-419e-c0b7-f16de97ab5c3"
      },
      "source": [
        "!pip install PyPortfolioOpt\n",
        "!pip install yfinance"
      ],
      "execution_count": 1,
      "outputs": [
        {
          "output_type": "stream",
          "text": [
            "Collecting PyPortfolioOpt\n",
            "\u001b[?25l  Downloading https://files.pythonhosted.org/packages/12/dd/bbe51f36f323c4eee59ec94638b24de1daeda9537403c363cbfab8cd1d29/PyPortfolioOpt-1.4.2-py3-none-any.whl (60kB)\n",
            "\r\u001b[K     |█████▍                          | 10kB 23.8MB/s eta 0:00:01\r\u001b[K     |██████████▉                     | 20kB 15.9MB/s eta 0:00:01\r\u001b[K     |████████████████▎               | 30kB 13.8MB/s eta 0:00:01\r\u001b[K     |█████████████████████▋          | 40kB 12.4MB/s eta 0:00:01\r\u001b[K     |███████████████████████████     | 51kB 6.2MB/s eta 0:00:01\r\u001b[K     |████████████████████████████████| 61kB 4.7MB/s \n",
            "\u001b[?25hRequirement already satisfied: scipy<2.0,>=1.3 in /usr/local/lib/python3.7/dist-packages (from PyPortfolioOpt) (1.4.1)\n",
            "Collecting cvxpy<2.0.0,>=1.1.10\n",
            "\u001b[?25l  Downloading https://files.pythonhosted.org/packages/f0/95/e7eb169a7802fe0c5c50dd7f29c2e9d357b5f29c70adc3f5ca2ab684a04b/cvxpy-1.1.13.tar.gz (1.3MB)\n",
            "\u001b[K     |████████████████████████████████| 1.3MB 11.5MB/s \n",
            "\u001b[?25h  Installing build dependencies ... \u001b[?25l\u001b[?25hdone\n",
            "  Getting requirements to build wheel ... \u001b[?25l\u001b[?25hdone\n",
            "    Preparing wheel metadata ... \u001b[?25l\u001b[?25hdone\n",
            "Requirement already satisfied: pandas>=0.19 in /usr/local/lib/python3.7/dist-packages (from PyPortfolioOpt) (1.1.5)\n",
            "Requirement already satisfied: numpy<2.0,>=1.12 in /usr/local/lib/python3.7/dist-packages (from PyPortfolioOpt) (1.19.5)\n",
            "Requirement already satisfied: osqp>=0.4.1 in /usr/local/lib/python3.7/dist-packages (from cvxpy<2.0.0,>=1.1.10->PyPortfolioOpt) (0.6.2.post0)\n",
            "Requirement already satisfied: scs>=1.1.6 in /usr/local/lib/python3.7/dist-packages (from cvxpy<2.0.0,>=1.1.10->PyPortfolioOpt) (2.1.4)\n",
            "Requirement already satisfied: ecos>=2 in /usr/local/lib/python3.7/dist-packages (from cvxpy<2.0.0,>=1.1.10->PyPortfolioOpt) (2.0.7.post1)\n",
            "Requirement already satisfied: pytz>=2017.2 in /usr/local/lib/python3.7/dist-packages (from pandas>=0.19->PyPortfolioOpt) (2018.9)\n",
            "Requirement already satisfied: python-dateutil>=2.7.3 in /usr/local/lib/python3.7/dist-packages (from pandas>=0.19->PyPortfolioOpt) (2.8.1)\n",
            "Requirement already satisfied: qdldl in /usr/local/lib/python3.7/dist-packages (from osqp>=0.4.1->cvxpy<2.0.0,>=1.1.10->PyPortfolioOpt) (0.1.5.post0)\n",
            "Requirement already satisfied: six>=1.5 in /usr/local/lib/python3.7/dist-packages (from python-dateutil>=2.7.3->pandas>=0.19->PyPortfolioOpt) (1.15.0)\n",
            "Building wheels for collected packages: cvxpy\n",
            "  Building wheel for cvxpy (PEP 517) ... \u001b[?25l\u001b[?25hdone\n",
            "  Created wheel for cvxpy: filename=cvxpy-1.1.13-cp37-cp37m-linux_x86_64.whl size=2736174 sha256=48105e92b4065aa2efa3ba02d6699704a24da1058ccf554f5381640c4d3b7d45\n",
            "  Stored in directory: /root/.cache/pip/wheels/f9/78/00/f29636789ee83434953b5442f16ec3f9834a68e7fd0393c220\n",
            "Successfully built cvxpy\n",
            "Installing collected packages: cvxpy, PyPortfolioOpt\n",
            "  Found existing installation: cvxpy 1.0.31\n",
            "    Uninstalling cvxpy-1.0.31:\n",
            "      Successfully uninstalled cvxpy-1.0.31\n",
            "Successfully installed PyPortfolioOpt-1.4.2 cvxpy-1.1.13\n",
            "Collecting yfinance\n",
            "  Downloading https://files.pythonhosted.org/packages/a7/ee/315752b9ef281ba83c62aa7ec2e2074f85223da6e7e74efb4d3e11c0f510/yfinance-0.1.59.tar.gz\n",
            "Requirement already satisfied: pandas>=0.24 in /usr/local/lib/python3.7/dist-packages (from yfinance) (1.1.5)\n",
            "Requirement already satisfied: numpy>=1.15 in /usr/local/lib/python3.7/dist-packages (from yfinance) (1.19.5)\n",
            "Requirement already satisfied: requests>=2.20 in /usr/local/lib/python3.7/dist-packages (from yfinance) (2.23.0)\n",
            "Requirement already satisfied: multitasking>=0.0.7 in /usr/local/lib/python3.7/dist-packages (from yfinance) (0.0.9)\n",
            "Collecting lxml>=4.5.1\n",
            "\u001b[?25l  Downloading https://files.pythonhosted.org/packages/30/c0/d0526314971fc661b083ab135747dc68446a3022686da8c16d25fcf6ef07/lxml-4.6.3-cp37-cp37m-manylinux2014_x86_64.whl (6.3MB)\n",
            "\u001b[K     |████████████████████████████████| 6.3MB 10.5MB/s \n",
            "\u001b[?25hRequirement already satisfied: pytz>=2017.2 in /usr/local/lib/python3.7/dist-packages (from pandas>=0.24->yfinance) (2018.9)\n",
            "Requirement already satisfied: python-dateutil>=2.7.3 in /usr/local/lib/python3.7/dist-packages (from pandas>=0.24->yfinance) (2.8.1)\n",
            "Requirement already satisfied: chardet<4,>=3.0.2 in /usr/local/lib/python3.7/dist-packages (from requests>=2.20->yfinance) (3.0.4)\n",
            "Requirement already satisfied: certifi>=2017.4.17 in /usr/local/lib/python3.7/dist-packages (from requests>=2.20->yfinance) (2021.5.30)\n",
            "Requirement already satisfied: urllib3!=1.25.0,!=1.25.1,<1.26,>=1.21.1 in /usr/local/lib/python3.7/dist-packages (from requests>=2.20->yfinance) (1.24.3)\n",
            "Requirement already satisfied: idna<3,>=2.5 in /usr/local/lib/python3.7/dist-packages (from requests>=2.20->yfinance) (2.10)\n",
            "Requirement already satisfied: six>=1.5 in /usr/local/lib/python3.7/dist-packages (from python-dateutil>=2.7.3->pandas>=0.24->yfinance) (1.15.0)\n",
            "Building wheels for collected packages: yfinance\n",
            "  Building wheel for yfinance (setup.py) ... \u001b[?25l\u001b[?25hdone\n",
            "  Created wheel for yfinance: filename=yfinance-0.1.59-py2.py3-none-any.whl size=23455 sha256=35b7be97f87c36ecced89e5dc75b56af62ca80449e5cc93871229486c2308ea9\n",
            "  Stored in directory: /root/.cache/pip/wheels/f8/2a/0f/4b5a86e1d52e451757eb6bc17fd899629f0925c777741b6d04\n",
            "Successfully built yfinance\n",
            "Installing collected packages: lxml, yfinance\n",
            "  Found existing installation: lxml 4.2.6\n",
            "    Uninstalling lxml-4.2.6:\n",
            "      Successfully uninstalled lxml-4.2.6\n",
            "Successfully installed lxml-4.6.3 yfinance-0.1.59\n"
          ],
          "name": "stdout"
        }
      ]
    },
    {
      "cell_type": "markdown",
      "metadata": {
        "id": "vKTdbbRidv-K"
      },
      "source": [
        "### Downloading data\n",
        "To download data, we will use yfinance, an excellent library that provides free price data from Yahoo Finance, no API key needed."
      ]
    },
    {
      "cell_type": "code",
      "metadata": {
        "id": "S1HEyki3duLY"
      },
      "source": [
        "import yfinance as yf\n",
        "import matplotlib.pyplot as plt\n",
        "import pandas as pd\n",
        "import numpy as np"
      ],
      "execution_count": 2,
      "outputs": []
    },
    {
      "cell_type": "code",
      "metadata": {
        "id": "dk3PSiIDdy80"
      },
      "source": [
        "tickers = [\"MSFT\", \"AMZN\", \"KO\", \"MA\", \"COST\", \n",
        "           \"LUV\", \"XOM\", \"PFE\", \"JPM\", \"UNH\", \n",
        "           \"ACN\", \"DIS\", \"GILD\", \"F\", \"TSLA\"]"
      ],
      "execution_count": 3,
      "outputs": []
    },
    {
      "cell_type": "code",
      "metadata": {
        "colab": {
          "base_uri": "https://localhost:8080/"
        },
        "id": "0L6DZ20qd04v",
        "outputId": "afbce460-77d2-4dd8-cbd9-42e3f40a28b7"
      },
      "source": [
        "ohlc = yf.download(tickers, period=\"max\")"
      ],
      "execution_count": 4,
      "outputs": [
        {
          "output_type": "stream",
          "text": [
            "[*********************100%***********************]  15 of 15 completed\n"
          ],
          "name": "stdout"
        }
      ]
    },
    {
      "cell_type": "code",
      "metadata": {
        "colab": {
          "base_uri": "https://localhost:8080/",
          "height": 340
        },
        "id": "nVoe3xfcd2ni",
        "outputId": "eb7dfefa-a6ec-49eb-b539-e96b4d04fae5"
      },
      "source": [
        "prices = ohlc[\"Adj Close\"].dropna(how=\"all\")\n",
        "prices.tail()"
      ],
      "execution_count": 5,
      "outputs": [
        {
          "output_type": "execute_result",
          "data": {
            "text/html": [
              "<div>\n",
              "<style scoped>\n",
              "    .dataframe tbody tr th:only-of-type {\n",
              "        vertical-align: middle;\n",
              "    }\n",
              "\n",
              "    .dataframe tbody tr th {\n",
              "        vertical-align: top;\n",
              "    }\n",
              "\n",
              "    .dataframe thead th {\n",
              "        text-align: right;\n",
              "    }\n",
              "</style>\n",
              "<table border=\"1\" class=\"dataframe\">\n",
              "  <thead>\n",
              "    <tr style=\"text-align: right;\">\n",
              "      <th></th>\n",
              "      <th>ACN</th>\n",
              "      <th>AMZN</th>\n",
              "      <th>COST</th>\n",
              "      <th>DIS</th>\n",
              "      <th>F</th>\n",
              "      <th>GILD</th>\n",
              "      <th>JPM</th>\n",
              "      <th>KO</th>\n",
              "      <th>LUV</th>\n",
              "      <th>MA</th>\n",
              "      <th>MSFT</th>\n",
              "      <th>PFE</th>\n",
              "      <th>TSLA</th>\n",
              "      <th>UNH</th>\n",
              "      <th>XOM</th>\n",
              "    </tr>\n",
              "    <tr>\n",
              "      <th>Date</th>\n",
              "      <th></th>\n",
              "      <th></th>\n",
              "      <th></th>\n",
              "      <th></th>\n",
              "      <th></th>\n",
              "      <th></th>\n",
              "      <th></th>\n",
              "      <th></th>\n",
              "      <th></th>\n",
              "      <th></th>\n",
              "      <th></th>\n",
              "      <th></th>\n",
              "      <th></th>\n",
              "      <th></th>\n",
              "      <th></th>\n",
              "    </tr>\n",
              "  </thead>\n",
              "  <tbody>\n",
              "    <tr>\n",
              "      <th>2021-06-25</th>\n",
              "      <td>294.660004</td>\n",
              "      <td>3401.459961</td>\n",
              "      <td>394.510010</td>\n",
              "      <td>178.350006</td>\n",
              "      <td>15.19</td>\n",
              "      <td>67.879997</td>\n",
              "      <td>154.050003</td>\n",
              "      <td>54.320000</td>\n",
              "      <td>54.549999</td>\n",
              "      <td>379.609985</td>\n",
              "      <td>265.019989</td>\n",
              "      <td>38.980000</td>\n",
              "      <td>671.869995</td>\n",
              "      <td>404.950012</td>\n",
              "      <td>64.660004</td>\n",
              "    </tr>\n",
              "    <tr>\n",
              "      <th>2021-06-28</th>\n",
              "      <td>293.899994</td>\n",
              "      <td>3443.889893</td>\n",
              "      <td>396.540009</td>\n",
              "      <td>176.570007</td>\n",
              "      <td>14.96</td>\n",
              "      <td>67.699997</td>\n",
              "      <td>154.330002</td>\n",
              "      <td>54.259998</td>\n",
              "      <td>53.230000</td>\n",
              "      <td>367.679993</td>\n",
              "      <td>268.720001</td>\n",
              "      <td>39.119999</td>\n",
              "      <td>688.719971</td>\n",
              "      <td>401.459991</td>\n",
              "      <td>63.009998</td>\n",
              "    </tr>\n",
              "    <tr>\n",
              "      <th>2021-06-29</th>\n",
              "      <td>296.429993</td>\n",
              "      <td>3448.139893</td>\n",
              "      <td>398.790009</td>\n",
              "      <td>173.929993</td>\n",
              "      <td>15.01</td>\n",
              "      <td>67.930000</td>\n",
              "      <td>154.139999</td>\n",
              "      <td>53.860001</td>\n",
              "      <td>52.919998</td>\n",
              "      <td>368.000000</td>\n",
              "      <td>271.399994</td>\n",
              "      <td>39.099998</td>\n",
              "      <td>680.760010</td>\n",
              "      <td>398.100006</td>\n",
              "      <td>62.619999</td>\n",
              "    </tr>\n",
              "    <tr>\n",
              "      <th>2021-06-30</th>\n",
              "      <td>294.790009</td>\n",
              "      <td>3440.159912</td>\n",
              "      <td>395.670013</td>\n",
              "      <td>175.770004</td>\n",
              "      <td>14.86</td>\n",
              "      <td>68.860001</td>\n",
              "      <td>155.539993</td>\n",
              "      <td>54.110001</td>\n",
              "      <td>53.090000</td>\n",
              "      <td>365.089996</td>\n",
              "      <td>270.899994</td>\n",
              "      <td>39.160000</td>\n",
              "      <td>679.700012</td>\n",
              "      <td>400.440002</td>\n",
              "      <td>63.080002</td>\n",
              "    </tr>\n",
              "    <tr>\n",
              "      <th>2021-07-01</th>\n",
              "      <td>300.000000</td>\n",
              "      <td>3432.969971</td>\n",
              "      <td>394.529999</td>\n",
              "      <td>177.259995</td>\n",
              "      <td>14.91</td>\n",
              "      <td>69.129997</td>\n",
              "      <td>157.080002</td>\n",
              "      <td>53.959999</td>\n",
              "      <td>53.860001</td>\n",
              "      <td>370.709991</td>\n",
              "      <td>271.600006</td>\n",
              "      <td>39.560001</td>\n",
              "      <td>677.919983</td>\n",
              "      <td>404.890015</td>\n",
              "      <td>63.259998</td>\n",
              "    </tr>\n",
              "  </tbody>\n",
              "</table>\n",
              "</div>"
            ],
            "text/plain": [
              "                   ACN         AMZN  ...         UNH        XOM\n",
              "Date                                 ...                       \n",
              "2021-06-25  294.660004  3401.459961  ...  404.950012  64.660004\n",
              "2021-06-28  293.899994  3443.889893  ...  401.459991  63.009998\n",
              "2021-06-29  296.429993  3448.139893  ...  398.100006  62.619999\n",
              "2021-06-30  294.790009  3440.159912  ...  400.440002  63.080002\n",
              "2021-07-01  300.000000  3432.969971  ...  404.890015  63.259998\n",
              "\n",
              "[5 rows x 15 columns]"
            ]
          },
          "metadata": {
            "tags": []
          },
          "execution_count": 5
        }
      ]
    },
    {
      "cell_type": "code",
      "metadata": {
        "colab": {
          "base_uri": "https://localhost:8080/",
          "height": 535
        },
        "id": "ShIN9NYod38X",
        "outputId": "ab0ab6b7-6ce6-43ef-a7c7-859b3332d5b9"
      },
      "source": [
        "prices[prices.index >= \"2008-01-01\"].plot(figsize=(15,10));"
      ],
      "execution_count": 6,
      "outputs": [
        {
          "output_type": "display_data",
          "data": {
            "image/png": "[encoded data removed]",
            "text/plain": [
              "<Figure size 1080x720 with 1 Axes>"
            ]
          },
          "metadata": {
            "tags": [],
            "needs_background": "light"
          }
        }
      ]
    },
    {
      "cell_type": "markdown",
      "metadata": {
        "id": "3VDsF34Ud7jl"
      },
      "source": [
        "### Calculating the covariance matrix"
      ]
    },
    {
      "cell_type": "code",
      "metadata": {
        "colab": {
          "base_uri": "https://localhost:8080/",
          "height": 35
        },
        "id": "_YbyG6DFd5pc",
        "outputId": "3e0f4edd-3718-482b-80b6-a39b34cd3b2a"
      },
      "source": [
        "import pypfopt\n",
        "pypfopt.__version__"
      ],
      "execution_count": 7,
      "outputs": [
        {
          "output_type": "execute_result",
          "data": {
            "application/vnd.google.colaboratory.intrinsic+json": {
              "type": "string"
            },
            "text/plain": [
              "'1.4.2'"
            ]
          },
          "metadata": {
            "tags": []
          },
          "execution_count": 7
        }
      ]
    },
    {
      "cell_type": "code",
      "metadata": {
        "colab": {
          "base_uri": "https://localhost:8080/",
          "height": 534
        },
        "id": "jjpWH4fTd9mY",
        "outputId": "aa611487-e88e-43b6-cfaf-d90776116333"
      },
      "source": [
        "from pypfopt import risk_models\n",
        "from pypfopt import plotting\n",
        "\n",
        "sample_cov = risk_models.sample_cov(prices, frequency=252)\n",
        "sample_cov"
      ],
      "execution_count": 8,
      "outputs": [
        {
          "output_type": "execute_result",
          "data": {
            "text/html": [
              "<div>\n",
              "<style scoped>\n",
              "    .dataframe tbody tr th:only-of-type {\n",
              "        vertical-align: middle;\n",
              "    }\n",
              "\n",
              "    .dataframe tbody tr th {\n",
              "        vertical-align: top;\n",
              "    }\n",
              "\n",
              "    .dataframe thead th {\n",
              "        text-align: right;\n",
              "    }\n",
              "</style>\n",
              "<table border=\"1\" class=\"dataframe\">\n",
              "  <thead>\n",
              "    <tr style=\"text-align: right;\">\n",
              "      <th></th>\n",
              "      <th>ACN</th>\n",
              "      <th>AMZN</th>\n",
              "      <th>COST</th>\n",
              "      <th>DIS</th>\n",
              "      <th>F</th>\n",
              "      <th>GILD</th>\n",
              "      <th>JPM</th>\n",
              "      <th>KO</th>\n",
              "      <th>LUV</th>\n",
              "      <th>MA</th>\n",
              "      <th>MSFT</th>\n",
              "      <th>PFE</th>\n",
              "      <th>TSLA</th>\n",
              "      <th>UNH</th>\n",
              "      <th>XOM</th>\n",
              "    </tr>\n",
              "  </thead>\n",
              "  <tbody>\n",
              "    <tr>\n",
              "      <th>ACN</th>\n",
              "      <td>0.091489</td>\n",
              "      <td>0.044592</td>\n",
              "      <td>0.027184</td>\n",
              "      <td>0.040538</td>\n",
              "      <td>0.042967</td>\n",
              "      <td>0.029501</td>\n",
              "      <td>0.049028</td>\n",
              "      <td>0.020347</td>\n",
              "      <td>0.036845</td>\n",
              "      <td>0.045436</td>\n",
              "      <td>0.040381</td>\n",
              "      <td>0.025961</td>\n",
              "      <td>0.039327</td>\n",
              "      <td>0.030459</td>\n",
              "      <td>0.030982</td>\n",
              "    </tr>\n",
              "    <tr>\n",
              "      <th>AMZN</th>\n",
              "      <td>0.044592</td>\n",
              "      <td>0.338863</td>\n",
              "      <td>0.047389</td>\n",
              "      <td>0.054478</td>\n",
              "      <td>0.051761</td>\n",
              "      <td>0.060334</td>\n",
              "      <td>0.067086</td>\n",
              "      <td>0.020209</td>\n",
              "      <td>0.047131</td>\n",
              "      <td>0.056273</td>\n",
              "      <td>0.071959</td>\n",
              "      <td>0.032102</td>\n",
              "      <td>0.056704</td>\n",
              "      <td>0.035147</td>\n",
              "      <td>0.026816</td>\n",
              "    </tr>\n",
              "    <tr>\n",
              "      <th>COST</th>\n",
              "      <td>0.027184</td>\n",
              "      <td>0.047389</td>\n",
              "      <td>0.102271</td>\n",
              "      <td>0.031952</td>\n",
              "      <td>0.031017</td>\n",
              "      <td>0.027473</td>\n",
              "      <td>0.039047</td>\n",
              "      <td>0.021178</td>\n",
              "      <td>0.031529</td>\n",
              "      <td>0.032281</td>\n",
              "      <td>0.036974</td>\n",
              "      <td>0.025585</td>\n",
              "      <td>0.023543</td>\n",
              "      <td>0.027450</td>\n",
              "      <td>0.020670</td>\n",
              "    </tr>\n",
              "    <tr>\n",
              "      <th>DIS</th>\n",
              "      <td>0.040538</td>\n",
              "      <td>0.054478</td>\n",
              "      <td>0.031952</td>\n",
              "      <td>0.099593</td>\n",
              "      <td>0.040108</td>\n",
              "      <td>0.032903</td>\n",
              "      <td>0.047241</td>\n",
              "      <td>0.026307</td>\n",
              "      <td>0.038779</td>\n",
              "      <td>0.049967</td>\n",
              "      <td>0.042505</td>\n",
              "      <td>0.029812</td>\n",
              "      <td>0.036043</td>\n",
              "      <td>0.032362</td>\n",
              "      <td>0.025547</td>\n",
              "    </tr>\n",
              "    <tr>\n",
              "      <th>F</th>\n",
              "      <td>0.042967</td>\n",
              "      <td>0.051761</td>\n",
              "      <td>0.031017</td>\n",
              "      <td>0.040108</td>\n",
              "      <td>0.125291</td>\n",
              "      <td>0.030362</td>\n",
              "      <td>0.054355</td>\n",
              "      <td>0.026335</td>\n",
              "      <td>0.045474</td>\n",
              "      <td>0.062239</td>\n",
              "      <td>0.040895</td>\n",
              "      <td>0.027518</td>\n",
              "      <td>0.048860</td>\n",
              "      <td>0.029276</td>\n",
              "      <td>0.027411</td>\n",
              "    </tr>\n",
              "    <tr>\n",
              "      <th>GILD</th>\n",
              "      <td>0.029501</td>\n",
              "      <td>0.060334</td>\n",
              "      <td>0.027473</td>\n",
              "      <td>0.032903</td>\n",
              "      <td>0.030362</td>\n",
              "      <td>0.241198</td>\n",
              "      <td>0.043355</td>\n",
              "      <td>0.016827</td>\n",
              "      <td>0.031596</td>\n",
              "      <td>0.033637</td>\n",
              "      <td>0.035961</td>\n",
              "      <td>0.032967</td>\n",
              "      <td>0.033438</td>\n",
              "      <td>0.034607</td>\n",
              "      <td>0.021565</td>\n",
              "    </tr>\n",
              "    <tr>\n",
              "      <th>JPM</th>\n",
              "      <td>0.049028</td>\n",
              "      <td>0.067086</td>\n",
              "      <td>0.039047</td>\n",
              "      <td>0.047241</td>\n",
              "      <td>0.054355</td>\n",
              "      <td>0.043355</td>\n",
              "      <td>0.129771</td>\n",
              "      <td>0.028028</td>\n",
              "      <td>0.048972</td>\n",
              "      <td>0.071478</td>\n",
              "      <td>0.049765</td>\n",
              "      <td>0.033271</td>\n",
              "      <td>0.039331</td>\n",
              "      <td>0.039090</td>\n",
              "      <td>0.033203</td>\n",
              "    </tr>\n",
              "    <tr>\n",
              "      <th>KO</th>\n",
              "      <td>0.020347</td>\n",
              "      <td>0.020209</td>\n",
              "      <td>0.021178</td>\n",
              "      <td>0.026307</td>\n",
              "      <td>0.026335</td>\n",
              "      <td>0.016827</td>\n",
              "      <td>0.028028</td>\n",
              "      <td>0.054033</td>\n",
              "      <td>0.023198</td>\n",
              "      <td>0.026443</td>\n",
              "      <td>0.028010</td>\n",
              "      <td>0.026362</td>\n",
              "      <td>0.019089</td>\n",
              "      <td>0.023068</td>\n",
              "      <td>0.020869</td>\n",
              "    </tr>\n",
              "    <tr>\n",
              "      <th>LUV</th>\n",
              "      <td>0.036845</td>\n",
              "      <td>0.047131</td>\n",
              "      <td>0.031529</td>\n",
              "      <td>0.038779</td>\n",
              "      <td>0.045474</td>\n",
              "      <td>0.031596</td>\n",
              "      <td>0.048972</td>\n",
              "      <td>0.023198</td>\n",
              "      <td>0.138740</td>\n",
              "      <td>0.047718</td>\n",
              "      <td>0.036810</td>\n",
              "      <td>0.026517</td>\n",
              "      <td>0.035315</td>\n",
              "      <td>0.033116</td>\n",
              "      <td>0.023192</td>\n",
              "    </tr>\n",
              "    <tr>\n",
              "      <th>MA</th>\n",
              "      <td>0.045436</td>\n",
              "      <td>0.056273</td>\n",
              "      <td>0.032281</td>\n",
              "      <td>0.049967</td>\n",
              "      <td>0.062239</td>\n",
              "      <td>0.033637</td>\n",
              "      <td>0.071478</td>\n",
              "      <td>0.026443</td>\n",
              "      <td>0.047718</td>\n",
              "      <td>0.119682</td>\n",
              "      <td>0.049220</td>\n",
              "      <td>0.033512</td>\n",
              "      <td>0.046822</td>\n",
              "      <td>0.044016</td>\n",
              "      <td>0.042953</td>\n",
              "    </tr>\n",
              "    <tr>\n",
              "      <th>MSFT</th>\n",
              "      <td>0.040381</td>\n",
              "      <td>0.071959</td>\n",
              "      <td>0.036974</td>\n",
              "      <td>0.042505</td>\n",
              "      <td>0.040895</td>\n",
              "      <td>0.035961</td>\n",
              "      <td>0.049765</td>\n",
              "      <td>0.028010</td>\n",
              "      <td>0.036810</td>\n",
              "      <td>0.049220</td>\n",
              "      <td>0.115477</td>\n",
              "      <td>0.031109</td>\n",
              "      <td>0.046881</td>\n",
              "      <td>0.034150</td>\n",
              "      <td>0.029530</td>\n",
              "    </tr>\n",
              "    <tr>\n",
              "      <th>PFE</th>\n",
              "      <td>0.025961</td>\n",
              "      <td>0.032102</td>\n",
              "      <td>0.025585</td>\n",
              "      <td>0.029812</td>\n",
              "      <td>0.027518</td>\n",
              "      <td>0.032967</td>\n",
              "      <td>0.033271</td>\n",
              "      <td>0.026362</td>\n",
              "      <td>0.026517</td>\n",
              "      <td>0.033512</td>\n",
              "      <td>0.031109</td>\n",
              "      <td>0.075802</td>\n",
              "      <td>0.020201</td>\n",
              "      <td>0.028523</td>\n",
              "      <td>0.023382</td>\n",
              "    </tr>\n",
              "    <tr>\n",
              "      <th>TSLA</th>\n",
              "      <td>0.039327</td>\n",
              "      <td>0.056704</td>\n",
              "      <td>0.023543</td>\n",
              "      <td>0.036043</td>\n",
              "      <td>0.048860</td>\n",
              "      <td>0.033438</td>\n",
              "      <td>0.039331</td>\n",
              "      <td>0.019089</td>\n",
              "      <td>0.035315</td>\n",
              "      <td>0.046822</td>\n",
              "      <td>0.046881</td>\n",
              "      <td>0.020201</td>\n",
              "      <td>0.319673</td>\n",
              "      <td>0.031394</td>\n",
              "      <td>0.029446</td>\n",
              "    </tr>\n",
              "    <tr>\n",
              "      <th>UNH</th>\n",
              "      <td>0.030459</td>\n",
              "      <td>0.035147</td>\n",
              "      <td>0.027450</td>\n",
              "      <td>0.032362</td>\n",
              "      <td>0.029276</td>\n",
              "      <td>0.034607</td>\n",
              "      <td>0.039090</td>\n",
              "      <td>0.023068</td>\n",
              "      <td>0.033116</td>\n",
              "      <td>0.044016</td>\n",
              "      <td>0.034150</td>\n",
              "      <td>0.028523</td>\n",
              "      <td>0.031394</td>\n",
              "      <td>0.165712</td>\n",
              "      <td>0.022622</td>\n",
              "    </tr>\n",
              "    <tr>\n",
              "      <th>XOM</th>\n",
              "      <td>0.030982</td>\n",
              "      <td>0.026816</td>\n",
              "      <td>0.020670</td>\n",
              "      <td>0.025547</td>\n",
              "      <td>0.027411</td>\n",
              "      <td>0.021565</td>\n",
              "      <td>0.033203</td>\n",
              "      <td>0.020869</td>\n",
              "      <td>0.023192</td>\n",
              "      <td>0.042953</td>\n",
              "      <td>0.029530</td>\n",
              "      <td>0.023382</td>\n",
              "      <td>0.029446</td>\n",
              "      <td>0.022622</td>\n",
              "      <td>0.051385</td>\n",
              "    </tr>\n",
              "  </tbody>\n",
              "</table>\n",
              "</div>"
            ],
            "text/plain": [
              "           ACN      AMZN      COST  ...      TSLA       UNH       XOM\n",
              "ACN   0.091489  0.044592  0.027184  ...  0.039327  0.030459  0.030982\n",
              "AMZN  0.044592  0.338863  0.047389  ...  0.056704  0.035147  0.026816\n",
              "COST  0.027184  0.047389  0.102271  ...  0.023543  0.027450  0.020670\n",
              "DIS   0.040538  0.054478  0.031952  ...  0.036043  0.032362  0.025547\n",
              "F     0.042967  0.051761  0.031017  ...  0.048860  0.029276  0.027411\n",
              "GILD  0.029501  0.060334  0.027473  ...  0.033438  0.034607  0.021565\n",
              "JPM   0.049028  0.067086  0.039047  ...  0.039331  0.039090  0.033203\n",
              "KO    0.020347  0.020209  0.021178  ...  0.019089  0.023068  0.020869\n",
              "LUV   0.036845  0.047131  0.031529  ...  0.035315  0.033116  0.023192\n",
              "MA    0.045436  0.056273  0.032281  ...  0.046822  0.044016  0.042953\n",
              "MSFT  0.040381  0.071959  0.036974  ...  0.046881  0.034150  0.029530\n",
              "PFE   0.025961  0.032102  0.025585  ...  0.020201  0.028523  0.023382\n",
              "TSLA  0.039327  0.056704  0.023543  ...  0.319673  0.031394  0.029446\n",
              "UNH   0.030459  0.035147  0.027450  ...  0.031394  0.165712  0.022622\n",
              "XOM   0.030982  0.026816  0.020670  ...  0.029446  0.022622  0.051385\n",
              "\n",
              "[15 rows x 15 columns]"
            ]
          },
          "metadata": {
            "tags": []
          },
          "execution_count": 8
        }
      ]
    },
    {
      "cell_type": "code",
      "metadata": {
        "colab": {
          "base_uri": "https://localhost:8080/",
          "height": 297
        },
        "id": "VLe2fqXMeJr_",
        "outputId": "7b0f1669-9ae8-48ed-a105-fd1974a459e5"
      },
      "source": [
        "plotting.plot_covariance(sample_cov, plot_correlation=True);"
      ],
      "execution_count": 9,
      "outputs": [
        {
          "output_type": "display_data",
          "data": {
            "image/png": "[encoded data removed]",
            "text/plain": [
              "<Figure size 432x288 with 2 Axes>"
            ]
          },
          "metadata": {
            "tags": [],
            "needs_background": "light"
          }
        }
      ]
    },
    {
      "cell_type": "markdown",
      "metadata": {
        "id": "z0he2i80eNOh"
      },
      "source": [
        "For reasons discussed in the docs, the sample covariance matrix should not be your default choice. I think a better option is Ledoit-Wolf shrinkage, which reduces the extreme values in the covariance matrix. In the image below, we can see that there are fewer bright spots outside the diagonal:"
      ]
    },
    {
      "cell_type": "code",
      "metadata": {
        "colab": {
          "base_uri": "https://localhost:8080/",
          "height": 297
        },
        "id": "asvELwXdeL0Z",
        "outputId": "6fb2a99b-4b95-467e-bffe-194907e25f7d"
      },
      "source": [
        "S = risk_models.CovarianceShrinkage(prices).ledoit_wolf()\n",
        "plotting.plot_covariance(S, plot_correlation=True);"
      ],
      "execution_count": 10,
      "outputs": [
        {
          "output_type": "display_data",
          "data": {
            "image/png": "[encoded data removed]",
            "text/plain": [
              "<Figure size 432x288 with 2 Axes>"
            ]
          },
          "metadata": {
            "tags": [],
            "needs_background": "light"
          }
        }
      ]
    },
    {
      "cell_type": "markdown",
      "metadata": {
        "id": "UuOAaki7eQ_S"
      },
      "source": [
        "### Return estimation\n",
        "As discussed in the docs, it is often a bad idea to provide returns using a simple estimate like the mean of past returns. Unless you have a proprietary method for estimating returns, research suggests that you may be better off not providing expected returns – you can then just find the min_volatility() portfolio or use HRP.\n",
        "\n",
        "However, in this example we will use the CAPM returns, which aims to be slightly more stable than the default mean historical return. Please see the notebook 1-RiskReturnModels.ipynb for more information."
      ]
    },
    {
      "cell_type": "code",
      "metadata": {
        "colab": {
          "base_uri": "https://localhost:8080/"
        },
        "id": "JPASBGneePF5",
        "outputId": "96e00b76-6c71-44ef-8510-ec2cb3632e19"
      },
      "source": [
        "from pypfopt import expected_returns\n",
        "\n",
        "mu = expected_returns.capm_return(prices)\n",
        "mu"
      ],
      "execution_count": 11,
      "outputs": [
        {
          "output_type": "execute_result",
          "data": {
            "text/plain": [
              "ACN     0.210979\n",
              "AMZN    0.362479\n",
              "COST    0.196775\n",
              "DIS     0.225789\n",
              "F       0.225420\n",
              "GILD    0.260555\n",
              "JPM     0.255479\n",
              "KO      0.150104\n",
              "LUV     0.229384\n",
              "MA      0.266102\n",
              "MSFT    0.241681\n",
              "PFE     0.181133\n",
              "TSLA    0.283164\n",
              "UNH     0.224274\n",
              "XOM     0.142658\n",
              "Name: mkt, dtype: float64"
            ]
          },
          "metadata": {
            "tags": []
          },
          "execution_count": 11
        }
      ]
    },
    {
      "cell_type": "code",
      "metadata": {
        "colab": {
          "base_uri": "https://localhost:8080/",
          "height": 374
        },
        "id": "b1BapoDieTSM",
        "outputId": "7fa7584c-f4e1-46f3-b894-1ae1aa147b3f"
      },
      "source": [
        "mu.plot.barh(figsize=(10,6));"
      ],
      "execution_count": 12,
      "outputs": [
        {
          "output_type": "display_data",
          "data": {
            "image/png": "[encoded data removed]",
            "text/plain": [
              "<Figure size 720x432 with 1 Axes>"
            ]
          },
          "metadata": {
            "tags": [],
            "needs_background": "light"
          }
        }
      ]
    },
    {
      "cell_type": "markdown",
      "metadata": {
        "id": "Z5vY76rAeW5i"
      },
      "source": [
        "### Long/short min variance\n",
        "In this section, we construct a long/short portfolio with the objective of minimising variance. There is a good deal of research that demonstrates that these global-minimum variance (GMV) portfolios outperform mean-variance optimized portfolios."
      ]
    },
    {
      "cell_type": "code",
      "metadata": {
        "id": "0DoCfVIZeVLP"
      },
      "source": [
        "from pypfopt import EfficientFrontier"
      ],
      "execution_count": 13,
      "outputs": []
    },
    {
      "cell_type": "code",
      "metadata": {
        "colab": {
          "base_uri": "https://localhost:8080/"
        },
        "id": "n5wmLslQeZLF",
        "outputId": "c3c25b82-95f8-4fcd-cd00-58e82d29b0e6"
      },
      "source": [
        "S = risk_models.CovarianceShrinkage(prices).ledoit_wolf()\n",
        "\n",
        "# You don't have to provide expected returns in this case\n",
        "ef = EfficientFrontier(None, S, weight_bounds=(None, None))\n",
        "ef.min_volatility()\n",
        "weights = ef.clean_weights()\n",
        "weights"
      ],
      "execution_count": 14,
      "outputs": [
        {
          "output_type": "execute_result",
          "data": {
            "text/plain": [
              "OrderedDict([('ACN', 0.23414),\n",
              "             ('AMZN', 0.00849),\n",
              "             ('COST', 0.09868),\n",
              "             ('DIS', -0.01608),\n",
              "             ('F', -0.01623),\n",
              "             ('GILD', 0.04236),\n",
              "             ('JPM', -0.05082),\n",
              "             ('KO', 0.12306),\n",
              "             ('LUV', 0.024),\n",
              "             ('MA', 0.23743),\n",
              "             ('MSFT', 0.00231),\n",
              "             ('PFE', 0.06324),\n",
              "             ('TSLA', 0.14505),\n",
              "             ('UNH', 0.03043),\n",
              "             ('XOM', 0.07395)])"
            ]
          },
          "metadata": {
            "tags": []
          },
          "execution_count": 14
        }
      ]
    },
    {
      "cell_type": "code",
      "metadata": {
        "colab": {
          "base_uri": "https://localhost:8080/",
          "height": 265
        },
        "id": "uDraNpa8eaTk",
        "outputId": "6e48e031-2339-4bd7-d416-eff4f7ea5530"
      },
      "source": [
        "pd.Series(weights).plot.barh();"
      ],
      "execution_count": 15,
      "outputs": [
        {
          "output_type": "display_data",
          "data": {
            "image/png": "[encoded data removed]",
            "text/plain": [
              "<Figure size 432x288 with 1 Axes>"
            ]
          },
          "metadata": {
            "tags": [],
            "needs_background": "light"
          }
        }
      ]
    },
    {
      "cell_type": "code",
      "metadata": {
        "colab": {
          "base_uri": "https://localhost:8080/"
        },
        "id": "ogKYGZ_xeb4L",
        "outputId": "d99fafd2-962f-404e-ab20-6e81bb6915f3"
      },
      "source": [
        "ef.portfolio_performance(verbose=True);"
      ],
      "execution_count": 16,
      "outputs": [
        {
          "output_type": "stream",
          "text": [
            "Annual volatility: 11.8%\n"
          ],
          "name": "stdout"
        }
      ]
    },
    {
      "cell_type": "code",
      "metadata": {
        "colab": {
          "base_uri": "https://localhost:8080/",
          "height": 640
        },
        "id": "cKIr3fMnedxf",
        "outputId": "1a9bd157-36e4-469a-a57d-13a373ff3421"
      },
      "source": [
        "prices"
      ],
      "execution_count": 17,
      "outputs": [
        {
          "output_type": "execute_result",
          "data": {
            "text/html": [
              "<div>\n",
              "<style scoped>\n",
              "    .dataframe tbody tr th:only-of-type {\n",
              "        vertical-align: middle;\n",
              "    }\n",
              "\n",
              "    .dataframe tbody tr th {\n",
              "        vertical-align: top;\n",
              "    }\n",
              "\n",
              "    .dataframe thead th {\n",
              "        text-align: right;\n",
              "    }\n",
              "</style>\n",
              "<table border=\"1\" class=\"dataframe\">\n",
              "  <thead>\n",
              "    <tr style=\"text-align: right;\">\n",
              "      <th></th>\n",
              "      <th>ACN</th>\n",
              "      <th>AMZN</th>\n",
              "      <th>COST</th>\n",
              "      <th>DIS</th>\n",
              "      <th>F</th>\n",
              "      <th>GILD</th>\n",
              "      <th>JPM</th>\n",
              "      <th>KO</th>\n",
              "      <th>LUV</th>\n",
              "      <th>MA</th>\n",
              "      <th>MSFT</th>\n",
              "      <th>PFE</th>\n",
              "      <th>TSLA</th>\n",
              "      <th>UNH</th>\n",
              "      <th>XOM</th>\n",
              "    </tr>\n",
              "    <tr>\n",
              "      <th>Date</th>\n",
              "      <th></th>\n",
              "      <th></th>\n",
              "      <th></th>\n",
              "      <th></th>\n",
              "      <th></th>\n",
              "      <th></th>\n",
              "      <th></th>\n",
              "      <th></th>\n",
              "      <th></th>\n",
              "      <th></th>\n",
              "      <th></th>\n",
              "      <th></th>\n",
              "      <th></th>\n",
              "      <th></th>\n",
              "      <th></th>\n",
              "    </tr>\n",
              "  </thead>\n",
              "  <tbody>\n",
              "    <tr>\n",
              "      <th>1962-01-02</th>\n",
              "      <td>NaN</td>\n",
              "      <td>NaN</td>\n",
              "      <td>NaN</td>\n",
              "      <td>0.058398</td>\n",
              "      <td>NaN</td>\n",
              "      <td>NaN</td>\n",
              "      <td>NaN</td>\n",
              "      <td>0.051918</td>\n",
              "      <td>NaN</td>\n",
              "      <td>NaN</td>\n",
              "      <td>NaN</td>\n",
              "      <td>NaN</td>\n",
              "      <td>NaN</td>\n",
              "      <td>NaN</td>\n",
              "      <td>0.105947</td>\n",
              "    </tr>\n",
              "    <tr>\n",
              "      <th>1962-01-03</th>\n",
              "      <td>NaN</td>\n",
              "      <td>NaN</td>\n",
              "      <td>NaN</td>\n",
              "      <td>0.059182</td>\n",
              "      <td>NaN</td>\n",
              "      <td>NaN</td>\n",
              "      <td>NaN</td>\n",
              "      <td>0.050762</td>\n",
              "      <td>NaN</td>\n",
              "      <td>NaN</td>\n",
              "      <td>NaN</td>\n",
              "      <td>NaN</td>\n",
              "      <td>NaN</td>\n",
              "      <td>NaN</td>\n",
              "      <td>0.107521</td>\n",
              "    </tr>\n",
              "    <tr>\n",
              "      <th>1962-01-04</th>\n",
              "      <td>NaN</td>\n",
              "      <td>NaN</td>\n",
              "      <td>NaN</td>\n",
              "      <td>0.059182</td>\n",
              "      <td>NaN</td>\n",
              "      <td>NaN</td>\n",
              "      <td>NaN</td>\n",
              "      <td>0.051147</td>\n",
              "      <td>NaN</td>\n",
              "      <td>NaN</td>\n",
              "      <td>NaN</td>\n",
              "      <td>NaN</td>\n",
              "      <td>NaN</td>\n",
              "      <td>NaN</td>\n",
              "      <td>0.107783</td>\n",
              "    </tr>\n",
              "    <tr>\n",
              "      <th>1962-01-05</th>\n",
              "      <td>NaN</td>\n",
              "      <td>NaN</td>\n",
              "      <td>NaN</td>\n",
              "      <td>0.059378</td>\n",
              "      <td>NaN</td>\n",
              "      <td>NaN</td>\n",
              "      <td>NaN</td>\n",
              "      <td>0.049991</td>\n",
              "      <td>NaN</td>\n",
              "      <td>NaN</td>\n",
              "      <td>NaN</td>\n",
              "      <td>NaN</td>\n",
              "      <td>NaN</td>\n",
              "      <td>NaN</td>\n",
              "      <td>0.105423</td>\n",
              "    </tr>\n",
              "    <tr>\n",
              "      <th>1962-01-08</th>\n",
              "      <td>NaN</td>\n",
              "      <td>NaN</td>\n",
              "      <td>NaN</td>\n",
              "      <td>0.059182</td>\n",
              "      <td>NaN</td>\n",
              "      <td>NaN</td>\n",
              "      <td>NaN</td>\n",
              "      <td>0.049477</td>\n",
              "      <td>NaN</td>\n",
              "      <td>NaN</td>\n",
              "      <td>NaN</td>\n",
              "      <td>NaN</td>\n",
              "      <td>NaN</td>\n",
              "      <td>NaN</td>\n",
              "      <td>0.105161</td>\n",
              "    </tr>\n",
              "    <tr>\n",
              "      <th>...</th>\n",
              "      <td>...</td>\n",
              "      <td>...</td>\n",
              "      <td>...</td>\n",
              "      <td>...</td>\n",
              "      <td>...</td>\n",
              "      <td>...</td>\n",
              "      <td>...</td>\n",
              "      <td>...</td>\n",
              "      <td>...</td>\n",
              "      <td>...</td>\n",
              "      <td>...</td>\n",
              "      <td>...</td>\n",
              "      <td>...</td>\n",
              "      <td>...</td>\n",
              "      <td>...</td>\n",
              "    </tr>\n",
              "    <tr>\n",
              "      <th>2021-06-25</th>\n",
              "      <td>294.660004</td>\n",
              "      <td>3401.459961</td>\n",
              "      <td>394.510010</td>\n",
              "      <td>178.350006</td>\n",
              "      <td>15.19</td>\n",
              "      <td>67.879997</td>\n",
              "      <td>154.050003</td>\n",
              "      <td>54.320000</td>\n",
              "      <td>54.549999</td>\n",
              "      <td>379.609985</td>\n",
              "      <td>265.019989</td>\n",
              "      <td>38.980000</td>\n",
              "      <td>671.869995</td>\n",
              "      <td>404.950012</td>\n",
              "      <td>64.660004</td>\n",
              "    </tr>\n",
              "    <tr>\n",
              "      <th>2021-06-28</th>\n",
              "      <td>293.899994</td>\n",
              "      <td>3443.889893</td>\n",
              "      <td>396.540009</td>\n",
              "      <td>176.570007</td>\n",
              "      <td>14.96</td>\n",
              "      <td>67.699997</td>\n",
              "      <td>154.330002</td>\n",
              "      <td>54.259998</td>\n",
              "      <td>53.230000</td>\n",
              "      <td>367.679993</td>\n",
              "      <td>268.720001</td>\n",
              "      <td>39.119999</td>\n",
              "      <td>688.719971</td>\n",
              "      <td>401.459991</td>\n",
              "      <td>63.009998</td>\n",
              "    </tr>\n",
              "    <tr>\n",
              "      <th>2021-06-29</th>\n",
              "      <td>296.429993</td>\n",
              "      <td>3448.139893</td>\n",
              "      <td>398.790009</td>\n",
              "      <td>173.929993</td>\n",
              "      <td>15.01</td>\n",
              "      <td>67.930000</td>\n",
              "      <td>154.139999</td>\n",
              "      <td>53.860001</td>\n",
              "      <td>52.919998</td>\n",
              "      <td>368.000000</td>\n",
              "      <td>271.399994</td>\n",
              "      <td>39.099998</td>\n",
              "      <td>680.760010</td>\n",
              "      <td>398.100006</td>\n",
              "      <td>62.619999</td>\n",
              "    </tr>\n",
              "    <tr>\n",
              "      <th>2021-06-30</th>\n",
              "      <td>294.790009</td>\n",
              "      <td>3440.159912</td>\n",
              "      <td>395.670013</td>\n",
              "      <td>175.770004</td>\n",
              "      <td>14.86</td>\n",
              "      <td>68.860001</td>\n",
              "      <td>155.539993</td>\n",
              "      <td>54.110001</td>\n",
              "      <td>53.090000</td>\n",
              "      <td>365.089996</td>\n",
              "      <td>270.899994</td>\n",
              "      <td>39.160000</td>\n",
              "      <td>679.700012</td>\n",
              "      <td>400.440002</td>\n",
              "      <td>63.080002</td>\n",
              "    </tr>\n",
              "    <tr>\n",
              "      <th>2021-07-01</th>\n",
              "      <td>300.000000</td>\n",
              "      <td>3432.969971</td>\n",
              "      <td>394.529999</td>\n",
              "      <td>177.259995</td>\n",
              "      <td>14.91</td>\n",
              "      <td>69.129997</td>\n",
              "      <td>157.080002</td>\n",
              "      <td>53.959999</td>\n",
              "      <td>53.860001</td>\n",
              "      <td>370.709991</td>\n",
              "      <td>271.600006</td>\n",
              "      <td>39.560001</td>\n",
              "      <td>677.919983</td>\n",
              "      <td>404.890015</td>\n",
              "      <td>63.259998</td>\n",
              "    </tr>\n",
              "  </tbody>\n",
              "</table>\n",
              "<p>14978 rows × 15 columns</p>\n",
              "</div>"
            ],
            "text/plain": [
              "                   ACN         AMZN  ...         UNH        XOM\n",
              "Date                                 ...                       \n",
              "1962-01-02         NaN          NaN  ...         NaN   0.105947\n",
              "1962-01-03         NaN          NaN  ...         NaN   0.107521\n",
              "1962-01-04         NaN          NaN  ...         NaN   0.107783\n",
              "1962-01-05         NaN          NaN  ...         NaN   0.105423\n",
              "1962-01-08         NaN          NaN  ...         NaN   0.105161\n",
              "...                ...          ...  ...         ...        ...\n",
              "2021-06-25  294.660004  3401.459961  ...  404.950012  64.660004\n",
              "2021-06-28  293.899994  3443.889893  ...  401.459991  63.009998\n",
              "2021-06-29  296.429993  3448.139893  ...  398.100006  62.619999\n",
              "2021-06-30  294.790009  3440.159912  ...  400.440002  63.080002\n",
              "2021-07-01  300.000000  3432.969971  ...  404.890015  63.259998\n",
              "\n",
              "[14978 rows x 15 columns]"
            ]
          },
          "metadata": {
            "tags": []
          },
          "execution_count": 17
        }
      ]
    },
    {
      "cell_type": "markdown",
      "metadata": {
        "id": "3Nb-lxQFehkr"
      },
      "source": [
        "Let's say we were happy with this portfolio and wanted to actually go out and buy the shares. To do this, we would need to construct a discrete allocation (unless your broker supports fractional shares!)\n",
        "\n",
        "If we had \\$20,0000 to invest and would like our portfolio to be 130/30 long/short, we can construct the actual allocation as follows:"
      ]
    },
    {
      "cell_type": "code",
      "metadata": {
        "colab": {
          "base_uri": "https://localhost:8080/"
        },
        "id": "Nm5yKHoQefLt",
        "outputId": "52a33e93-b0ed-4a81-8cac-11666bd2605b"
      },
      "source": [
        "from pypfopt import DiscreteAllocation\n",
        "\n",
        "latest_prices = prices.iloc[-1]  # prices as of the day you are allocating\n",
        "da = DiscreteAllocation(weights, latest_prices, total_portfolio_value=20000, short_ratio=0.3)\n",
        "alloc, leftover = da.lp_portfolio()\n",
        "print(f\"Discrete allocation performed with ${leftover:.2f} leftover\")\n",
        "alloc"
      ],
      "execution_count": 18,
      "outputs": [
        {
          "output_type": "stream",
          "text": [
            "Discrete allocation performed with $42.11 leftover\n"
          ],
          "name": "stdout"
        },
        {
          "output_type": "execute_result",
          "data": {
            "text/plain": [
              "{'ACN': 15,\n",
              " 'COST': 5,\n",
              " 'DIS': -7,\n",
              " 'F': -76,\n",
              " 'GILD': 11,\n",
              " 'JPM': -23,\n",
              " 'KO': 42,\n",
              " 'LUV': 8,\n",
              " 'MA': 12,\n",
              " 'PFE': 29,\n",
              " 'TSLA': 4,\n",
              " 'UNH': 1,\n",
              " 'XOM': 21}"
            ]
          },
          "metadata": {
            "tags": []
          },
          "execution_count": 18
        }
      ]
    },
    {
      "cell_type": "markdown",
      "metadata": {
        "id": "1MTctdaXekwc"
      },
      "source": [
        "### Max Sharpe with sector constraints\n",
        "If you have your own model for returns (or have read the warnings and want to proceed anyways), you may consider maximising the Sharpe ratio. This theoretically gives the optimal portfolio in terms of risks-returns.\n",
        "\n",
        "In this section, we construct a long-only max-sharpe portfolio, but also incorporate sector constraints. Sector constraints require three things. A sector_mapper, your sector_lower bounds, and your sector_upper bounds."
      ]
    },
    {
      "cell_type": "code",
      "metadata": {
        "id": "PDx0zFaqejOR"
      },
      "source": [
        "sector_mapper = {\n",
        "    \"MSFT\": \"Tech\",\n",
        "    \"AMZN\": \"Consumer Discretionary\",\n",
        "    \"KO\": \"Consumer Staples\",\n",
        "    \"MA\": \"Financial Services\",\n",
        "    \"COST\": \"Consumer Staples\",\n",
        "    \"LUV\": \"Aerospace\",\n",
        "    \"XOM\": \"Energy\",\n",
        "    \"PFE\": \"Healthcare\",\n",
        "    \"JPM\": \"Financial Services\",\n",
        "    \"UNH\": \"Healthcare\",\n",
        "    \"ACN\": \"Misc\",\n",
        "    \"DIS\": \"Media\",\n",
        "    \"GILD\": \"Healthcare\",\n",
        "    \"F\": \"Auto\",\n",
        "    \"TSLA\": \"Auto\"\n",
        "}\n",
        "\n",
        "sector_lower = {\n",
        "    \"Consumer Staples\": 0.1, # at least 10% to staples\n",
        "    \"Tech\": 0.05 # at least 5% to tech\n",
        "    # For all other sectors, it will be assumed there is no lower bound\n",
        "}\n",
        "\n",
        "sector_upper = {\n",
        "    \"Tech\": 0.2,\n",
        "    \"Aerospace\":0.1,\n",
        "    \"Energy\": 0.1,\n",
        "    \"Auto\":0.15\n",
        "}"
      ],
      "execution_count": 19,
      "outputs": []
    },
    {
      "cell_type": "markdown",
      "metadata": {
        "id": "cMCQ4bdBeop8"
      },
      "source": [
        "We then set up the optimizer and add our constraints. We can use ef.add_objective() to add other constraints. For example, let's say that in addition to the above sector constraints, I specifically want:\n",
        "\n",
        "- 10% of the portfolio in AMZN\n",
        "- Less than 5% of my portfolio in TSLA"
      ]
    },
    {
      "cell_type": "code",
      "metadata": {
        "id": "DZiZtL4WenM8"
      },
      "source": [
        "mu = expected_returns.capm_return(prices)\n",
        "S = risk_models.CovarianceShrinkage(prices).ledoit_wolf()\n",
        "\n",
        "ef = EfficientFrontier(mu, S)  # weight_bounds automatically set to (0, 1)\n",
        "ef.add_sector_constraints(sector_mapper, sector_lower, sector_upper)\n",
        "\n",
        "amzn_index = ef.tickers.index(\"AMZN\")\n",
        "ef.add_constraint(lambda w: w[amzn_index] == 0.10)\n",
        "\n",
        "tsla_index = ef.tickers.index(\"TSLA\")\n",
        "ef.add_constraint(lambda w: w[tsla_index] <= 0.05)\n",
        "\n",
        "ef.add_constraint(lambda w: w[10] >= 0.05)\n",
        "\n",
        "ef.max_sharpe()\n",
        "weights = ef.clean_weights()"
      ],
      "execution_count": 20,
      "outputs": []
    },
    {
      "cell_type": "code",
      "metadata": {
        "colab": {
          "base_uri": "https://localhost:8080/"
        },
        "id": "AHpkdXqdesDK",
        "outputId": "bd76cf90-2577-4b5c-8f8e-1232772d7d95"
      },
      "source": [
        "weights"
      ],
      "execution_count": 21,
      "outputs": [
        {
          "output_type": "execute_result",
          "data": {
            "text/plain": [
              "OrderedDict([('ACN', 0.16981),\n",
              "             ('AMZN', 0.1),\n",
              "             ('COST', 0.05569),\n",
              "             ('DIS', 0.0),\n",
              "             ('F', 0.0),\n",
              "             ('GILD', 0.06062),\n",
              "             ('JPM', 0.0),\n",
              "             ('KO', 0.04431),\n",
              "             ('LUV', 0.02064),\n",
              "             ('MA', 0.39519),\n",
              "             ('MSFT', 0.05),\n",
              "             ('PFE', 0.0213),\n",
              "             ('TSLA', 0.05),\n",
              "             ('UNH', 0.03244),\n",
              "             ('XOM', 0.0)])"
            ]
          },
          "metadata": {
            "tags": []
          },
          "execution_count": 21
        }
      ]
    },
    {
      "cell_type": "code",
      "metadata": {
        "colab": {
          "base_uri": "https://localhost:8080/",
          "height": 575
        },
        "id": "8BmEhiGOetrg",
        "outputId": "eb64daf8-8d41-4cd0-d5f2-8bf2014c370d"
      },
      "source": [
        "pd.Series(weights).plot.pie(figsize=(10,10));"
      ],
      "execution_count": 22,
      "outputs": [
        {
          "output_type": "display_data",
          "data": {
            "image/png": "[encoded data removed]",
            "text/plain": [
              "<Figure size 720x720 with 1 Axes>"
            ]
          },
          "metadata": {
            "tags": []
          }
        }
      ]
    },
    {
      "cell_type": "markdown",
      "metadata": {
        "id": "jdmBV3zGew74"
      },
      "source": [
        "We can immediately see that our explicit constraints were satisfied, and can check all the sector constraints as follows:"
      ]
    },
    {
      "cell_type": "code",
      "metadata": {
        "colab": {
          "base_uri": "https://localhost:8080/"
        },
        "id": "xXsuLGrkevU_",
        "outputId": "d3e11589-0a29-4566-b5f6-4195f6b95a58"
      },
      "source": [
        "# O(N^2) loop not a good idea in a coding interview :)\n",
        "for sector in set(sector_mapper.values()):\n",
        "    total_weight = 0\n",
        "    for t,w in weights.items():\n",
        "        if sector_mapper[t] == sector:\n",
        "            total_weight += w\n",
        "    print(f\"{sector}: {total_weight:.3f}\")"
      ],
      "execution_count": 23,
      "outputs": [
        {
          "output_type": "stream",
          "text": [
            "Tech: 0.050\n",
            "Energy: 0.000\n",
            "Financial Services: 0.395\n",
            "Consumer Staples: 0.100\n",
            "Misc: 0.170\n",
            "Auto: 0.050\n",
            "Media: 0.000\n",
            "Aerospace: 0.021\n",
            "Consumer Discretionary: 0.100\n",
            "Healthcare: 0.114\n"
          ],
          "name": "stdout"
        }
      ]
    },
    {
      "cell_type": "markdown",
      "metadata": {
        "id": "bV3OHZUle0aq"
      },
      "source": [
        "### Maximise return for a given risk, with L2 regularisation\n",
        "Let's imagine that we've put a lot of thought into our risk tolerance, and have decided that we can't accept anything more than 15% volatility. We can use PyPortfolioOpt to construct a portfolio that maximises return for a given risk (with the same caveats about expected returns)."
      ]
    },
    {
      "cell_type": "code",
      "metadata": {
        "colab": {
          "base_uri": "https://localhost:8080/"
        },
        "id": "y5vA0zd3eyvU",
        "outputId": "b7959998-f03f-4c4f-c39e-1658f9ca7c5e"
      },
      "source": [
        "ef = EfficientFrontier(mu, S)\n",
        "ef.add_sector_constraints(sector_mapper, sector_lower, sector_upper)\n",
        "ef.efficient_risk(target_volatility=0.15)\n",
        "weights = ef.clean_weights()\n",
        "weights"
      ],
      "execution_count": 24,
      "outputs": [
        {
          "output_type": "execute_result",
          "data": {
            "text/plain": [
              "OrderedDict([('ACN', 0.0),\n",
              "             ('AMZN', 0.19301),\n",
              "             ('COST', 0.1),\n",
              "             ('DIS', 0.0),\n",
              "             ('F', 0.0),\n",
              "             ('GILD', 0.05857),\n",
              "             ('JPM', 0.0),\n",
              "             ('KO', 0.0),\n",
              "             ('LUV', 0.0),\n",
              "             ('MA', 0.44842),\n",
              "             ('MSFT', 0.05),\n",
              "             ('PFE', 0.0),\n",
              "             ('TSLA', 0.15),\n",
              "             ('UNH', 0.0),\n",
              "             ('XOM', 0.0)])"
            ]
          },
          "metadata": {
            "tags": []
          },
          "execution_count": 24
        }
      ]
    },
    {
      "cell_type": "code",
      "metadata": {
        "colab": {
          "base_uri": "https://localhost:8080/"
        },
        "id": "fu8xWAPYe2Kc",
        "outputId": "7c2d4e32-0c48-41a8-9dfe-1ab6afb7043c"
      },
      "source": [
        "num_small = len([k for k in weights if weights[k] <= 1e-4])\n",
        "print(f\"{num_small}/{len(ef.tickers)} tickers have zero weight\")"
      ],
      "execution_count": 25,
      "outputs": [
        {
          "output_type": "stream",
          "text": [
            "9/15 tickers have zero weight\n"
          ],
          "name": "stdout"
        }
      ]
    },
    {
      "cell_type": "code",
      "metadata": {
        "colab": {
          "base_uri": "https://localhost:8080/"
        },
        "id": "YBm7Otuee36G",
        "outputId": "b521fa1f-61d1-4592-b88c-6a9bd849715c"
      },
      "source": [
        "ef.portfolio_performance(verbose=True);"
      ],
      "execution_count": 26,
      "outputs": [
        {
          "output_type": "stream",
          "text": [
            "Expected annual return: 27.9%\n",
            "Annual volatility: 15.0%\n",
            "Sharpe Ratio: 1.73\n"
          ],
          "name": "stdout"
        }
      ]
    },
    {
      "cell_type": "markdown",
      "metadata": {
        "id": "ant1U-EGe61q"
      },
      "source": [
        "\n",
        "While this portfolio seems like it meets our objectives, we might be worried by the fact that a lot of the tickers have been assigned zero weight. In effect, the optimizer is \"overfitting\" to the data you have provided -- you are much more likely to get better results by enforcing some level of diversification. One way of doing this is to use L2 regularisation – essentially, adding a penalty on the number of near-zero weights."
      ]
    },
    {
      "cell_type": "code",
      "metadata": {
        "colab": {
          "base_uri": "https://localhost:8080/"
        },
        "id": "jTV3LIYae5ZX",
        "outputId": "ecd421bb-3dbe-4f27-c8d9-b08a4a731388"
      },
      "source": [
        "from pypfopt import objective_functions\n",
        "\n",
        "# You must always create a new efficient frontier object\n",
        "ef = EfficientFrontier(mu, S)\n",
        "ef.add_sector_constraints(sector_mapper, sector_lower, sector_upper)\n",
        "ef.add_objective(objective_functions.L2_reg, gamma=0.1)  # gamme is the tuning parameter\n",
        "ef.efficient_risk(0.15)\n",
        "weights = ef.clean_weights()\n",
        "weights"
      ],
      "execution_count": 27,
      "outputs": [
        {
          "output_type": "execute_result",
          "data": {
            "text/plain": [
              "OrderedDict([('ACN', 0.04578),\n",
              "             ('AMZN', 0.20792),\n",
              "             ('COST', 0.0896),\n",
              "             ('DIS', 0.01115),\n",
              "             ('F', 0.0),\n",
              "             ('GILD', 0.08367),\n",
              "             ('JPM', 0.04447),\n",
              "             ('KO', 0.0104),\n",
              "             ('LUV', 0.02793),\n",
              "             ('MA', 0.2458),\n",
              "             ('MSFT', 0.05),\n",
              "             ('PFE', 0.0),\n",
              "             ('TSLA', 0.15),\n",
              "             ('UNH', 0.03328),\n",
              "             ('XOM', 0.0)])"
            ]
          },
          "metadata": {
            "tags": []
          },
          "execution_count": 27
        }
      ]
    },
    {
      "cell_type": "code",
      "metadata": {
        "colab": {
          "base_uri": "https://localhost:8080/"
        },
        "id": "5cRZMEhae8ou",
        "outputId": "fafb7a89-532f-4965-9a44-536faeb94027"
      },
      "source": [
        "num_small = len([k for k in weights if weights[k] <= 1e-4])\n",
        "print(f\"{num_small}/{len(ef.tickers)} tickers have zero weight\")"
      ],
      "execution_count": 28,
      "outputs": [
        {
          "output_type": "stream",
          "text": [
            "3/15 tickers have zero weight\n"
          ],
          "name": "stdout"
        }
      ]
    },
    {
      "cell_type": "markdown",
      "metadata": {
        "id": "iz-aSuz5fALW"
      },
      "source": [
        "\n",
        "We can tune the value of gamma to choose the number of nonzero tickers. Larger gamma pulls portfolio weights towards an equal allocation."
      ]
    },
    {
      "cell_type": "code",
      "metadata": {
        "colab": {
          "base_uri": "https://localhost:8080/"
        },
        "id": "wF0QtfBke-V1",
        "outputId": "53b9805e-1d2f-4e20-8f94-b8c3121afd20"
      },
      "source": [
        "ef = EfficientFrontier(mu, S)\n",
        "ef.add_sector_constraints(sector_mapper, sector_lower, sector_upper)\n",
        "ef.add_objective(objective_functions.L2_reg, gamma=1)  # gamme is the tuning parameter\n",
        "ef.efficient_risk(0.15)\n",
        "weights = ef.clean_weights()\n",
        "weights"
      ],
      "execution_count": 29,
      "outputs": [
        {
          "output_type": "execute_result",
          "data": {
            "text/plain": [
              "OrderedDict([('ACN', 0.05547),\n",
              "             ('AMZN', 0.13122),\n",
              "             ('COST', 0.06167),\n",
              "             ('DIS', 0.06287),\n",
              "             ('F', 0.06056),\n",
              "             ('GILD', 0.08025),\n",
              "             ('JPM', 0.07772),\n",
              "             ('KO', 0.03833),\n",
              "             ('LUV', 0.06467),\n",
              "             ('MA', 0.08303),\n",
              "             ('MSFT', 0.07082),\n",
              "             ('PFE', 0.04054),\n",
              "             ('TSLA', 0.08944),\n",
              "             ('UNH', 0.06211),\n",
              "             ('XOM', 0.02131)])"
            ]
          },
          "metadata": {
            "tags": []
          },
          "execution_count": 29
        }
      ]
    },
    {
      "cell_type": "code",
      "metadata": {
        "colab": {
          "base_uri": "https://localhost:8080/",
          "height": 575
        },
        "id": "U8UDQZKofCwk",
        "outputId": "b535943d-5378-4def-9c0e-890dc0f2b9bf"
      },
      "source": [
        "pd.Series(weights).plot.pie(figsize=(10, 10));"
      ],
      "execution_count": 30,
      "outputs": [
        {
          "output_type": "display_data",
          "data": {
            "image/png": "[encoded data removed]",
            "text/plain": [
              "<Figure size 720x720 with 1 Axes>"
            ]
          },
          "metadata": {
            "tags": []
          }
        }
      ]
    },
    {
      "cell_type": "code",
      "metadata": {
        "colab": {
          "base_uri": "https://localhost:8080/"
        },
        "id": "RCJ7Ckm9fEsq",
        "outputId": "d5ab6953-15eb-4609-9cd6-993868f1922a"
      },
      "source": [
        "ef.portfolio_performance(verbose=True);"
      ],
      "execution_count": 31,
      "outputs": [
        {
          "output_type": "stream",
          "text": [
            "Expected annual return: 24.9%\n",
            "Annual volatility: 14.8%\n",
            "Sharpe Ratio: 1.55\n"
          ],
          "name": "stdout"
        }
      ]
    },
    {
      "cell_type": "markdown",
      "metadata": {
        "id": "HtBk_9t5fIH0"
      },
      "source": [
        "The resulting portfolio still has a volatility of less than our 15% limit. It's in-sample Sharpe ratio has gone down, but this portfolio is a lot more robust for actual investment."
      ]
    },
    {
      "cell_type": "markdown",
      "metadata": {
        "id": "Ddb4C7UnfI4r"
      },
      "source": [
        "### Minimise risk for a given return, market-neutral\n",
        "We may instead be in the situation where we have a certain required rate of return (maybe we are a pension fund that needs 7% return a year), but would like to minimise risk. Additionally, suppose we would like our portfolio to be market neutral, in the sense that it is equally exposed to the long and short sides."
      ]
    },
    {
      "cell_type": "code",
      "metadata": {
        "colab": {
          "base_uri": "https://localhost:8080/"
        },
        "id": "ZRt-I9hrfGqV",
        "outputId": "4edb4f8d-5480-4981-deab-f872b47e8bd3"
      },
      "source": [
        "# Must have no weight bounds to allow shorts\n",
        "ef = EfficientFrontier(mu, S, weight_bounds=(None, None))\n",
        "ef.add_objective(objective_functions.L2_reg)\n",
        "ef.efficient_return(target_return=0.07, market_neutral=True)\n",
        "weights = ef.clean_weights()\n",
        "weights"
      ],
      "execution_count": 32,
      "outputs": [
        {
          "output_type": "execute_result",
          "data": {
            "text/plain": [
              "OrderedDict([('ACN', -0.03561),\n",
              "             ('AMZN', 0.21711),\n",
              "             ('COST', -0.05906),\n",
              "             ('DIS', -0.00419),\n",
              "             ('F', -0.00628),\n",
              "             ('GILD', 0.0492),\n",
              "             ('JPM', 0.04503),\n",
              "             ('KO', -0.13762),\n",
              "             ('LUV', -0.00045),\n",
              "             ('MA', 0.06454),\n",
              "             ('MSFT', 0.0195),\n",
              "             ('PFE', -0.083),\n",
              "             ('TSLA', 0.09222),\n",
              "             ('UNH', -0.00868),\n",
              "             ('XOM', -0.15272)])"
            ]
          },
          "metadata": {
            "tags": []
          },
          "execution_count": 32
        }
      ]
    },
    {
      "cell_type": "code",
      "metadata": {
        "colab": {
          "base_uri": "https://localhost:8080/"
        },
        "id": "uGh_aiQ0fLu6",
        "outputId": "6a32ac41-c03c-4b0a-bdbb-7cd049b02151"
      },
      "source": [
        "ef.portfolio_performance(verbose=True);"
      ],
      "execution_count": 33,
      "outputs": [
        {
          "output_type": "stream",
          "text": [
            "Expected annual return: 7.0%\n",
            "Annual volatility: 10.5%\n",
            "Sharpe Ratio: 0.48\n"
          ],
          "name": "stdout"
        }
      ]
    },
    {
      "cell_type": "code",
      "metadata": {
        "colab": {
          "base_uri": "https://localhost:8080/",
          "height": 374
        },
        "id": "2oz-M0npfNRe",
        "outputId": "32d27fd8-94cd-4c06-99cb-7c386eee8d6f"
      },
      "source": [
        "pd.Series(weights).plot.barh(figsize=(10,6));"
      ],
      "execution_count": 34,
      "outputs": [
        {
          "output_type": "display_data",
          "data": {
            "image/png": "[encoded data removed]",
            "text/plain": [
              "<Figure size 720x432 with 1 Axes>"
            ]
          },
          "metadata": {
            "tags": [],
            "needs_background": "light"
          }
        }
      ]
    },
    {
      "cell_type": "code",
      "metadata": {
        "colab": {
          "base_uri": "https://localhost:8080/"
        },
        "id": "39-UsbNVfO_h",
        "outputId": "80d198cb-9897-4f88-fe3f-c42129278527"
      },
      "source": [
        "print(f\"Net weight: {sum(weights.values()):.2f}\")"
      ],
      "execution_count": 35,
      "outputs": [
        {
          "output_type": "stream",
          "text": [
            "Net weight: -0.00\n"
          ],
          "name": "stdout"
        }
      ]
    },
    {
      "cell_type": "markdown",
      "metadata": {
        "id": "3O5EhesifSXg"
      },
      "source": [
        "### Efficient semi-variance optimization\n",
        "In this example, we will minimise the portfolio semivariance (i.e downside volatility) subject to a return constraint (target 20%).\n",
        "\n",
        "There are actually two ways of doing this in PyPortfolioOpt. The first is the \"intuitive\" way. We compute a semicovariance matrix, and pass this into EfficientFrontier (just like we would do for the exponential cov matrix or the Ledoit-Wolf shrunk matrix)."
      ]
    },
    {
      "cell_type": "code",
      "metadata": {
        "colab": {
          "base_uri": "https://localhost:8080/",
          "height": 297
        },
        "id": "9xLy7yPlfQH4",
        "outputId": "b424394f-68c9-4714-d7be-d17a98fd5f99"
      },
      "source": [
        "semicov = risk_models.semicovariance(prices, benchmark=0)\n",
        "plotting.plot_covariance(semicov);"
      ],
      "execution_count": 36,
      "outputs": [
        {
          "output_type": "display_data",
          "data": {
            "image/png": "[encoded data removed]",
            "text/plain": [
              "<Figure size 432x288 with 2 Axes>"
            ]
          },
          "metadata": {
            "tags": [],
            "needs_background": "light"
          }
        }
      ]
    },
    {
      "cell_type": "code",
      "metadata": {
        "colab": {
          "base_uri": "https://localhost:8080/"
        },
        "id": "MKJs1w_ofUdE",
        "outputId": "dee14981-a9f8-44b3-d652-96d771b2f7d8"
      },
      "source": [
        "ef = EfficientFrontier(mu, semicov)\n",
        "ef.efficient_return(0.2)\n",
        "weights = ef.clean_weights()\n",
        "weights"
      ],
      "execution_count": 37,
      "outputs": [
        {
          "output_type": "execute_result",
          "data": {
            "text/plain": [
              "OrderedDict([('ACN', 0.25584),\n",
              "             ('AMZN', 0.0),\n",
              "             ('COST', 0.08766),\n",
              "             ('DIS', 0.0),\n",
              "             ('F', 0.0),\n",
              "             ('GILD', 0.00766),\n",
              "             ('JPM', 0.0),\n",
              "             ('KO', 0.12849),\n",
              "             ('LUV', 0.0),\n",
              "             ('MA', 0.31329),\n",
              "             ('MSFT', 0.0),\n",
              "             ('PFE', 0.04797),\n",
              "             ('TSLA', 0.15061),\n",
              "             ('UNH', 0.0),\n",
              "             ('XOM', 0.00847)])"
            ]
          },
          "metadata": {
            "tags": []
          },
          "execution_count": 37
        }
      ]
    },
    {
      "cell_type": "code",
      "metadata": {
        "colab": {
          "base_uri": "https://localhost:8080/"
        },
        "id": "7lhNxUQlfV5w",
        "outputId": "c13d36ac-ab97-4d80-a505-0d78bd979530"
      },
      "source": [
        "ef.portfolio_performance(verbose=True);"
      ],
      "execution_count": 38,
      "outputs": [
        {
          "output_type": "stream",
          "text": [
            "Expected annual return: 22.8%\n",
            "Annual volatility: 8.9%\n",
            "Sharpe Ratio: 2.35\n"
          ],
          "name": "stdout"
        }
      ]
    },
    {
      "cell_type": "code",
      "metadata": {
        "id": "YPpvcDeNfYDP"
      },
      "source": [
        "returns = expected_returns.returns_from_prices(prices)\n",
        "returns = returns.dropna()"
      ],
      "execution_count": 39,
      "outputs": []
    },
    {
      "cell_type": "code",
      "metadata": {
        "colab": {
          "base_uri": "https://localhost:8080/"
        },
        "id": "Ooz6m3RNfZ0T",
        "outputId": "f2e09ed4-9414-4ac8-8e08-693730206a88"
      },
      "source": [
        "from pypfopt import EfficientSemivariance\n",
        "\n",
        "es = EfficientSemivariance(mu, returns)\n",
        "es.efficient_return(0.2)\n",
        "es.portfolio_performance(verbose=True);"
      ],
      "execution_count": 40,
      "outputs": [
        {
          "output_type": "stream",
          "text": [
            "Expected annual return: 20.0%\n",
            "Annual semi-deviation: 10.2%\n",
            "Sortino Ratio: 1.76\n"
          ],
          "name": "stdout"
        }
      ]
    },
    {
      "cell_type": "markdown",
      "metadata": {
        "id": "9RjKumTGfcgM"
      },
      "source": [
        "To compare this with the heuristic solution, I will use a quick hack: replacing the es.weights with es.weights and running es.portfolio_performance again. Please don't be encouraged to do this in real life!"
      ]
    },
    {
      "cell_type": "code",
      "metadata": {
        "colab": {
          "base_uri": "https://localhost:8080/"
        },
        "id": "NCup6z3Nfa-5",
        "outputId": "a20df72c-578e-4ddf-c204-e903455df9a7"
      },
      "source": [
        "es.weights = ef.weights\n",
        "es.portfolio_performance(verbose=True);"
      ],
      "execution_count": 41,
      "outputs": [
        {
          "output_type": "stream",
          "text": [
            "Expected annual return: 22.8%\n",
            "Annual semi-deviation: 14.2%\n",
            "Sortino Ratio: 1.47\n"
          ],
          "name": "stdout"
        }
      ]
    },
    {
      "cell_type": "markdown",
      "metadata": {
        "id": "xhvdvnXsffzt"
      },
      "source": [
        "### Efficient CVaR optimization\n",
        "In this example, we will find the portfolio that maximises return subject to a CVaR constraint.\n",
        "\n",
        "Before doing this, let's first compute the 95%-CVaR for the max-sharpe portfolio."
      ]
    },
    {
      "cell_type": "code",
      "metadata": {
        "colab": {
          "base_uri": "https://localhost:8080/",
          "height": 340
        },
        "id": "UjlnWo04feay",
        "outputId": "33626ea1-a158-45e9-c663-b63d7da4c85c"
      },
      "source": [
        "returns = expected_returns.returns_from_prices(prices).dropna()\n",
        "returns.head()"
      ],
      "execution_count": 42,
      "outputs": [
        {
          "output_type": "execute_result",
          "data": {
            "text/html": [
              "<div>\n",
              "<style scoped>\n",
              "    .dataframe tbody tr th:only-of-type {\n",
              "        vertical-align: middle;\n",
              "    }\n",
              "\n",
              "    .dataframe tbody tr th {\n",
              "        vertical-align: top;\n",
              "    }\n",
              "\n",
              "    .dataframe thead th {\n",
              "        text-align: right;\n",
              "    }\n",
              "</style>\n",
              "<table border=\"1\" class=\"dataframe\">\n",
              "  <thead>\n",
              "    <tr style=\"text-align: right;\">\n",
              "      <th></th>\n",
              "      <th>ACN</th>\n",
              "      <th>AMZN</th>\n",
              "      <th>COST</th>\n",
              "      <th>DIS</th>\n",
              "      <th>F</th>\n",
              "      <th>GILD</th>\n",
              "      <th>JPM</th>\n",
              "      <th>KO</th>\n",
              "      <th>LUV</th>\n",
              "      <th>MA</th>\n",
              "      <th>MSFT</th>\n",
              "      <th>PFE</th>\n",
              "      <th>TSLA</th>\n",
              "      <th>UNH</th>\n",
              "      <th>XOM</th>\n",
              "    </tr>\n",
              "    <tr>\n",
              "      <th>Date</th>\n",
              "      <th></th>\n",
              "      <th></th>\n",
              "      <th></th>\n",
              "      <th></th>\n",
              "      <th></th>\n",
              "      <th></th>\n",
              "      <th></th>\n",
              "      <th></th>\n",
              "      <th></th>\n",
              "      <th></th>\n",
              "      <th></th>\n",
              "      <th></th>\n",
              "      <th></th>\n",
              "      <th></th>\n",
              "      <th></th>\n",
              "    </tr>\n",
              "  </thead>\n",
              "  <tbody>\n",
              "    <tr>\n",
              "      <th>2010-06-30</th>\n",
              "      <td>0.000000</td>\n",
              "      <td>0.005985</td>\n",
              "      <td>-0.014381</td>\n",
              "      <td>-0.024768</td>\n",
              "      <td>0.020243</td>\n",
              "      <td>-0.019731</td>\n",
              "      <td>-0.012143</td>\n",
              "      <td>-0.004173</td>\n",
              "      <td>0.000000</td>\n",
              "      <td>-0.017045</td>\n",
              "      <td>-0.012870</td>\n",
              "      <td>-0.001400</td>\n",
              "      <td>-0.002512</td>\n",
              "      <td>-0.008034</td>\n",
              "      <td>-0.003840</td>\n",
              "    </tr>\n",
              "    <tr>\n",
              "      <th>2010-07-01</th>\n",
              "      <td>-0.009573</td>\n",
              "      <td>0.015559</td>\n",
              "      <td>0.001276</td>\n",
              "      <td>-0.000317</td>\n",
              "      <td>0.048611</td>\n",
              "      <td>-0.004084</td>\n",
              "      <td>-0.013129</td>\n",
              "      <td>-0.001796</td>\n",
              "      <td>-0.010802</td>\n",
              "      <td>0.016652</td>\n",
              "      <td>0.006519</td>\n",
              "      <td>-0.002104</td>\n",
              "      <td>-0.078472</td>\n",
              "      <td>-0.019366</td>\n",
              "      <td>-0.008060</td>\n",
              "    </tr>\n",
              "    <tr>\n",
              "      <th>2010-07-02</th>\n",
              "      <td>-0.008882</td>\n",
              "      <td>-0.016402</td>\n",
              "      <td>-0.012204</td>\n",
              "      <td>-0.003493</td>\n",
              "      <td>-0.027436</td>\n",
              "      <td>0.021382</td>\n",
              "      <td>-0.006929</td>\n",
              "      <td>0.000399</td>\n",
              "      <td>-0.021838</td>\n",
              "      <td>0.000345</td>\n",
              "      <td>0.004749</td>\n",
              "      <td>-0.006325</td>\n",
              "      <td>-0.125683</td>\n",
              "      <td>0.016158</td>\n",
              "      <td>-0.000707</td>\n",
              "    </tr>\n",
              "    <tr>\n",
              "      <th>2010-07-06</th>\n",
              "      <td>0.012388</td>\n",
              "      <td>0.008430</td>\n",
              "      <td>-0.004242</td>\n",
              "      <td>0.010835</td>\n",
              "      <td>-0.011673</td>\n",
              "      <td>-0.002867</td>\n",
              "      <td>0.013955</td>\n",
              "      <td>0.007593</td>\n",
              "      <td>-0.011163</td>\n",
              "      <td>-0.013513</td>\n",
              "      <td>0.023636</td>\n",
              "      <td>0.010608</td>\n",
              "      <td>-0.160938</td>\n",
              "      <td>0.020848</td>\n",
              "      <td>0.015733</td>\n",
              "    </tr>\n",
              "    <tr>\n",
              "      <th>2010-07-07</th>\n",
              "      <td>0.022129</td>\n",
              "      <td>0.030620</td>\n",
              "      <td>0.005371</td>\n",
              "      <td>0.044767</td>\n",
              "      <td>0.042323</td>\n",
              "      <td>0.004889</td>\n",
              "      <td>0.050096</td>\n",
              "      <td>0.020623</td>\n",
              "      <td>0.062088</td>\n",
              "      <td>0.037694</td>\n",
              "      <td>0.020151</td>\n",
              "      <td>0.023093</td>\n",
              "      <td>-0.019243</td>\n",
              "      <td>0.010730</td>\n",
              "      <td>0.016881</td>\n",
              "    </tr>\n",
              "  </tbody>\n",
              "</table>\n",
              "</div>"
            ],
            "text/plain": [
              "                 ACN      AMZN      COST  ...      TSLA       UNH       XOM\n",
              "Date                                      ...                              \n",
              "2010-06-30  0.000000  0.005985 -0.014381  ... -0.002512 -0.008034 -0.003840\n",
              "2010-07-01 -0.009573  0.015559  0.001276  ... -0.078472 -0.019366 -0.008060\n",
              "2010-07-02 -0.008882 -0.016402 -0.012204  ... -0.125683  0.016158 -0.000707\n",
              "2010-07-06  0.012388  0.008430 -0.004242  ... -0.160938  0.020848  0.015733\n",
              "2010-07-07  0.022129  0.030620  0.005371  ... -0.019243  0.010730  0.016881\n",
              "\n",
              "[5 rows x 15 columns]"
            ]
          },
          "metadata": {
            "tags": []
          },
          "execution_count": 42
        }
      ]
    },
    {
      "cell_type": "code",
      "metadata": {
        "colab": {
          "base_uri": "https://localhost:8080/"
        },
        "id": "J04QAZh7fh31",
        "outputId": "7799b31e-6243-40ab-aa65-d138cfef8f3f"
      },
      "source": [
        "ef = EfficientFrontier(mu, S)\n",
        "ef.max_sharpe()\n",
        "weight_arr = ef.weights\n",
        "ef.portfolio_performance(verbose=True);"
      ],
      "execution_count": 43,
      "outputs": [
        {
          "output_type": "stream",
          "text": [
            "Expected annual return: 25.7%\n",
            "Annual volatility: 12.8%\n",
            "Sharpe Ratio: 1.85\n"
          ],
          "name": "stdout"
        }
      ]
    },
    {
      "cell_type": "code",
      "metadata": {
        "colab": {
          "base_uri": "https://localhost:8080/",
          "height": 265
        },
        "id": "jS6UjHgcflFg",
        "outputId": "5bdf0fbd-5bae-4fae-e199-0d164221cbaa"
      },
      "source": [
        "# Compute CVaR\n",
        "portfolio_rets = (returns * weight_arr).sum(axis=1)\n",
        "portfolio_rets.hist(bins=50);"
      ],
      "execution_count": 44,
      "outputs": [
        {
          "output_type": "display_data",
          "data": {
            "image/png": "[encoded data removed]",
            "text/plain": [
              "<Figure size 432x288 with 1 Axes>"
            ]
          },
          "metadata": {
            "tags": [],
            "needs_background": "light"
          }
        }
      ]
    },
    {
      "cell_type": "code",
      "metadata": {
        "colab": {
          "base_uri": "https://localhost:8080/"
        },
        "id": "VaN5tyKnfnLP",
        "outputId": "f369870d-4ae3-4a5f-b2e0-bad8dfbec7f6"
      },
      "source": [
        "# VaR\n",
        "var = portfolio_rets.quantile(0.05)\n",
        "cvar = portfolio_rets[portfolio_rets <= var].mean()\n",
        "print(\"VaR: {:.2f}%\".format(100*var))\n",
        "print(\"CVaR: {:.2f}%\".format(100*cvar))"
      ],
      "execution_count": 45,
      "outputs": [
        {
          "output_type": "stream",
          "text": [
            "VaR: -2.16%\n",
            "CVaR: -3.31%\n"
          ],
          "name": "stdout"
        }
      ]
    },
    {
      "cell_type": "markdown",
      "metadata": {
        "id": "hJrpMxL6fp6P"
      },
      "source": [
        "This value of the CVaR means that our average loss on the worst 5% of days will be -3.35%. Let's say that this were beyond our comfort zone (for a \\$100,000 portfolio, this would mean losing \\\\$3350 in a day).\n",
        "\n",
        "Let's firstly construct the portfolio with the minimum CVaR:"
      ]
    },
    {
      "cell_type": "code",
      "metadata": {
        "colab": {
          "base_uri": "https://localhost:8080/"
        },
        "id": "-ootNK1Ifokc",
        "outputId": "48dd4824-3c29-43fd-f69a-e50172eb83e8"
      },
      "source": [
        "from pypfopt import EfficientCVaR\n",
        "\n",
        "ec = EfficientCVaR(mu, returns)\n",
        "ec.min_cvar()\n",
        "ec.portfolio_performance(verbose=True);"
      ],
      "execution_count": 46,
      "outputs": [
        {
          "output_type": "stream",
          "text": [
            "Expected annual return: 18.2%\n",
            "Conditional Value at Risk: 2.14%\n"
          ],
          "name": "stdout"
        }
      ]
    },
    {
      "cell_type": "markdown",
      "metadata": {
        "id": "7rDXMuoxftK8"
      },
      "source": [
        "We have significantly reduced the CVaR, but at the cost of a large reduction in returns. We can use efficient_risk to maximise the return for a target risk. Let's say that a 2.5% CVaR is acceptable."
      ]
    },
    {
      "cell_type": "code",
      "metadata": {
        "colab": {
          "base_uri": "https://localhost:8080/"
        },
        "id": "LAGXV4BEfrYt",
        "outputId": "5212bb39-52b4-4e79-8301-473ece6e4639"
      },
      "source": [
        "from pypfopt import EfficientCVaR\n",
        "\n",
        "ec = EfficientCVaR(mu, returns)\n",
        "ec.efficient_risk(target_cvar=0.025)\n",
        "ec.portfolio_performance(verbose=True);"
      ],
      "execution_count": 47,
      "outputs": [
        {
          "output_type": "stream",
          "text": [
            "Expected annual return: 24.9%\n",
            "Conditional Value at Risk: 2.50%\n"
          ],
          "name": "stdout"
        }
      ]
    },
    {
      "cell_type": "markdown",
      "metadata": {
        "id": "kiBhV_yVfwxa"
      },
      "source": [
        "We now have similar returns to before (24.7% vs 25.8%), but with a lower tail risk (2.50% CVaR vs 3.35%)."
      ]
    },
    {
      "cell_type": "markdown",
      "metadata": {
        "id": "7vJBJIY4fylk"
      },
      "source": [
        "### Plotting - Unconstrained\n",
        "To plot the unconstrained efficient frontier, it is easiest to use the critical line algorithm."
      ]
    },
    {
      "cell_type": "code",
      "metadata": {
        "colab": {
          "base_uri": "https://localhost:8080/"
        },
        "id": "ji7xc52NfvUv",
        "outputId": "b159d520-2744-43c8-ff53-65a6f1f94f14"
      },
      "source": [
        "from pypfopt import CLA, plotting\n",
        "\n",
        "cla = CLA(mu, S)\n",
        "cla.max_sharpe()\n",
        "cla.portfolio_performance(verbose=True);"
      ],
      "execution_count": 48,
      "outputs": [
        {
          "output_type": "stream",
          "text": [
            "Expected annual return: 25.4%\n",
            "Annual volatility: 12.7%\n",
            "Sharpe Ratio: 1.84\n"
          ],
          "name": "stdout"
        }
      ]
    },
    {
      "cell_type": "code",
      "metadata": {
        "colab": {
          "base_uri": "https://localhost:8080/",
          "height": 297
        },
        "id": "HHIZIfyqf1OZ",
        "outputId": "3a0d41e8-7d01-4831-fa95-fa3aa923a9db"
      },
      "source": [
        "ax = plotting.plot_efficient_frontier(cla, showfig=False)"
      ],
      "execution_count": 49,
      "outputs": [
        {
          "output_type": "display_data",
          "data": {
            "image/png": "[encoded data removed]",
            "text/plain": [
              "<Figure size 432x288 with 1 Axes>"
            ]
          },
          "metadata": {
            "tags": [],
            "needs_background": "light"
          }
        }
      ]
    },
    {
      "cell_type": "markdown",
      "metadata": {
        "id": "0Y1ke6k1f5oC"
      },
      "source": [
        "### Plotting - Constrained\n",
        "In this example, we will plot the efficient frontier corresponding to portfolios with a constraint on exposure to MSFT, AMZN, and TSLA (e.g maybe we want to avoid big tech)."
      ]
    },
    {
      "cell_type": "code",
      "metadata": {
        "id": "XM_JGjnyf2i0"
      },
      "source": [
        "import cvxpy as cp\n",
        "\n",
        "mu = expected_returns.capm_return(prices)\n",
        "S = risk_models.CovarianceShrinkage(prices).ledoit_wolf()\n",
        "\n",
        "ef = EfficientFrontier(mu, S,)\n",
        "big_tech_indices = [t in {\"MSFT\", \"AMZN\", \"TSLA\"} for t in tickers]\n",
        "ef.add_constraint(lambda w: cp.sum(w[big_tech_indices]) <= 0.3)"
      ],
      "execution_count": 50,
      "outputs": []
    },
    {
      "cell_type": "markdown",
      "metadata": {
        "id": "94Zp2iGvf9t1"
      },
      "source": [
        "As per the docs, before we call any optimization function, we should pass this to the plotting module:"
      ]
    },
    {
      "cell_type": "code",
      "metadata": {
        "colab": {
          "base_uri": "https://localhost:8080/",
          "height": 297
        },
        "id": "kUZZK9aif7f8",
        "outputId": "85810c73-ec7f-4788-dfc9-1b48a7899888"
      },
      "source": [
        "ax = plotting.plot_efficient_frontier(ef, ef_param=\"risk\", \n",
        "                                      ef_param_range=np.linspace(0.12, 0.4, 50), \n",
        "                                      showfig=False);"
      ],
      "execution_count": 51,
      "outputs": [
        {
          "output_type": "display_data",
          "data": {
            "image/png": "[encoded data removed]",
            "text/plain": [
              "<Figure size 432x288 with 1 Axes>"
            ]
          },
          "metadata": {
            "tags": [],
            "needs_background": "light"
          }
        }
      ]
    },
    {
      "cell_type": "markdown",
      "metadata": {
        "id": "zyODYxQKgA1j"
      },
      "source": [
        "### Complex plots\n",
        "The plotting module allows you to pass in an ax, on top of which the plots are added. This allows you to build complex plots.\n",
        "\n",
        "In this example, we will plot the efficient frontier as well as 10,000 simulated portfolios.\n",
        "\n",
        "To generate the simulated portfolios, we will sample random weights from the Dirichlet distribution (these are already normalised):"
      ]
    },
    {
      "cell_type": "code",
      "metadata": {
        "colab": {
          "base_uri": "https://localhost:8080/"
        },
        "id": "n_Ly_j_-f_W2",
        "outputId": "f5593690-aec4-425e-d5cb-4d81834b864c"
      },
      "source": [
        "n_samples = 10000\n",
        "w = np.random.dirichlet(np.ones(len(mu)), n_samples)\n",
        "rets = w.dot(mu)\n",
        "stds = np.sqrt((w.T * (S @ w.T)).sum(axis=0))\n",
        "sharpes = rets / stds\n",
        "\n",
        "print(\"Sample portfolio returns:\", rets)\n",
        "print(\"Sample portfolio volatilities:\", stds)"
      ],
      "execution_count": 52,
      "outputs": [
        {
          "output_type": "stream",
          "text": [
            "Sample portfolio returns: [0.24646514 0.21514594 0.22023875 ... 0.22880419 0.23115198 0.23719165]\n",
            "Sample portfolio volatilities: 0       0.150028\n",
            "1       0.144460\n",
            "2       0.150220\n",
            "3       0.155745\n",
            "4       0.143404\n",
            "          ...   \n",
            "9995    0.173928\n",
            "9996    0.146797\n",
            "9997    0.157143\n",
            "9998    0.163827\n",
            "9999    0.191853\n",
            "Length: 10000, dtype: float64\n"
          ],
          "name": "stdout"
        }
      ]
    },
    {
      "cell_type": "markdown",
      "metadata": {
        "id": "yp8wqhyzgFet"
      },
      "source": [
        "Note that the above code is equivalent to generating samples via a for loop (just more efficient)\n",
        "\n"
      ]
    },
    {
      "cell_type": "code",
      "metadata": {
        "id": "QO1JN46hgDZo"
      },
      "source": [
        "# mus = []\n",
        "# stds = []\n",
        "# sharpes = []\n",
        "# for _ in range(10000):\n",
        "#     w = np.random.dirichlet(np.ones(len(mu)))\n",
        "#     # w = np.random.rand(len(mu))\n",
        "#     # w /= w.sum()\n",
        "#     ret = mu.dot(w)\n",
        "#     std = np.sqrt(w.dot(S @ w))\n",
        "#     mus.append(ret)\n",
        "#     stds.append(std)\n",
        "#     sharpes.append(ret / std)"
      ],
      "execution_count": 53,
      "outputs": []
    },
    {
      "cell_type": "code",
      "metadata": {
        "colab": {
          "base_uri": "https://localhost:8080/",
          "height": 297
        },
        "id": "_4CELHPwgG-G",
        "outputId": "438a3172-1c90-43d3-c35e-1b3c80645c74"
      },
      "source": [
        "# Plot efficient frontier with Monte Carlo sim\n",
        "ef = EfficientFrontier(mu, S)\n",
        "\n",
        "fig, ax = plt.subplots()\n",
        "plotting.plot_efficient_frontier(ef, ax=ax, show_assets=False)\n",
        "\n",
        "# Find and plot the tangency portfolio\n",
        "ef.max_sharpe()\n",
        "ret_tangent, std_tangent, _ = ef.portfolio_performance()\n",
        "ax.scatter(std_tangent, ret_tangent, marker=\"*\", s=100, c=\"r\", label=\"Max Sharpe\")\n",
        "\n",
        "# Plot random portfolios\n",
        "ax.scatter(stds, rets, marker=\".\", c=sharpes, cmap=\"viridis_r\")\n",
        "\n",
        "# Format\n",
        "ax.set_title(\"Efficient Frontier with random portfolios\")\n",
        "ax.legend()\n",
        "plt.tight_layout()\n",
        "plt.show()"
      ],
      "execution_count": 54,
      "outputs": [
        {
          "output_type": "display_data",
          "data": {
            "image/png": "[encoded data removed]",
            "text/plain": [
              "<Figure size 432x288 with 1 Axes>"
            ]
          },
          "metadata": {
            "tags": [],
            "needs_background": "light"
          }
        }
      ]
    },
    {
      "cell_type": "code",
      "metadata": {
        "id": "Xv-_D7wJgIcD"
      },
      "source": [
        ""
      ],
      "execution_count": 54,
      "outputs": []
    }
  ]
}